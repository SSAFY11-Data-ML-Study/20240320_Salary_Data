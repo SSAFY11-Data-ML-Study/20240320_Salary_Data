{
  "nbformat": 4,
  "nbformat_minor": 0,
  "metadata": {
    "colab": {
      "provenance": [],
      "mount_file_id": "1rvwaRngHL6rJXJW2BIfbLlQgomOtslrp",
      "authorship_tag": "ABX9TyNOdqCrphn+YGVGQnmfylxl"
    },
    "kernelspec": {
      "name": "python3",
      "display_name": "Python 3"
    },
    "language_info": {
      "name": "python"
    }
  },
  "cells": [
    {
      "cell_type": "markdown",
      "source": [
        "Data: https://dacon.io/competitions/official/236230"
      ],
      "metadata": {
        "id": "PP_4-W0uduts"
      }
    },
    {
      "cell_type": "code",
      "source": [
        "from google.colab import drive\n",
        "drive.mount('/content/drive')"
      ],
      "metadata": {
        "colab": {
          "base_uri": "https://localhost:8080/"
        },
        "id": "PtP7OqypDH4p",
        "outputId": "a6e844a5-1f09-40f6-d744-edcbd1d9f6f0"
      },
      "execution_count": null,
      "outputs": [
        {
          "output_type": "stream",
          "name": "stdout",
          "text": [
            "Drive already mounted at /content/drive; to attempt to forcibly remount, call drive.mount(\"/content/drive\", force_remount=True).\n"
          ]
        }
      ]
    },
    {
      "cell_type": "markdown",
      "source": [
        "## 1. 데이터"
      ],
      "metadata": {
        "id": "KqV0D9FCdIB5"
      }
    },
    {
      "cell_type": "markdown",
      "source": [
        "### 1-1. 데이터 호출"
      ],
      "metadata": {
        "id": "a0mrMuG_dJ7i"
      }
    },
    {
      "cell_type": "code",
      "source": [
        "import pandas as pd\n",
        "import numpy as np"
      ],
      "metadata": {
        "id": "gV0KqssFDfpO"
      },
      "execution_count": null,
      "outputs": []
    },
    {
      "cell_type": "code",
      "source": [
        "train = pd.read_csv(\"/content/drive/MyDrive/data_0325/train.csv\")\n",
        "test = pd.read_csv(\"/content/drive/MyDrive/data_0325/test.csv\")"
      ],
      "metadata": {
        "id": "9SqZiSKyDj9h"
      },
      "execution_count": null,
      "outputs": []
    },
    {
      "cell_type": "markdown",
      "source": [
        "### 1-2. 데이터 전처리"
      ],
      "metadata": {
        "id": "D-IB6lg5dLgZ"
      }
    },
    {
      "cell_type": "markdown",
      "source": [
        "#### 1-2-a. 결측치 확인 및 제거"
      ],
      "metadata": {
        "id": "h7KUTm1tdSe5"
      }
    },
    {
      "cell_type": "code",
      "source": [
        "def preprocess(df):\n",
        "    df.drop(\"ID\",axis=1,inplace=True)\n",
        "    return df"
      ],
      "metadata": {
        "id": "N5EPGluO0ZvZ"
      },
      "execution_count": null,
      "outputs": []
    },
    {
      "cell_type": "code",
      "source": [
        "train.drop(\"ID\",axis=1,inplace=True)"
      ],
      "metadata": {
        "id": "nxmWHgB9HlQw"
      },
      "execution_count": null,
      "outputs": []
    },
    {
      "cell_type": "code",
      "source": [
        "train.isnull().sum()"
      ],
      "metadata": {
        "colab": {
          "base_uri": "https://localhost:8080/"
        },
        "id": "zchQSwxBDsmA",
        "outputId": "0fdd3a0c-f9a1-4318-ec92-203423e35e15"
      },
      "execution_count": null,
      "outputs": [
        {
          "output_type": "execute_result",
          "data": {
            "text/plain": [
              "Age                       0\n",
              "Gender                    0\n",
              "Education_Status          0\n",
              "Employment_Status         0\n",
              "Working_Week (Yearly)     0\n",
              "Industry_Status           0\n",
              "Occupation_Status         0\n",
              "Race                      0\n",
              "Hispanic_Origin           0\n",
              "Martial_Status            0\n",
              "Household_Status          0\n",
              "Household_Summary         0\n",
              "Citizenship               0\n",
              "Birth_Country             0\n",
              "Birth_Country (Father)    0\n",
              "Birth_Country (Mother)    0\n",
              "Tax_Status                0\n",
              "Gains                     0\n",
              "Losses                    0\n",
              "Dividends                 0\n",
              "Income_Status             0\n",
              "Income                    0\n",
              "dtype: int64"
            ]
          },
          "metadata": {},
          "execution_count": 80
        }
      ]
    },
    {
      "cell_type": "code",
      "source": [
        "test.isnull().sum()"
      ],
      "metadata": {
        "colab": {
          "base_uri": "https://localhost:8080/"
        },
        "id": "NWKpH4PhDtAm",
        "outputId": "db6e8802-c3f9-41a6-e590-9d4cd9a7b7c3"
      },
      "execution_count": null,
      "outputs": [
        {
          "output_type": "execute_result",
          "data": {
            "text/plain": [
              "ID                        0\n",
              "Age                       0\n",
              "Gender                    0\n",
              "Education_Status          0\n",
              "Employment_Status         0\n",
              "Working_Week (Yearly)     0\n",
              "Industry_Status           0\n",
              "Occupation_Status         0\n",
              "Race                      0\n",
              "Hispanic_Origin           0\n",
              "Martial_Status            0\n",
              "Household_Status          1\n",
              "Household_Summary         0\n",
              "Citizenship               0\n",
              "Birth_Country             0\n",
              "Birth_Country (Father)    0\n",
              "Birth_Country (Mother)    0\n",
              "Tax_Status                0\n",
              "Gains                     0\n",
              "Losses                    0\n",
              "Dividends                 0\n",
              "Income_Status             0\n",
              "dtype: int64"
            ]
          },
          "metadata": {},
          "execution_count": 81
        }
      ]
    },
    {
      "cell_type": "code",
      "source": [
        "test[test[\"Household_Status\"].isnull()]"
      ],
      "metadata": {
        "colab": {
          "base_uri": "https://localhost:8080/",
          "height": 165
        },
        "id": "XHxQzXE9Dztj",
        "outputId": "085cee65-59ba-47d5-9a6d-19cbc9823cbf"
      },
      "execution_count": null,
      "outputs": [
        {
          "output_type": "execute_result",
          "data": {
            "text/plain": [
              "             ID  Age Gender Education_Status         Employment_Status  \\\n",
              "2659  TEST_2659   20      F          College  Children or Armed Forces   \n",
              "\n",
              "      Working_Week (Yearly)              Industry_Status Occupation_Status  \\\n",
              "2659                      0  Not in universe or children           Unknown   \n",
              "\n",
              "       Race Hispanic_Origin  ...              Household_Summary Citizenship  \\\n",
              "2659  Black       All other  ...  Other relative of householder      Native   \n",
              "\n",
              "     Birth_Country Birth_Country (Father) Birth_Country (Mother) Tax_Status  \\\n",
              "2659            US                     US                     US   Nonfiler   \n",
              "\n",
              "     Gains Losses  Dividends  Income_Status  \n",
              "2659     0      0          0   Under Median  \n",
              "\n",
              "[1 rows x 22 columns]"
            ],
            "text/html": [
              "\n",
              "  <div id=\"df-924765f8-3c80-43e9-b70d-354cbe4c9cf4\" class=\"colab-df-container\">\n",
              "    <div>\n",
              "<style scoped>\n",
              "    .dataframe tbody tr th:only-of-type {\n",
              "        vertical-align: middle;\n",
              "    }\n",
              "\n",
              "    .dataframe tbody tr th {\n",
              "        vertical-align: top;\n",
              "    }\n",
              "\n",
              "    .dataframe thead th {\n",
              "        text-align: right;\n",
              "    }\n",
              "</style>\n",
              "<table border=\"1\" class=\"dataframe\">\n",
              "  <thead>\n",
              "    <tr style=\"text-align: right;\">\n",
              "      <th></th>\n",
              "      <th>ID</th>\n",
              "      <th>Age</th>\n",
              "      <th>Gender</th>\n",
              "      <th>Education_Status</th>\n",
              "      <th>Employment_Status</th>\n",
              "      <th>Working_Week (Yearly)</th>\n",
              "      <th>Industry_Status</th>\n",
              "      <th>Occupation_Status</th>\n",
              "      <th>Race</th>\n",
              "      <th>Hispanic_Origin</th>\n",
              "      <th>...</th>\n",
              "      <th>Household_Summary</th>\n",
              "      <th>Citizenship</th>\n",
              "      <th>Birth_Country</th>\n",
              "      <th>Birth_Country (Father)</th>\n",
              "      <th>Birth_Country (Mother)</th>\n",
              "      <th>Tax_Status</th>\n",
              "      <th>Gains</th>\n",
              "      <th>Losses</th>\n",
              "      <th>Dividends</th>\n",
              "      <th>Income_Status</th>\n",
              "    </tr>\n",
              "  </thead>\n",
              "  <tbody>\n",
              "    <tr>\n",
              "      <th>2659</th>\n",
              "      <td>TEST_2659</td>\n",
              "      <td>20</td>\n",
              "      <td>F</td>\n",
              "      <td>College</td>\n",
              "      <td>Children or Armed Forces</td>\n",
              "      <td>0</td>\n",
              "      <td>Not in universe or children</td>\n",
              "      <td>Unknown</td>\n",
              "      <td>Black</td>\n",
              "      <td>All other</td>\n",
              "      <td>...</td>\n",
              "      <td>Other relative of householder</td>\n",
              "      <td>Native</td>\n",
              "      <td>US</td>\n",
              "      <td>US</td>\n",
              "      <td>US</td>\n",
              "      <td>Nonfiler</td>\n",
              "      <td>0</td>\n",
              "      <td>0</td>\n",
              "      <td>0</td>\n",
              "      <td>Under Median</td>\n",
              "    </tr>\n",
              "  </tbody>\n",
              "</table>\n",
              "<p>1 rows × 22 columns</p>\n",
              "</div>\n",
              "    <div class=\"colab-df-buttons\">\n",
              "\n",
              "  <div class=\"colab-df-container\">\n",
              "    <button class=\"colab-df-convert\" onclick=\"convertToInteractive('df-924765f8-3c80-43e9-b70d-354cbe4c9cf4')\"\n",
              "            title=\"Convert this dataframe to an interactive table.\"\n",
              "            style=\"display:none;\">\n",
              "\n",
              "  <svg xmlns=\"http://www.w3.org/2000/svg\" height=\"24px\" viewBox=\"0 -960 960 960\">\n",
              "    <path d=\"M120-120v-720h720v720H120Zm60-500h600v-160H180v160Zm220 220h160v-160H400v160Zm0 220h160v-160H400v160ZM180-400h160v-160H180v160Zm440 0h160v-160H620v160ZM180-180h160v-160H180v160Zm440 0h160v-160H620v160Z\"/>\n",
              "  </svg>\n",
              "    </button>\n",
              "\n",
              "  <style>\n",
              "    .colab-df-container {\n",
              "      display:flex;\n",
              "      gap: 12px;\n",
              "    }\n",
              "\n",
              "    .colab-df-convert {\n",
              "      background-color: #E8F0FE;\n",
              "      border: none;\n",
              "      border-radius: 50%;\n",
              "      cursor: pointer;\n",
              "      display: none;\n",
              "      fill: #1967D2;\n",
              "      height: 32px;\n",
              "      padding: 0 0 0 0;\n",
              "      width: 32px;\n",
              "    }\n",
              "\n",
              "    .colab-df-convert:hover {\n",
              "      background-color: #E2EBFA;\n",
              "      box-shadow: 0px 1px 2px rgba(60, 64, 67, 0.3), 0px 1px 3px 1px rgba(60, 64, 67, 0.15);\n",
              "      fill: #174EA6;\n",
              "    }\n",
              "\n",
              "    .colab-df-buttons div {\n",
              "      margin-bottom: 4px;\n",
              "    }\n",
              "\n",
              "    [theme=dark] .colab-df-convert {\n",
              "      background-color: #3B4455;\n",
              "      fill: #D2E3FC;\n",
              "    }\n",
              "\n",
              "    [theme=dark] .colab-df-convert:hover {\n",
              "      background-color: #434B5C;\n",
              "      box-shadow: 0px 1px 3px 1px rgba(0, 0, 0, 0.15);\n",
              "      filter: drop-shadow(0px 1px 2px rgba(0, 0, 0, 0.3));\n",
              "      fill: #FFFFFF;\n",
              "    }\n",
              "  </style>\n",
              "\n",
              "    <script>\n",
              "      const buttonEl =\n",
              "        document.querySelector('#df-924765f8-3c80-43e9-b70d-354cbe4c9cf4 button.colab-df-convert');\n",
              "      buttonEl.style.display =\n",
              "        google.colab.kernel.accessAllowed ? 'block' : 'none';\n",
              "\n",
              "      async function convertToInteractive(key) {\n",
              "        const element = document.querySelector('#df-924765f8-3c80-43e9-b70d-354cbe4c9cf4');\n",
              "        const dataTable =\n",
              "          await google.colab.kernel.invokeFunction('convertToInteractive',\n",
              "                                                    [key], {});\n",
              "        if (!dataTable) return;\n",
              "\n",
              "        const docLinkHtml = 'Like what you see? Visit the ' +\n",
              "          '<a target=\"_blank\" href=https://colab.research.google.com/notebooks/data_table.ipynb>data table notebook</a>'\n",
              "          + ' to learn more about interactive tables.';\n",
              "        element.innerHTML = '';\n",
              "        dataTable['output_type'] = 'display_data';\n",
              "        await google.colab.output.renderOutput(dataTable, element);\n",
              "        const docLink = document.createElement('div');\n",
              "        docLink.innerHTML = docLinkHtml;\n",
              "        element.appendChild(docLink);\n",
              "      }\n",
              "    </script>\n",
              "  </div>\n",
              "\n",
              "\n",
              "    </div>\n",
              "  </div>\n"
            ],
            "application/vnd.google.colaboratory.intrinsic+json": {
              "type": "dataframe"
            }
          },
          "metadata": {},
          "execution_count": 82
        }
      ]
    },
    {
      "cell_type": "code",
      "source": [
        "display(train.dtypes)"
      ],
      "metadata": {
        "colab": {
          "base_uri": "https://localhost:8080/",
          "height": 439
        },
        "id": "KTCx5ptMD7pg",
        "outputId": "4ea6cedf-71ee-4638-8f7d-2ecc717af593"
      },
      "execution_count": null,
      "outputs": [
        {
          "output_type": "display_data",
          "data": {
            "text/plain": [
              "Age                        int64\n",
              "Gender                    object\n",
              "Education_Status          object\n",
              "Employment_Status         object\n",
              "Working_Week (Yearly)      int64\n",
              "Industry_Status           object\n",
              "Occupation_Status         object\n",
              "Race                      object\n",
              "Hispanic_Origin           object\n",
              "Martial_Status            object\n",
              "Household_Status          object\n",
              "Household_Summary         object\n",
              "Citizenship               object\n",
              "Birth_Country             object\n",
              "Birth_Country (Father)    object\n",
              "Birth_Country (Mother)    object\n",
              "Tax_Status                object\n",
              "Gains                      int64\n",
              "Losses                     int64\n",
              "Dividends                  int64\n",
              "Income_Status             object\n",
              "Income                     int64\n",
              "dtype: object"
            ]
          },
          "metadata": {}
        }
      ]
    },
    {
      "cell_type": "code",
      "source": [
        "test[\"Household_Status\"].fillna(train[\"Household_Status\"].mode()[0],inplace=True)"
      ],
      "metadata": {
        "id": "IHZ6oaZEEJKn"
      },
      "execution_count": null,
      "outputs": []
    },
    {
      "cell_type": "markdown",
      "source": [
        "#### 1-2-b. 수치 이상치 확인"
      ],
      "metadata": {
        "id": "HFl_tymfdkLQ"
      }
    },
    {
      "cell_type": "code",
      "source": [
        "import matplotlib.pyplot as plt"
      ],
      "metadata": {
        "id": "8DL9GywQ2Qrt"
      },
      "execution_count": null,
      "outputs": []
    },
    {
      "cell_type": "code",
      "source": [
        "import seaborn as sns"
      ],
      "metadata": {
        "id": "uyia7FckpJX6"
      },
      "execution_count": null,
      "outputs": []
    },
    {
      "cell_type": "code",
      "source": [
        "col = ['Age','Working_Week (Yearly)','Gains','Losses','Dividends','Income']\n",
        "\n",
        "plt.figure(figsize=(12,10))\n",
        "\n",
        "for i in range(len(col)):\n",
        "    plt.subplot(4,3,i+1)\n",
        "    plt.subplots_adjust(left=0.125, bottom=0.1, right=0.9, top=0.9, wspace=0.2, hspace=0.55)\n",
        "    plt.title(col[i])\n",
        "    sns.histplot(train[col[i]])\n",
        "    plt.title(col[i])\n",
        "    plt.xlabel(None)\n",
        "    plt.ylabel(None)\n",
        "plt.show()"
      ],
      "metadata": {
        "colab": {
          "base_uri": "https://localhost:8080/",
          "height": 343
        },
        "id": "9sDyhUiidh7a",
        "outputId": "a5948926-b5de-41f8-b88f-2aac685d6fd3"
      },
      "execution_count": null,
      "outputs": [
        {
          "output_type": "display_data",
          "data": {
            "text/plain": [
              "<Figure size 1200x1000 with 6 Axes>"
            ],
            "image/png": "[encoded data removed]"
          },
          "metadata": {}
        }
      ]
    },
    {
      "cell_type": "code",
      "source": [
        "test_col = ['Age','Working_Week (Yearly)','Gains','Losses','Dividends']\n",
        "\n",
        "plt.figure(figsize=(12,10))\n",
        "\n",
        "for i in range(len(test_col)):\n",
        "    plt.subplot(4,3,i+1)\n",
        "    plt.subplots_adjust(left=0.125, bottom=0.1, right=0.9, top=0.9, wspace=0.2, hspace=0.55)\n",
        "    plt.title(test_col[i])\n",
        "    sns.histplot(test[test_col[i]])\n",
        "    plt.title(test_col[i])\n",
        "    plt.xlabel(None)\n",
        "    plt.ylabel(None)\n",
        "plt.show()"
      ],
      "metadata": {
        "colab": {
          "base_uri": "https://localhost:8080/",
          "height": 343
        },
        "id": "aygnUCXirvgo",
        "outputId": "7dc51ca6-ac5e-4e09-e983-96736bf7ff6e"
      },
      "execution_count": null,
      "outputs": [
        {
          "output_type": "display_data",
          "data": {
            "text/plain": [
              "<Figure size 1200x1000 with 5 Axes>"
            ],
            "image/png": "[encoded data removed]"
          },
          "metadata": {}
        }
      ]
    },
    {
      "cell_type": "code",
      "source": [
        "for i in range(len(col)):\n",
        "    plt.subplot(3, 3, i+1)\n",
        "    plt.subplots_adjust(left=0.125, bottom=0.1,  right=0.9, top=0.9, wspace=0.2, hspace=0.55)\n",
        "    plt.title(col[i])\n",
        "    sns.boxplot(x=train[col[i]], color='blue')\n",
        "    plt.title(col[i])\n",
        "    plt.xlabel(None)\n",
        "    plt.ylabel(None)\n",
        "plt.show()"
      ],
      "metadata": {
        "colab": {
          "base_uri": "https://localhost:8080/",
          "height": 321
        },
        "id": "MOzfhHc4p5Vi",
        "outputId": "e7cc8cff-3cb3-4edf-d49d-ab7b6fc79530"
      },
      "execution_count": null,
      "outputs": [
        {
          "output_type": "display_data",
          "data": {
            "text/plain": [
              "<Figure size 640x480 with 6 Axes>"
            ],
            "image/png": "[encoded data removed]"
          },
          "metadata": {}
        }
      ]
    },
    {
      "cell_type": "code",
      "source": [
        "plt.figure(figsize=(12, 10))\n",
        "\n",
        "for i in range(len(col)):\n",
        "    plt.subplot(3, 3, i+1, )\n",
        "    plt.subplots_adjust(left=0.125, bottom=0.1,  right=0.9, top=0.9, wspace=0.2, hspace=0.35)\n",
        "    plt.title(col[i])\n",
        "    sns.kdeplot(train[col[i]])\n",
        "    plt.title(col[i])\n",
        "    plt.xlabel(None)\n",
        "    plt.ylabel(None)\n",
        "plt.show()"
      ],
      "metadata": {
        "colab": {
          "base_uri": "https://localhost:8080/",
          "height": 459
        },
        "id": "MaYY4Ebjp7nY",
        "outputId": "2d454720-1e5a-4785-a122-b59e0b99a8e6"
      },
      "execution_count": null,
      "outputs": [
        {
          "output_type": "display_data",
          "data": {
            "text/plain": [
              "<Figure size 1200x1000 with 6 Axes>"
            ],
            "image/png": "[encoded data removed]"
          },
          "metadata": {}
        }
      ]
    },
    {
      "cell_type": "code",
      "source": [
        "train['Age'].value_counts()"
      ],
      "metadata": {
        "colab": {
          "base_uri": "https://localhost:8080/"
        },
        "id": "RZKCh9KkrdKQ",
        "outputId": "32b4f303-9d91-41d8-e954-83e57839466d"
      },
      "execution_count": null,
      "outputs": [
        {
          "output_type": "execute_result",
          "data": {
            "text/plain": [
              "37    476\n",
              "35    475\n",
              "24    473\n",
              "33    467\n",
              "31    466\n",
              "     ... \n",
              "84     20\n",
              "85     16\n",
              "87     11\n",
              "89     10\n",
              "88      9\n",
              "Name: Age, Length: 91, dtype: int64"
            ]
          },
          "metadata": {},
          "execution_count": 96
        }
      ]
    },
    {
      "cell_type": "code",
      "source": [
        "train['Working_Week (Yearly)'].value_counts()"
      ],
      "metadata": {
        "colab": {
          "base_uri": "https://localhost:8080/"
        },
        "id": "QAlNyN42sRha",
        "outputId": "32ab8510-1e70-4193-ec05-4fac66f60eff"
      },
      "execution_count": null,
      "outputs": [
        {
          "output_type": "execute_result",
          "data": {
            "text/plain": [
              "52    10613\n",
              "0      4720\n",
              "40      440\n",
              "50      363\n",
              "48      313\n",
              "26      283\n",
              "20      213\n",
              "12      209\n",
              "30      207\n",
              "36      181\n",
              "32      139\n",
              "44      138\n",
              "16      134\n",
              "51      134\n",
              "8       129\n",
              "49      117\n",
              "35      115\n",
              "24      105\n",
              "46       97\n",
              "45       95\n",
              "42       94\n",
              "39       87\n",
              "28       79\n",
              "4        78\n",
              "10       67\n",
              "25       63\n",
              "43       58\n",
              "38       57\n",
              "6        55\n",
              "13       54\n",
              "15       48\n",
              "18       46\n",
              "22       45\n",
              "47       43\n",
              "2        41\n",
              "1        34\n",
              "14       34\n",
              "5        32\n",
              "3        32\n",
              "17       30\n",
              "7        28\n",
              "34       23\n",
              "9        23\n",
              "37       20\n",
              "19       13\n",
              "41       13\n",
              "27       12\n",
              "11       10\n",
              "21        9\n",
              "29        8\n",
              "23        8\n",
              "31        6\n",
              "33        5\n",
              "Name: Working_Week (Yearly), dtype: int64"
            ]
          },
          "metadata": {},
          "execution_count": 109
        }
      ]
    },
    {
      "cell_type": "markdown",
      "source": [
        "#### 1-2-c. 정성 데이터 이상치 확인"
      ],
      "metadata": {
        "id": "5QfPgA85uYLB"
      }
    },
    {
      "cell_type": "code",
      "source": [
        "train['Gender'].value_counts()"
      ],
      "metadata": {
        "colab": {
          "base_uri": "https://localhost:8080/"
        },
        "id": "z-olsXn7ubcJ",
        "outputId": "f5ed9aa1-c9bd-4e3f-87a3-421ce9a01677"
      },
      "execution_count": null,
      "outputs": [
        {
          "output_type": "execute_result",
          "data": {
            "text/plain": [
              "F    10472\n",
              "M     9528\n",
              "Name: Gender, dtype: int64"
            ]
          },
          "metadata": {},
          "execution_count": 116
        }
      ]
    },
    {
      "cell_type": "code",
      "source": [
        "train['Education_Status'].value_counts()"
      ],
      "metadata": {
        "colab": {
          "base_uri": "https://localhost:8080/"
        },
        "id": "QgpNvUdFuifl",
        "outputId": "58727a22-872c-4072-b9dc-9224a8a5a518"
      },
      "execution_count": null,
      "outputs": [
        {
          "output_type": "execute_result",
          "data": {
            "text/plain": [
              "High graduate                     6494\n",
              "College                           3794\n",
              "Children                          2208\n",
              "Bachelors degree                  1956\n",
              "High Junior                        820\n",
              "High Sophomore                     799\n",
              "Associates degree (Vocational)     741\n",
              "Associates degree (Academic)       609\n",
              "High Freshman                      555\n",
              "Middle (7-8)                       548\n",
              "Masters degree                     505\n",
              "Elementary (5-6)                   317\n",
              "High Senior                        242\n",
              "Elementary (1-4)                   150\n",
              "Professional degree                111\n",
              "Doctorate degree                    87\n",
              "Kindergarten                        64\n",
              "Name: Education_Status, dtype: int64"
            ]
          },
          "metadata": {},
          "execution_count": 117
        }
      ]
    },
    {
      "cell_type": "code",
      "source": [
        "train['Employment_Status'].value_counts()"
      ],
      "metadata": {
        "colab": {
          "base_uri": "https://localhost:8080/"
        },
        "id": "2wUjRqPSuqJH",
        "outputId": "a76f64ce-a832-445a-b8dc-37bf6e8d0777"
      },
      "execution_count": null,
      "outputs": [
        {
          "output_type": "execute_result",
          "data": {
            "text/plain": [
              "Children or Armed Forces         11142\n",
              "Full-Time                         6588\n",
              "Not Working                       1221\n",
              "Choice Part-Time                   593\n",
              "Part-Time (Usually Part-Time)      158\n",
              "Seeking Full-Time                  121\n",
              "Part-Time (Usually Full-Time)      100\n",
              "Seeking Part-Time                   77\n",
              "Name: Employment_Status, dtype: int64"
            ]
          },
          "metadata": {},
          "execution_count": 119
        }
      ]
    },
    {
      "cell_type": "code",
      "source": [
        "train['Industry_Status'].value_counts()"
      ],
      "metadata": {
        "colab": {
          "base_uri": "https://localhost:8080/"
        },
        "id": "EG3Y73R7u78o",
        "outputId": "f130d8e4-421a-490a-cfca-499474b8ae08"
      },
      "execution_count": null,
      "outputs": [
        {
          "output_type": "execute_result",
          "data": {
            "text/plain": [
              "Not in universe or children                     4688\n",
              "Retail                                          3149\n",
              "Manufacturing (Durable)                         1575\n",
              "Manufacturing (Non-durable)                     1223\n",
              "Education                                       1041\n",
              "Business & Repair                                847\n",
              "Medical (except Hospitals)                       838\n",
              "Construction                                     832\n",
              "Hospitals                                        821\n",
              "Finance Insurance & Real Estate                  727\n",
              "Transportation                                   693\n",
              "Public Administration                            641\n",
              "Other professional services                      477\n",
              "Wholesale                                        450\n",
              "Personal Services (except Private Household)     429\n",
              "Social Services                                  367\n",
              "Entertainment                                    278\n",
              "Agriculture                                      268\n",
              "Utilities & Sanitary                             202\n",
              "Communications                                   195\n",
              "Private Household Services                       125\n",
              "Mining                                           107\n",
              "Forestry & Fisheries                              26\n",
              "Armed Forces                                       1\n",
              "Name: Industry_Status, dtype: int64"
            ]
          },
          "metadata": {},
          "execution_count": 120
        }
      ]
    },
    {
      "cell_type": "code",
      "source": [
        "train['Occupation_Status'].value_counts()"
      ],
      "metadata": {
        "colab": {
          "base_uri": "https://localhost:8080/"
        },
        "id": "IxTQ2rkavWfp",
        "outputId": "2095330c-36d9-4fcc-ad4a-f1202471abb0"
      },
      "execution_count": null,
      "outputs": [
        {
          "output_type": "execute_result",
          "data": {
            "text/plain": [
              "Unknown                             4688\n",
              "Admin Support (include Clerical)    2709\n",
              "Services                            2313\n",
              "Craft & Repair                      1869\n",
              "Sales                               1692\n",
              "Professional                        1488\n",
              "Machine Operators & Inspectors      1383\n",
              "Management                          1111\n",
              "Handlers/Cleaners                    837\n",
              "Transportation                       690\n",
              "Technicians & Support                558\n",
              "Farming & Forestry & Fishing         296\n",
              "Protective Services                  260\n",
              "Private Household Services           105\n",
              "Armed Forces                           1\n",
              "Name: Occupation_Status, dtype: int64"
            ]
          },
          "metadata": {},
          "execution_count": 121
        }
      ]
    },
    {
      "cell_type": "markdown",
      "source": [
        "- Industry Status와 Occupation Status의 차이는 무엇인가"
      ],
      "metadata": {
        "id": "Y6pDwrVMwXZQ"
      }
    },
    {
      "cell_type": "code",
      "source": [
        "train['Race'].value_counts()"
      ],
      "metadata": {
        "colab": {
          "base_uri": "https://localhost:8080/"
        },
        "id": "e6oai9fHvj78",
        "outputId": "b1cc9c16-03b5-429a-a692-0448cc8b52aa"
      },
      "execution_count": null,
      "outputs": [
        {
          "output_type": "execute_result",
          "data": {
            "text/plain": [
              "White                           16845\n",
              "Black                            2122\n",
              "Asian/Pacific                     511\n",
              "Other                             296\n",
              "Native American/Aleut/Eskimo      226\n",
              "Name: Race, dtype: int64"
            ]
          },
          "metadata": {},
          "execution_count": 122
        }
      ]
    },
    {
      "cell_type": "code",
      "source": [
        "train['Hispanic_Origin'].value_counts()"
      ],
      "metadata": {
        "colab": {
          "base_uri": "https://localhost:8080/"
        },
        "id": "TPdKA1WtvyVf",
        "outputId": "7ff1e4c3-cd21-4fca-e278-6413f432ba73"
      },
      "execution_count": null,
      "outputs": [
        {
          "output_type": "execute_result",
          "data": {
            "text/plain": [
              " All other                    17769\n",
              " Mexican-American               654\n",
              " Mexican (Mexicano)             624\n",
              " Central or South American      325\n",
              " Puerto Rican                   243\n",
              " Other Spanish                  201\n",
              " Cuban                           76\n",
              " NA                              59\n",
              " Chicano                         27\n",
              " Do not know                     22\n",
              "Name: Hispanic_Origin, dtype: int64"
            ]
          },
          "metadata": {},
          "execution_count": 123
        }
      ]
    },
    {
      "cell_type": "markdown",
      "source": [
        "- NA, Do not know 처리"
      ],
      "metadata": {
        "id": "LaQ5BXnov2X2"
      }
    },
    {
      "cell_type": "markdown",
      "source": [
        "- 근데 이 항목이 따로 존재하는게 의미가 있나? 다중공선성?"
      ],
      "metadata": {
        "id": "U809ib6Twg0p"
      }
    },
    {
      "cell_type": "code",
      "source": [
        "train['Martial_Status'].value_counts()"
      ],
      "metadata": {
        "colab": {
          "base_uri": "https://localhost:8080/"
        },
        "id": "DMggEjwcv8-n",
        "outputId": "ce6a904d-bf02-433b-da3b-ef763dcf3025"
      },
      "execution_count": null,
      "outputs": [
        {
          "output_type": "execute_result",
          "data": {
            "text/plain": [
              "Married                         9554\n",
              "Single                          7380\n",
              "Divorced                        1633\n",
              "Widowed                          756\n",
              "Separated                        436\n",
              "Married (Spouse Absent)          171\n",
              "Married (Armed Force Spouse)      70\n",
              "Name: Martial_Status, dtype: int64"
            ]
          },
          "metadata": {},
          "execution_count": 125
        }
      ]
    },
    {
      "cell_type": "markdown",
      "source": [
        "- Widowed와 Spouse Absent의 차이는 무엇인가"
      ],
      "metadata": {
        "id": "4BriC0fuwJ0c"
      }
    },
    {
      "cell_type": "code",
      "source": [
        "train['Household_Status'].value_counts()"
      ],
      "metadata": {
        "colab": {
          "base_uri": "https://localhost:8080/"
        },
        "id": "bp7yRh64wnuN",
        "outputId": "140dd63f-2411-4295-e627-31d6ff994b37"
      },
      "execution_count": null,
      "outputs": [
        {
          "output_type": "execute_result",
          "data": {
            "text/plain": [
              "Householder                                                               6087\n",
              "Spouse of householder                                                     4794\n",
              "Child <18 never marr not in subfamily                                     2670\n",
              "Nonfamily householder                                                     2465\n",
              "Child 18+ never marr Not in a subfamily                                   1860\n",
              "Secondary individual                                                       845\n",
              "Other Rel 18+ never marr not in subfamily                                  195\n",
              "Other Rel 18+ ever marr not in subfamily                                   154\n",
              "Child 18+ ever marr Not in a subfamily                                     118\n",
              "Child 18+ ever married Responsible Person of subfamily                     101\n",
              "Child 18+ never married Responsible Person of subfamily                     96\n",
              "Grandchild <18 never married child of subfamily Responsible Person          88\n",
              "Responsible Person of unrelated subfamily                                   87\n",
              "Other Relative 18+ ever married Responsible Person of subfamily             77\n",
              "Other Relative 18+ spouse of subfamily Responsible Person                   73\n",
              "Grandchild 18+ never marr not in subfamily                                  63\n",
              "Grandchild <18 never marr not in subfamily                                  43\n",
              "Child under 18 of Responsible Person of unrelated subfamily                 39\n",
              "Other Rel <18 never marr not in subfamily                                   36\n",
              "Other Relative <18 never married child of subfamily Responsible Person      27\n",
              "In group quarters                                                           26\n",
              "Other Relative 18+ never married Responsible Person of subfamily            19\n",
              "Child 18+ spouse of subfamily Responsible Person                            16\n",
              "Child <18 never married Responsible Person of subfamily                      8\n",
              "Child <18 ever marr not in subfamily                                         3\n",
              "Spouse of Responsible Person of unrelated subfamily                          3\n",
              "Grandchild 18+ ever marr not in subfamily                                    3\n",
              "Grandchild 18+ spouse of subfamily Responsible Person                        1\n",
              "Grandchild 18+ ever married Responsible Person of subfamily                  1\n",
              "Child <18 ever married Responsible Person of subfamily                       1\n",
              "Other Relative <18 ever married Responsible Person of subfamily              1\n",
              "Name: Household_Status, dtype: int64"
            ]
          },
          "metadata": {},
          "execution_count": 126
        }
      ]
    },
    {
      "cell_type": "code",
      "source": [
        "train['Household_Summary'].value_counts()"
      ],
      "metadata": {
        "colab": {
          "base_uri": "https://localhost:8080/"
        },
        "id": "WxHSkAysw5Bv",
        "outputId": "b9e0e083-20eb-43d9-9e7d-da0a5f089175"
      },
      "execution_count": null,
      "outputs": [
        {
          "output_type": "execute_result",
          "data": {
            "text/plain": [
              "Householder                             8552\n",
              "Spouse of householder                   4794\n",
              "Child under 18 never married            2679\n",
              "Child 18 or older                       2192\n",
              "Nonrelative of householder               974\n",
              "Other relative of householder            781\n",
              "Group Quarters- Secondary individual      24\n",
              "Child under 18 ever married                4\n",
              "Name: Household_Summary, dtype: int64"
            ]
          },
          "metadata": {},
          "execution_count": 127
        }
      ]
    },
    {
      "cell_type": "markdown",
      "source": [
        "- Summary만 사용해도 되지 않을까"
      ],
      "metadata": {
        "id": "LVpsKZwkw-J4"
      }
    },
    {
      "cell_type": "code",
      "source": [
        "train['Citizenship'].value_counts()"
      ],
      "metadata": {
        "colab": {
          "base_uri": "https://localhost:8080/"
        },
        "id": "0xqxhhHsxATC",
        "outputId": "ea2e28a4-f96f-4c6c-b3b3-ed55a7de75e7"
      },
      "execution_count": null,
      "outputs": [
        {
          "output_type": "execute_result",
          "data": {
            "text/plain": [
              "Native                                         17825\n",
              "Foreign-born (Non-US Citizen)                   1258\n",
              "Foreign-born (Naturalized US Citizen)            588\n",
              "Native (Born Abroad)                             197\n",
              "Native (Born in Puerto Rico or US Outlying)      132\n",
              "Name: Citizenship, dtype: int64"
            ]
          },
          "metadata": {},
          "execution_count": 128
        }
      ]
    },
    {
      "cell_type": "code",
      "source": [
        "train['Birth_Country'].value_counts()"
      ],
      "metadata": {
        "colab": {
          "base_uri": "https://localhost:8080/"
        },
        "id": "-GJA5d3DxFkp",
        "outputId": "a596752c-4610-4638-9c64-517a5fad2083"
      },
      "execution_count": null,
      "outputs": [
        {
          "output_type": "execute_result",
          "data": {
            "text/plain": [
              "US                              17825\n",
              "Mexico                            540\n",
              "Unknown                           330\n",
              "Puerto-Rico                       117\n",
              "Philippines                       112\n",
              "Germany                            90\n",
              "Canada                             75\n",
              "El-Salvador                        68\n",
              "Cuba                               58\n",
              "India                              55\n",
              "Dominican-Republic                 49\n",
              "England                            47\n",
              "Poland                             45\n",
              "Jamaica                            45\n",
              "Columbia                           36\n",
              "Italy                              35\n",
              "South Korea                        31\n",
              "Vietnam                            31\n",
              "Ecuador                            31\n",
              "Japan                              30\n",
              "Portugal                           29\n",
              "Nicaragua                          28\n",
              "China                              28\n",
              "Guatemala                          28\n",
              "Haiti                              25\n",
              "Iran                               24\n",
              "Peru                               22\n",
              "Ireland                            21\n",
              "Hong Kong                          16\n",
              "Outlying-U S (Guam USVI etc)       15\n",
              "France                             14\n",
              "Honduras                           14\n",
              "Greece                             13\n",
              "Laos                               11\n",
              "Taiwan                             11\n",
              "Thailand                           10\n",
              "Cambodia                            8\n",
              "Trinadad&Tobago                     8\n",
              "Yugoslavia                          7\n",
              "Scotland                            7\n",
              "Panama                              4\n",
              "Hungary                             4\n",
              "Holand-Netherlands                  3\n",
              "Name: Birth_Country, dtype: int64"
            ]
          },
          "metadata": {},
          "execution_count": 129
        }
      ]
    },
    {
      "cell_type": "code",
      "source": [
        "train['Birth_Country (Father)'].value_counts()"
      ],
      "metadata": {
        "colab": {
          "base_uri": "https://localhost:8080/"
        },
        "id": "f3RsU85lxLJI",
        "outputId": "ab1a7285-4e3f-482c-ed2c-ff4b15cd431d"
      },
      "execution_count": null,
      "outputs": [
        {
          "output_type": "execute_result",
          "data": {
            "text/plain": [
              "US                              16563\n",
              "Mexico                            845\n",
              "Unknown                           581\n",
              "Puerto-Rico                       206\n",
              "Italy                             197\n",
              "Canada                            128\n",
              "Philippines                       121\n",
              "Poland                            110\n",
              "Dominican-Republic                 99\n",
              "Germany                            92\n",
              "El-Salvador                        83\n",
              "Cuba                               78\n",
              "England                            69\n",
              "China                              69\n",
              "India                              68\n",
              "Jamaica                            56\n",
              "Ireland                            47\n",
              "Portugal                           47\n",
              "Columbia                           45\n",
              "Ecuador                            42\n",
              "Haiti                              37\n",
              "South Korea                        34\n",
              "Guatemala                          33\n",
              "Greece                             33\n",
              "Vietnam                            32\n",
              "Nicaragua                          30\n",
              "Japan                              28\n",
              "Scotland                           27\n",
              "Peru                               26\n",
              "Iran                               25\n",
              "Hungary                            22\n",
              "Yugoslavia                         18\n",
              "France                             17\n",
              "Cambodia                           13\n",
              "Laos                               12\n",
              "Honduras                           12\n",
              "Outlying-U S (Guam USVI etc)       12\n",
              "Trinadad&Tobago                    11\n",
              "Taiwan                             10\n",
              "Hong Kong                           8\n",
              "Thailand                            7\n",
              "Holand-Netherlands                  5\n",
              "Panama                              2\n",
              "Name: Birth_Country (Father), dtype: int64"
            ]
          },
          "metadata": {},
          "execution_count": 130
        }
      ]
    },
    {
      "cell_type": "code",
      "source": [
        "train['Birth_Country (Mother)'].value_counts()"
      ],
      "metadata": {
        "colab": {
          "base_uri": "https://localhost:8080/"
        },
        "id": "A50F-JG5xQMJ",
        "outputId": "4e37894c-348c-4af6-9b7f-9c0eea875692"
      },
      "execution_count": null,
      "outputs": [
        {
          "output_type": "execute_result",
          "data": {
            "text/plain": [
              "US                              16594\n",
              "Mexico                            849\n",
              "Unknown                           517\n",
              "Puerto-Rico                       194\n",
              "Canada                            159\n",
              "Italy                             152\n",
              "Philippines                       128\n",
              "Germany                           117\n",
              "Poland                            104\n",
              "El-Salvador                        99\n",
              "England                            88\n",
              "Dominican-Republic                 75\n",
              "Cuba                               73\n",
              "India                              67\n",
              "China                              60\n",
              "Ireland                            58\n",
              "Jamaica                            56\n",
              "Columbia                           45\n",
              "Ecuador                            44\n",
              "Portugal                           44\n",
              "South Korea                        41\n",
              "Vietnam                            39\n",
              "Japan                              37\n",
              "Guatemala                          36\n",
              "Nicaragua                          35\n",
              "Haiti                              34\n",
              "Peru                               26\n",
              "Iran                               26\n",
              "France                             25\n",
              "Greece                             23\n",
              "Hungary                            18\n",
              "Yugoslavia                         17\n",
              "Honduras                           17\n",
              "Scotland                           15\n",
              "Outlying-U S (Guam USVI etc)       14\n",
              "Trinadad&Tobago                    14\n",
              "Thailand                           12\n",
              "Cambodia                           11\n",
              "Taiwan                             11\n",
              "Hong Kong                          10\n",
              "Laos                                8\n",
              "Panama                              4\n",
              "Holand-Netherlands                  4\n",
              "Name: Birth_Country (Mother), dtype: int64"
            ]
          },
          "metadata": {},
          "execution_count": 131
        }
      ]
    },
    {
      "cell_type": "markdown",
      "source": [
        "- 위 세가지 라벨을 모두 쓸 필요가 있을까"
      ],
      "metadata": {
        "id": "rk-tLUOvynsA"
      }
    },
    {
      "cell_type": "code",
      "source": [
        "train['Tax_Status'].value_counts()"
      ],
      "metadata": {
        "colab": {
          "base_uri": "https://localhost:8080/"
        },
        "id": "Hd2C6Nj2xUNj",
        "outputId": "4f76b914-d197-4878-ebee-9ef6d93fb8fb"
      },
      "execution_count": null,
      "outputs": [
        {
          "output_type": "execute_result",
          "data": {
            "text/plain": [
              "Married Filling Jointly both under 65 (MFJ)                 8588\n",
              "Single                                                      5547\n",
              "Nonfiler                                                    3874\n",
              "Head of Household (HOH)                                     1217\n",
              "Married Filling Jointly both over 65 (MFJ)                   469\n",
              "Married Filling Jointly one over 65 & one under 65 (MFJ)     305\n",
              "Name: Tax_Status, dtype: int64"
            ]
          },
          "metadata": {},
          "execution_count": 132
        }
      ]
    },
    {
      "cell_type": "code",
      "source": [
        "train['Income_Status'].value_counts()"
      ],
      "metadata": {
        "colab": {
          "base_uri": "https://localhost:8080/"
        },
        "id": "9yQTU3jwxZ5R",
        "outputId": "8cdac5c0-41f9-416c-aa9f-86fecd3e1002"
      },
      "execution_count": null,
      "outputs": [
        {
          "output_type": "execute_result",
          "data": {
            "text/plain": [
              "Under Median    13237\n",
              "Unknown          6026\n",
              "Over Median       737\n",
              "Name: Income_Status, dtype: int64"
            ]
          },
          "metadata": {},
          "execution_count": 133
        }
      ]
    },
    {
      "cell_type": "markdown",
      "source": [
        "### 1-3. Catboost 이외 모델용 라벨 인코딩"
      ],
      "metadata": {
        "id": "nZ32ERSh0_sN"
      }
    },
    {
      "cell_type": "code",
      "source": [
        "from sklearn.preprocessing import LabelEncoder"
      ],
      "metadata": {
        "id": "h9CItuKa1qJr"
      },
      "execution_count": null,
      "outputs": []
    },
    {
      "cell_type": "code",
      "source": [
        "def encodedData():\n",
        "    train = pd.read_csv(\"/content/drive/MyDrive/data_0325/train.csv\")\n",
        "    test = pd.read_csv(\"/content/drive/MyDrive/data_0325/test.csv\")\n",
        "    test[\"Household_Status\"].fillna(train[\"Household_Status\"].mode()[0],inplace=True)\n",
        "    train = preprocess(train)\n",
        "    test = preprocess(test)\n",
        "    encoding_target = list(train.dtypes[train.dtypes == \"object\"].index)\n",
        "\n",
        "    for i in encoding_target:\n",
        "        le = LabelEncoder()\n",
        "        le.fit(train[i])\n",
        "        train[i] = le.transform(train[i])\n",
        "\n",
        "        for case in np.unique(test[i]):\n",
        "            if case not in le.classes_:\n",
        "                le.classes_ = np.append(le.classes_, case)\n",
        "\n",
        "        test[i] = le.transform(test[i])\n",
        "    return train, test"
      ],
      "metadata": {
        "id": "Pd4HHVuS06eG"
      },
      "execution_count": null,
      "outputs": []
    },
    {
      "cell_type": "markdown",
      "source": [
        "## 2. 모델"
      ],
      "metadata": {
        "id": "B-mfGEIGWdJC"
      }
    },
    {
      "cell_type": "markdown",
      "source": [
        "### 2-1. Catboost"
      ],
      "metadata": {
        "id": "53oNXAcdWe7M"
      }
    },
    {
      "cell_type": "markdown",
      "source": [
        "#### 2-1-a. 기본 Catboost"
      ],
      "metadata": {
        "id": "xJXxEaZhed_7"
      }
    },
    {
      "cell_type": "code",
      "source": [
        "!pip install catboost"
      ],
      "metadata": {
        "colab": {
          "base_uri": "https://localhost:8080/"
        },
        "id": "JIViKIivGvpu",
        "outputId": "701f7389-dfab-499e-bcdf-688c7eee5b13"
      },
      "execution_count": null,
      "outputs": [
        {
          "output_type": "stream",
          "name": "stdout",
          "text": [
            "Collecting catboost\n",
            "  Downloading catboost-1.2.3-cp310-cp310-manylinux2014_x86_64.whl (98.5 MB)\n",
            "\u001b[2K     \u001b[90m━━━━━━━━━━━━━━━━━━━━━━━━━━━━━━━━━━━━━━━━\u001b[0m \u001b[32m98.5/98.5 MB\u001b[0m \u001b[31m8.9 MB/s\u001b[0m eta \u001b[36m0:00:00\u001b[0m\n",
            "\u001b[?25hRequirement already satisfied: graphviz in /usr/local/lib/python3.10/dist-packages (from catboost) (0.20.2)\n",
            "Requirement already satisfied: matplotlib in /usr/local/lib/python3.10/dist-packages (from catboost) (3.7.1)\n",
            "Requirement already satisfied: numpy>=1.16.0 in /usr/local/lib/python3.10/dist-packages (from catboost) (1.25.2)\n",
            "Requirement already satisfied: pandas>=0.24 in /usr/local/lib/python3.10/dist-packages (from catboost) (1.5.3)\n",
            "Requirement already satisfied: scipy in /usr/local/lib/python3.10/dist-packages (from catboost) (1.11.4)\n",
            "Requirement already satisfied: plotly in /usr/local/lib/python3.10/dist-packages (from catboost) (5.15.0)\n",
            "Requirement already satisfied: six in /usr/local/lib/python3.10/dist-packages (from catboost) (1.16.0)\n",
            "Requirement already satisfied: python-dateutil>=2.8.1 in /usr/local/lib/python3.10/dist-packages (from pandas>=0.24->catboost) (2.8.2)\n",
            "Requirement already satisfied: pytz>=2020.1 in /usr/local/lib/python3.10/dist-packages (from pandas>=0.24->catboost) (2023.4)\n",
            "Requirement already satisfied: contourpy>=1.0.1 in /usr/local/lib/python3.10/dist-packages (from matplotlib->catboost) (1.2.0)\n",
            "Requirement already satisfied: cycler>=0.10 in /usr/local/lib/python3.10/dist-packages (from matplotlib->catboost) (0.12.1)\n",
            "Requirement already satisfied: fonttools>=4.22.0 in /usr/local/lib/python3.10/dist-packages (from matplotlib->catboost) (4.50.0)\n",
            "Requirement already satisfied: kiwisolver>=1.0.1 in /usr/local/lib/python3.10/dist-packages (from matplotlib->catboost) (1.4.5)\n",
            "Requirement already satisfied: packaging>=20.0 in /usr/local/lib/python3.10/dist-packages (from matplotlib->catboost) (24.0)\n",
            "Requirement already satisfied: pillow>=6.2.0 in /usr/local/lib/python3.10/dist-packages (from matplotlib->catboost) (9.4.0)\n",
            "Requirement already satisfied: pyparsing>=2.3.1 in /usr/local/lib/python3.10/dist-packages (from matplotlib->catboost) (3.1.2)\n",
            "Requirement already satisfied: tenacity>=6.2.0 in /usr/local/lib/python3.10/dist-packages (from plotly->catboost) (8.2.3)\n",
            "Installing collected packages: catboost\n",
            "Successfully installed catboost-1.2.3\n"
          ]
        }
      ]
    },
    {
      "cell_type": "code",
      "source": [
        "from sklearn.model_selection import train_test_split\n",
        "def split(train,test):\n",
        "    target = train['Income']\n",
        "    train = train.drop('Income',axis=1)\n",
        "    x_train, x_valid, y_train, y_valid = train_test_split(train,target,test_size = 0.2, random_state=42)\n",
        "    return x_train, x_valid, y_train, y_valid"
      ],
      "metadata": {
        "id": "F2lEt7U4H-WI"
      },
      "execution_count": null,
      "outputs": []
    },
    {
      "cell_type": "code",
      "source": [
        "from catboost import CatBoostRegressor, Pool"
      ],
      "metadata": {
        "id": "2u6yci3hGbZo"
      },
      "execution_count": null,
      "outputs": []
    },
    {
      "cell_type": "code",
      "source": [
        "categorical_features = [\n",
        "    \"Gender\",\n",
        "    \"Education_Status\",\n",
        "    \"Employment_Status\",\n",
        "    \"Industry_Status\",\n",
        "    \"Occupation_Status\",\n",
        "    \"Race\",\n",
        "    \"Hispanic_Origin\",\n",
        "    \"Martial_Status\",\n",
        "    \"Household_Status\",\n",
        "    \"Household_Summary\",\n",
        "    \"Citizenship\",\n",
        "    \"Birth_Country\",\n",
        "    \"Birth_Country (Father)\",\n",
        "    \"Birth_Country (Mother)\",\n",
        "    \"Tax_Status\",\n",
        "    \"Income_Status\"\n",
        "]"
      ],
      "metadata": {
        "id": "4K6Tk300Ggdm"
      },
      "execution_count": null,
      "outputs": []
    },
    {
      "cell_type": "code",
      "source": [
        "train_pool = Pool(data=x_train,label=y_train, cat_features = categorical_features)\n",
        "valid_pool = Pool(data=x_valid,label=y_valid,cat_features = categorical_features)"
      ],
      "metadata": {
        "id": "SXE8StQJIjjN"
      },
      "execution_count": null,
      "outputs": []
    },
    {
      "cell_type": "code",
      "source": [
        "cat = CatBoostRegressor(iterations=1000, learning_rate = 0.1, random_strength = 0.5, depth = 7, random_state = 42)\n",
        "cat.fit(train_pool,eval_set=(valid_pool),verbose = 1)"
      ],
      "metadata": {
        "id": "JmxRY9ylIytw",
        "colab": {
          "base_uri": "https://localhost:8080/"
        },
        "outputId": "5db4b677-ce4b-4de4-caf1-70991c032f4b"
      },
      "execution_count": null,
      "outputs": [
        {
          "output_type": "stream",
          "name": "stdout",
          "text": [
            "0:\tlearn: 684.2666667\ttest: 683.6635999\tbest: 683.6635999 (0)\ttotal: 126ms\tremaining: 2m 5s\n",
            "1:\tlearn: 670.4480138\ttest: 669.5180733\tbest: 669.5180733 (1)\ttotal: 259ms\tremaining: 2m 9s\n",
            "2:\tlearn: 658.6742343\ttest: 657.2415937\tbest: 657.2415937 (2)\ttotal: 414ms\tremaining: 2m 17s\n",
            "3:\tlearn: 648.3596019\ttest: 646.7200145\tbest: 646.7200145 (3)\ttotal: 543ms\tremaining: 2m 15s\n",
            "4:\tlearn: 639.4684898\ttest: 637.7002789\tbest: 637.7002789 (4)\ttotal: 696ms\tremaining: 2m 18s\n",
            "5:\tlearn: 632.5671239\ttest: 630.8952132\tbest: 630.8952132 (5)\ttotal: 788ms\tremaining: 2m 10s\n",
            "6:\tlearn: 625.9478911\ttest: 624.3906056\tbest: 624.3906056 (6)\ttotal: 849ms\tremaining: 2m\n",
            "7:\tlearn: 620.6949002\ttest: 619.0587668\tbest: 619.0587668 (7)\ttotal: 910ms\tremaining: 1m 52s\n",
            "8:\tlearn: 616.6022833\ttest: 614.7246340\tbest: 614.7246340 (8)\ttotal: 984ms\tremaining: 1m 48s\n",
            "9:\tlearn: 612.7508534\ttest: 611.2944744\tbest: 611.2944744 (9)\ttotal: 1.04s\tremaining: 1m 42s\n",
            "10:\tlearn: 609.8370699\ttest: 608.4998345\tbest: 608.4998345 (10)\ttotal: 1.09s\tremaining: 1m 37s\n",
            "11:\tlearn: 607.0912061\ttest: 606.3396015\tbest: 606.3396015 (11)\ttotal: 1.15s\tremaining: 1m 34s\n",
            "12:\tlearn: 604.8059961\ttest: 604.2520747\tbest: 604.2520747 (12)\ttotal: 1.21s\tremaining: 1m 31s\n",
            "13:\tlearn: 603.3765512\ttest: 602.5864406\tbest: 602.5864406 (13)\ttotal: 1.26s\tremaining: 1m 29s\n",
            "14:\tlearn: 601.8434254\ttest: 601.2705167\tbest: 601.2705167 (14)\ttotal: 1.32s\tremaining: 1m 26s\n",
            "15:\tlearn: 600.7814762\ttest: 600.3806487\tbest: 600.3806487 (15)\ttotal: 1.41s\tremaining: 1m 26s\n",
            "16:\tlearn: 599.7569582\ttest: 599.3457140\tbest: 599.3457140 (16)\ttotal: 1.46s\tremaining: 1m 24s\n",
            "17:\tlearn: 598.6873893\ttest: 598.6218615\tbest: 598.6218615 (17)\ttotal: 1.51s\tremaining: 1m 22s\n",
            "18:\tlearn: 597.4840348\ttest: 597.5369649\tbest: 597.5369649 (18)\ttotal: 1.58s\tremaining: 1m 21s\n",
            "19:\tlearn: 596.7650617\ttest: 597.1103673\tbest: 597.1103673 (19)\ttotal: 1.65s\tremaining: 1m 21s\n",
            "20:\tlearn: 595.7229084\ttest: 596.0966812\tbest: 596.0966812 (20)\ttotal: 1.79s\tremaining: 1m 23s\n",
            "21:\tlearn: 595.1529779\ttest: 595.7039538\tbest: 595.7039538 (21)\ttotal: 1.92s\tremaining: 1m 25s\n",
            "22:\tlearn: 594.5161921\ttest: 595.2753467\tbest: 595.2753467 (22)\ttotal: 2.01s\tremaining: 1m 25s\n",
            "23:\tlearn: 594.0031995\ttest: 595.1399134\tbest: 595.1399134 (23)\ttotal: 2.08s\tremaining: 1m 24s\n",
            "24:\tlearn: 593.3868656\ttest: 594.5370221\tbest: 594.5370221 (24)\ttotal: 2.15s\tremaining: 1m 23s\n",
            "25:\tlearn: 593.0269049\ttest: 594.3656033\tbest: 594.3656033 (25)\ttotal: 2.21s\tremaining: 1m 22s\n",
            "26:\tlearn: 592.5953884\ttest: 594.1279989\tbest: 594.1279989 (26)\ttotal: 2.28s\tremaining: 1m 22s\n",
            "27:\tlearn: 592.3461114\ttest: 593.8812278\tbest: 593.8812278 (27)\ttotal: 2.34s\tremaining: 1m 21s\n",
            "28:\tlearn: 592.0694093\ttest: 593.7655485\tbest: 593.7655485 (28)\ttotal: 2.43s\tremaining: 1m 21s\n",
            "29:\tlearn: 591.5735363\ttest: 593.4553132\tbest: 593.4553132 (29)\ttotal: 2.49s\tremaining: 1m 20s\n",
            "30:\tlearn: 591.4629051\ttest: 593.3148687\tbest: 593.3148687 (30)\ttotal: 2.56s\tremaining: 1m 19s\n",
            "31:\tlearn: 591.2203342\ttest: 593.1612153\tbest: 593.1612153 (31)\ttotal: 2.62s\tremaining: 1m 19s\n",
            "32:\tlearn: 590.4785328\ttest: 592.8212886\tbest: 592.8212886 (32)\ttotal: 2.68s\tremaining: 1m 18s\n",
            "33:\tlearn: 589.9711767\ttest: 592.7199031\tbest: 592.7199031 (33)\ttotal: 2.75s\tremaining: 1m 18s\n",
            "34:\tlearn: 589.7351142\ttest: 592.6616973\tbest: 592.6616973 (34)\ttotal: 2.82s\tremaining: 1m 17s\n",
            "35:\tlearn: 589.7314065\ttest: 592.6626214\tbest: 592.6616973 (34)\ttotal: 2.83s\tremaining: 1m 15s\n",
            "36:\tlearn: 589.7176743\ttest: 592.6630925\tbest: 592.6616973 (34)\ttotal: 2.85s\tremaining: 1m 14s\n",
            "37:\tlearn: 589.2843436\ttest: 592.4566847\tbest: 592.4566847 (37)\ttotal: 2.92s\tremaining: 1m 13s\n",
            "38:\tlearn: 588.5964632\ttest: 591.9381476\tbest: 591.9381476 (38)\ttotal: 2.98s\tremaining: 1m 13s\n",
            "39:\tlearn: 588.2063965\ttest: 591.7597384\tbest: 591.7597384 (39)\ttotal: 3.05s\tremaining: 1m 13s\n",
            "40:\tlearn: 588.1048547\ttest: 591.7488231\tbest: 591.7488231 (40)\ttotal: 3.15s\tremaining: 1m 13s\n",
            "41:\tlearn: 587.7744812\ttest: 591.6581944\tbest: 591.6581944 (41)\ttotal: 3.23s\tremaining: 1m 13s\n",
            "42:\tlearn: 587.7212229\ttest: 591.6484863\tbest: 591.6484863 (42)\ttotal: 3.27s\tremaining: 1m 12s\n",
            "43:\tlearn: 586.9834847\ttest: 591.3618219\tbest: 591.3618219 (43)\ttotal: 3.36s\tremaining: 1m 13s\n",
            "44:\tlearn: 586.9115363\ttest: 591.3546616\tbest: 591.3546616 (44)\ttotal: 3.43s\tremaining: 1m 12s\n",
            "45:\tlearn: 586.8699069\ttest: 591.3179995\tbest: 591.3179995 (45)\ttotal: 3.5s\tremaining: 1m 12s\n",
            "46:\tlearn: 586.1367799\ttest: 591.0561617\tbest: 591.0561617 (46)\ttotal: 3.57s\tremaining: 1m 12s\n",
            "47:\tlearn: 585.9714062\ttest: 591.0387327\tbest: 591.0387327 (47)\ttotal: 3.62s\tremaining: 1m 11s\n",
            "48:\tlearn: 585.7715910\ttest: 590.9982026\tbest: 590.9982026 (48)\ttotal: 3.68s\tremaining: 1m 11s\n",
            "49:\tlearn: 585.5406813\ttest: 590.9457218\tbest: 590.9457218 (49)\ttotal: 3.75s\tremaining: 1m 11s\n",
            "50:\tlearn: 585.5030272\ttest: 590.9430325\tbest: 590.9430325 (50)\ttotal: 3.82s\tremaining: 1m 11s\n",
            "51:\tlearn: 585.0603852\ttest: 590.7926481\tbest: 590.7926481 (51)\ttotal: 3.88s\tremaining: 1m 10s\n",
            "52:\tlearn: 584.9934094\ttest: 590.7946285\tbest: 590.7926481 (51)\ttotal: 3.97s\tremaining: 1m 10s\n",
            "53:\tlearn: 584.7039969\ttest: 590.7739814\tbest: 590.7739814 (53)\ttotal: 4.13s\tremaining: 1m 12s\n",
            "54:\tlearn: 584.6985919\ttest: 590.7627725\tbest: 590.7627725 (54)\ttotal: 4.17s\tremaining: 1m 11s\n",
            "55:\tlearn: 584.6697942\ttest: 590.7703708\tbest: 590.7627725 (54)\ttotal: 4.27s\tremaining: 1m 12s\n",
            "56:\tlearn: 584.6626547\ttest: 590.7685996\tbest: 590.7627725 (54)\ttotal: 4.3s\tremaining: 1m 11s\n",
            "57:\tlearn: 584.3348868\ttest: 590.7380410\tbest: 590.7380410 (57)\ttotal: 4.45s\tremaining: 1m 12s\n",
            "58:\tlearn: 583.8389035\ttest: 590.4704326\tbest: 590.4704326 (58)\ttotal: 4.59s\tremaining: 1m 13s\n",
            "59:\tlearn: 583.8307645\ttest: 590.4762799\tbest: 590.4704326 (58)\ttotal: 4.64s\tremaining: 1m 12s\n",
            "60:\tlearn: 583.8286073\ttest: 590.4768411\tbest: 590.4704326 (58)\ttotal: 4.68s\tremaining: 1m 12s\n",
            "61:\tlearn: 583.7429597\ttest: 590.4626157\tbest: 590.4626157 (61)\ttotal: 4.82s\tremaining: 1m 12s\n",
            "62:\tlearn: 583.7190124\ttest: 590.4787387\tbest: 590.4626157 (61)\ttotal: 4.92s\tremaining: 1m 13s\n",
            "63:\tlearn: 583.5530877\ttest: 590.4183009\tbest: 590.4183009 (63)\ttotal: 5.13s\tremaining: 1m 15s\n",
            "64:\tlearn: 583.5366386\ttest: 590.4153917\tbest: 590.4153917 (64)\ttotal: 5.42s\tremaining: 1m 17s\n",
            "65:\tlearn: 582.8679309\ttest: 590.1649198\tbest: 590.1649198 (65)\ttotal: 5.63s\tremaining: 1m 19s\n",
            "66:\tlearn: 582.7556911\ttest: 590.1595331\tbest: 590.1595331 (66)\ttotal: 5.75s\tremaining: 1m 20s\n",
            "67:\tlearn: 582.6083857\ttest: 590.1505897\tbest: 590.1505897 (67)\ttotal: 5.93s\tremaining: 1m 21s\n",
            "68:\tlearn: 582.3957008\ttest: 590.0959823\tbest: 590.0959823 (68)\ttotal: 6.03s\tremaining: 1m 21s\n",
            "69:\tlearn: 582.2601565\ttest: 590.0736821\tbest: 590.0736821 (69)\ttotal: 6.18s\tremaining: 1m 22s\n",
            "70:\tlearn: 582.2230002\ttest: 590.0664335\tbest: 590.0664335 (70)\ttotal: 6.25s\tremaining: 1m 21s\n",
            "71:\tlearn: 582.2062718\ttest: 590.0560527\tbest: 590.0560527 (71)\ttotal: 6.35s\tremaining: 1m 21s\n",
            "72:\tlearn: 582.1422249\ttest: 590.0540747\tbest: 590.0540747 (72)\ttotal: 6.45s\tremaining: 1m 21s\n",
            "73:\tlearn: 581.8426210\ttest: 589.9114039\tbest: 589.9114039 (73)\ttotal: 6.6s\tremaining: 1m 22s\n",
            "74:\tlearn: 580.7182917\ttest: 589.4424785\tbest: 589.4424785 (74)\ttotal: 6.74s\tremaining: 1m 23s\n",
            "75:\tlearn: 580.5840814\ttest: 589.4738015\tbest: 589.4424785 (74)\ttotal: 6.95s\tremaining: 1m 24s\n",
            "76:\tlearn: 580.5195138\ttest: 589.4225892\tbest: 589.4225892 (76)\ttotal: 7.24s\tremaining: 1m 26s\n",
            "77:\tlearn: 580.4062271\ttest: 589.2799471\tbest: 589.2799471 (77)\ttotal: 7.46s\tremaining: 1m 28s\n",
            "78:\tlearn: 580.2551016\ttest: 589.3106932\tbest: 589.2799471 (77)\ttotal: 7.78s\tremaining: 1m 30s\n",
            "79:\tlearn: 580.0040847\ttest: 589.2265332\tbest: 589.2265332 (79)\ttotal: 8.05s\tremaining: 1m 32s\n",
            "80:\tlearn: 579.9505371\ttest: 589.1946975\tbest: 589.1946975 (80)\ttotal: 8.36s\tremaining: 1m 34s\n",
            "81:\tlearn: 579.2802707\ttest: 589.0020159\tbest: 589.0020159 (81)\ttotal: 8.64s\tremaining: 1m 36s\n",
            "82:\tlearn: 579.0897090\ttest: 589.0125979\tbest: 589.0020159 (81)\ttotal: 8.85s\tremaining: 1m 37s\n",
            "83:\tlearn: 579.0886754\ttest: 589.0129965\tbest: 589.0020159 (81)\ttotal: 8.95s\tremaining: 1m 37s\n",
            "84:\tlearn: 578.4047223\ttest: 588.7024003\tbest: 588.7024003 (84)\ttotal: 9.21s\tremaining: 1m 39s\n",
            "85:\tlearn: 578.0335764\ttest: 588.5790052\tbest: 588.5790052 (85)\ttotal: 9.51s\tremaining: 1m 41s\n",
            "86:\tlearn: 578.0170938\ttest: 588.5818120\tbest: 588.5790052 (85)\ttotal: 9.75s\tremaining: 1m 42s\n",
            "87:\tlearn: 577.9969493\ttest: 588.5789848\tbest: 588.5789848 (87)\ttotal: 10s\tremaining: 1m 43s\n",
            "88:\tlearn: 577.7118194\ttest: 588.5320827\tbest: 588.5320827 (88)\ttotal: 10.3s\tremaining: 1m 45s\n",
            "89:\tlearn: 577.5981454\ttest: 588.5168156\tbest: 588.5168156 (89)\ttotal: 10.6s\tremaining: 1m 46s\n",
            "90:\tlearn: 577.5764010\ttest: 588.5260756\tbest: 588.5168156 (89)\ttotal: 10.8s\tremaining: 1m 48s\n",
            "91:\tlearn: 577.5602407\ttest: 588.5305362\tbest: 588.5168156 (89)\ttotal: 11s\tremaining: 1m 48s\n",
            "92:\tlearn: 577.0753726\ttest: 588.5196415\tbest: 588.5168156 (89)\ttotal: 11.3s\tremaining: 1m 50s\n",
            "93:\tlearn: 576.9038074\ttest: 588.7471571\tbest: 588.5168156 (89)\ttotal: 11.6s\tremaining: 1m 51s\n",
            "94:\tlearn: 576.6961938\ttest: 588.7565173\tbest: 588.5168156 (89)\ttotal: 11.7s\tremaining: 1m 51s\n",
            "95:\tlearn: 576.6716930\ttest: 588.7303092\tbest: 588.5168156 (89)\ttotal: 11.9s\tremaining: 1m 51s\n",
            "96:\tlearn: 576.6171197\ttest: 588.7429589\tbest: 588.5168156 (89)\ttotal: 12s\tremaining: 1m 51s\n",
            "97:\tlearn: 576.5756760\ttest: 588.7128931\tbest: 588.5168156 (89)\ttotal: 12.1s\tremaining: 1m 51s\n",
            "98:\tlearn: 576.5731882\ttest: 588.7083626\tbest: 588.5168156 (89)\ttotal: 12.1s\tremaining: 1m 50s\n",
            "99:\tlearn: 576.5296258\ttest: 588.7040067\tbest: 588.5168156 (89)\ttotal: 12.3s\tremaining: 1m 50s\n",
            "100:\tlearn: 576.5271719\ttest: 588.7078699\tbest: 588.5168156 (89)\ttotal: 12.4s\tremaining: 1m 50s\n",
            "101:\tlearn: 576.5254600\ttest: 588.7084195\tbest: 588.5168156 (89)\ttotal: 12.4s\tremaining: 1m 49s\n",
            "102:\tlearn: 576.4117171\ttest: 588.7165517\tbest: 588.5168156 (89)\ttotal: 12.6s\tremaining: 1m 49s\n",
            "103:\tlearn: 576.3978616\ttest: 588.7189595\tbest: 588.5168156 (89)\ttotal: 12.7s\tremaining: 1m 49s\n",
            "104:\tlearn: 576.3616831\ttest: 588.7388791\tbest: 588.5168156 (89)\ttotal: 13s\tremaining: 1m 50s\n",
            "105:\tlearn: 576.1370083\ttest: 588.6795389\tbest: 588.5168156 (89)\ttotal: 13.3s\tremaining: 1m 52s\n",
            "106:\tlearn: 576.0177342\ttest: 588.6778863\tbest: 588.5168156 (89)\ttotal: 13.5s\tremaining: 1m 52s\n",
            "107:\tlearn: 576.0155058\ttest: 588.6789072\tbest: 588.5168156 (89)\ttotal: 13.6s\tremaining: 1m 52s\n",
            "108:\tlearn: 575.9918405\ttest: 588.6902682\tbest: 588.5168156 (89)\ttotal: 13.7s\tremaining: 1m 52s\n",
            "109:\tlearn: 575.9655713\ttest: 588.6806568\tbest: 588.5168156 (89)\ttotal: 14s\tremaining: 1m 53s\n",
            "110:\tlearn: 575.8989141\ttest: 588.5643564\tbest: 588.5168156 (89)\ttotal: 14.1s\tremaining: 1m 53s\n",
            "111:\tlearn: 575.8370221\ttest: 588.5882081\tbest: 588.5168156 (89)\ttotal: 14.3s\tremaining: 1m 53s\n",
            "112:\tlearn: 575.7965256\ttest: 588.6053483\tbest: 588.5168156 (89)\ttotal: 14.5s\tremaining: 1m 53s\n",
            "113:\tlearn: 575.7906288\ttest: 588.6058581\tbest: 588.5168156 (89)\ttotal: 14.6s\tremaining: 1m 53s\n",
            "114:\tlearn: 575.7792681\ttest: 588.6058531\tbest: 588.5168156 (89)\ttotal: 14.8s\tremaining: 1m 53s\n",
            "115:\tlearn: 575.7735930\ttest: 588.6057072\tbest: 588.5168156 (89)\ttotal: 14.9s\tremaining: 1m 53s\n",
            "116:\tlearn: 575.7640554\ttest: 588.6063939\tbest: 588.5168156 (89)\ttotal: 15s\tremaining: 1m 53s\n",
            "117:\tlearn: 575.7548732\ttest: 588.6066907\tbest: 588.5168156 (89)\ttotal: 15.2s\tremaining: 1m 53s\n",
            "118:\tlearn: 575.7489401\ttest: 588.6055759\tbest: 588.5168156 (89)\ttotal: 15.4s\tremaining: 1m 54s\n",
            "119:\tlearn: 575.4611113\ttest: 588.6055816\tbest: 588.5168156 (89)\ttotal: 15.6s\tremaining: 1m 54s\n",
            "120:\tlearn: 575.2659093\ttest: 588.4571226\tbest: 588.4571226 (120)\ttotal: 15.8s\tremaining: 1m 54s\n",
            "121:\tlearn: 575.2518502\ttest: 588.4627803\tbest: 588.4571226 (120)\ttotal: 15.9s\tremaining: 1m 54s\n",
            "122:\tlearn: 575.0903253\ttest: 588.4429765\tbest: 588.4429765 (122)\ttotal: 16.1s\tremaining: 1m 54s\n",
            "123:\tlearn: 574.7499069\ttest: 587.8550590\tbest: 587.8550590 (123)\ttotal: 16.3s\tremaining: 1m 54s\n",
            "124:\tlearn: 574.7279145\ttest: 587.8596826\tbest: 587.8550590 (123)\ttotal: 16.4s\tremaining: 1m 54s\n",
            "125:\tlearn: 574.4214051\ttest: 587.8616942\tbest: 587.8550590 (123)\ttotal: 16.6s\tremaining: 1m 55s\n",
            "126:\tlearn: 574.3337228\ttest: 587.8796853\tbest: 587.8550590 (123)\ttotal: 16.8s\tremaining: 1m 55s\n",
            "127:\tlearn: 574.0567652\ttest: 587.8386058\tbest: 587.8386058 (127)\ttotal: 17.1s\tremaining: 1m 56s\n",
            "128:\tlearn: 573.7665520\ttest: 587.6906288\tbest: 587.6906288 (128)\ttotal: 17.2s\tremaining: 1m 56s\n",
            "129:\tlearn: 573.6823093\ttest: 587.7121854\tbest: 587.6906288 (128)\ttotal: 17.4s\tremaining: 1m 56s\n",
            "130:\tlearn: 573.6746076\ttest: 587.7159190\tbest: 587.6906288 (128)\ttotal: 17.6s\tremaining: 1m 56s\n",
            "131:\tlearn: 573.6224146\ttest: 587.7175998\tbest: 587.6906288 (128)\ttotal: 17.9s\tremaining: 1m 57s\n",
            "132:\tlearn: 573.5836757\ttest: 587.7264625\tbest: 587.6906288 (128)\ttotal: 18.1s\tremaining: 1m 57s\n",
            "133:\tlearn: 573.5753630\ttest: 587.7273441\tbest: 587.6906288 (128)\ttotal: 18.3s\tremaining: 1m 58s\n",
            "134:\tlearn: 573.5671251\ttest: 587.7309847\tbest: 587.6906288 (128)\ttotal: 18.4s\tremaining: 1m 57s\n",
            "135:\tlearn: 573.5449183\ttest: 587.7273345\tbest: 587.6906288 (128)\ttotal: 18.5s\tremaining: 1m 57s\n",
            "136:\tlearn: 573.5352640\ttest: 587.7231436\tbest: 587.6906288 (128)\ttotal: 18.7s\tremaining: 1m 57s\n",
            "137:\tlearn: 573.5255754\ttest: 587.7294904\tbest: 587.6906288 (128)\ttotal: 18.9s\tremaining: 1m 57s\n",
            "138:\tlearn: 573.3118233\ttest: 587.7438288\tbest: 587.6906288 (128)\ttotal: 19.1s\tremaining: 1m 58s\n",
            "139:\tlearn: 573.1539362\ttest: 587.7222555\tbest: 587.6906288 (128)\ttotal: 19.3s\tremaining: 1m 58s\n",
            "140:\tlearn: 573.0110537\ttest: 587.7097101\tbest: 587.6906288 (128)\ttotal: 19.5s\tremaining: 1m 58s\n",
            "141:\tlearn: 573.0018903\ttest: 587.7087291\tbest: 587.6906288 (128)\ttotal: 19.7s\tremaining: 1m 59s\n",
            "142:\tlearn: 572.7240612\ttest: 587.7110692\tbest: 587.6906288 (128)\ttotal: 19.9s\tremaining: 1m 59s\n",
            "143:\tlearn: 572.7159841\ttest: 587.7113928\tbest: 587.6906288 (128)\ttotal: 20.1s\tremaining: 1m 59s\n",
            "144:\tlearn: 572.7095617\ttest: 587.7102391\tbest: 587.6906288 (128)\ttotal: 20.2s\tremaining: 1m 59s\n",
            "145:\tlearn: 572.5333579\ttest: 587.6165767\tbest: 587.6165767 (145)\ttotal: 20.4s\tremaining: 1m 59s\n",
            "146:\tlearn: 572.5273440\ttest: 587.6163918\tbest: 587.6163918 (146)\ttotal: 20.6s\tremaining: 1m 59s\n",
            "147:\tlearn: 572.3692346\ttest: 587.5780750\tbest: 587.5780750 (147)\ttotal: 20.8s\tremaining: 1m 59s\n",
            "148:\tlearn: 572.2317872\ttest: 587.5960301\tbest: 587.5780750 (147)\ttotal: 21.1s\tremaining: 2m\n",
            "149:\tlearn: 572.1355513\ttest: 587.5954451\tbest: 587.5780750 (147)\ttotal: 21.3s\tremaining: 2m\n",
            "150:\tlearn: 571.9182327\ttest: 587.6605199\tbest: 587.5780750 (147)\ttotal: 21.5s\tremaining: 2m\n",
            "151:\tlearn: 571.8842247\ttest: 587.6643646\tbest: 587.5780750 (147)\ttotal: 21.8s\tremaining: 2m 1s\n",
            "152:\tlearn: 571.8731989\ttest: 587.6649035\tbest: 587.5780750 (147)\ttotal: 22.1s\tremaining: 2m 2s\n",
            "153:\tlearn: 571.7503090\ttest: 587.6537509\tbest: 587.5780750 (147)\ttotal: 22.5s\tremaining: 2m 3s\n",
            "154:\tlearn: 571.7207185\ttest: 587.6503631\tbest: 587.5780750 (147)\ttotal: 22.8s\tremaining: 2m 4s\n",
            "155:\tlearn: 571.5389416\ttest: 587.6449734\tbest: 587.5780750 (147)\ttotal: 23.3s\tremaining: 2m 5s\n",
            "156:\tlearn: 571.5292405\ttest: 587.6454219\tbest: 587.5780750 (147)\ttotal: 23.5s\tremaining: 2m 6s\n",
            "157:\tlearn: 571.4081822\ttest: 587.6406366\tbest: 587.5780750 (147)\ttotal: 23.7s\tremaining: 2m 6s\n",
            "158:\tlearn: 571.3170377\ttest: 587.6566066\tbest: 587.5780750 (147)\ttotal: 24s\tremaining: 2m 7s\n",
            "159:\tlearn: 571.1368795\ttest: 587.7985615\tbest: 587.5780750 (147)\ttotal: 24.4s\tremaining: 2m 8s\n",
            "160:\tlearn: 570.9193533\ttest: 587.8154020\tbest: 587.5780750 (147)\ttotal: 24.8s\tremaining: 2m 9s\n",
            "161:\tlearn: 570.7091515\ttest: 587.8277513\tbest: 587.5780750 (147)\ttotal: 25.1s\tremaining: 2m 9s\n",
            "162:\tlearn: 570.6821200\ttest: 587.8277559\tbest: 587.5780750 (147)\ttotal: 25.4s\tremaining: 2m 10s\n",
            "163:\tlearn: 570.6271508\ttest: 587.8371535\tbest: 587.5780750 (147)\ttotal: 25.7s\tremaining: 2m 10s\n",
            "164:\tlearn: 570.5693346\ttest: 587.8680921\tbest: 587.5780750 (147)\ttotal: 25.9s\tremaining: 2m 11s\n",
            "165:\tlearn: 570.5424682\ttest: 587.8803448\tbest: 587.5780750 (147)\ttotal: 26.1s\tremaining: 2m 10s\n",
            "166:\tlearn: 570.4636403\ttest: 587.8774369\tbest: 587.5780750 (147)\ttotal: 26.2s\tremaining: 2m 10s\n",
            "167:\tlearn: 570.4533983\ttest: 587.8804750\tbest: 587.5780750 (147)\ttotal: 26.4s\tremaining: 2m 10s\n",
            "168:\tlearn: 570.3941621\ttest: 587.8768865\tbest: 587.5780750 (147)\ttotal: 26.5s\tremaining: 2m 10s\n",
            "169:\tlearn: 570.1427429\ttest: 587.8657591\tbest: 587.5780750 (147)\ttotal: 26.6s\tremaining: 2m 10s\n",
            "170:\tlearn: 570.1246904\ttest: 587.8661080\tbest: 587.5780750 (147)\ttotal: 26.8s\tremaining: 2m 9s\n",
            "171:\tlearn: 569.8968448\ttest: 587.8752862\tbest: 587.5780750 (147)\ttotal: 26.9s\tremaining: 2m 9s\n",
            "172:\tlearn: 569.7600747\ttest: 587.8518389\tbest: 587.5780750 (147)\ttotal: 27.1s\tremaining: 2m 9s\n",
            "173:\tlearn: 569.6557436\ttest: 587.8789684\tbest: 587.5780750 (147)\ttotal: 27.3s\tremaining: 2m 9s\n",
            "174:\tlearn: 569.5414557\ttest: 587.8724790\tbest: 587.5780750 (147)\ttotal: 27.4s\tremaining: 2m 9s\n",
            "175:\tlearn: 569.5111579\ttest: 587.8713750\tbest: 587.5780750 (147)\ttotal: 27.5s\tremaining: 2m 8s\n",
            "176:\tlearn: 569.2666358\ttest: 587.8030625\tbest: 587.5780750 (147)\ttotal: 27.7s\tremaining: 2m 8s\n",
            "177:\tlearn: 569.2549116\ttest: 587.8040263\tbest: 587.5780750 (147)\ttotal: 27.8s\tremaining: 2m 8s\n",
            "178:\tlearn: 569.1630260\ttest: 587.8372752\tbest: 587.5780750 (147)\ttotal: 27.9s\tremaining: 2m 7s\n",
            "179:\tlearn: 569.1509479\ttest: 587.8350534\tbest: 587.5780750 (147)\ttotal: 28s\tremaining: 2m 7s\n",
            "180:\tlearn: 568.7969978\ttest: 587.7569550\tbest: 587.5780750 (147)\ttotal: 28.2s\tremaining: 2m 7s\n",
            "181:\tlearn: 568.6453429\ttest: 587.7259317\tbest: 587.5780750 (147)\ttotal: 28.4s\tremaining: 2m 7s\n",
            "182:\tlearn: 568.5058363\ttest: 587.7318304\tbest: 587.5780750 (147)\ttotal: 28.6s\tremaining: 2m 7s\n",
            "183:\tlearn: 568.4299579\ttest: 587.7540782\tbest: 587.5780750 (147)\ttotal: 28.7s\tremaining: 2m 7s\n",
            "184:\tlearn: 568.3270956\ttest: 587.7615008\tbest: 587.5780750 (147)\ttotal: 28.9s\tremaining: 2m 7s\n",
            "185:\tlearn: 568.1471740\ttest: 587.7204836\tbest: 587.5780750 (147)\ttotal: 29.1s\tremaining: 2m 7s\n",
            "186:\tlearn: 568.1324763\ttest: 587.7154222\tbest: 587.5780750 (147)\ttotal: 29.3s\tremaining: 2m 7s\n",
            "187:\tlearn: 567.9363142\ttest: 587.7210144\tbest: 587.5780750 (147)\ttotal: 29.4s\tremaining: 2m 7s\n",
            "188:\tlearn: 567.8464654\ttest: 587.7337227\tbest: 587.5780750 (147)\ttotal: 29.6s\tremaining: 2m 6s\n",
            "189:\tlearn: 567.7262005\ttest: 587.6483707\tbest: 587.5780750 (147)\ttotal: 29.7s\tremaining: 2m 6s\n",
            "190:\tlearn: 567.7167588\ttest: 587.6564549\tbest: 587.5780750 (147)\ttotal: 29.9s\tremaining: 2m 6s\n",
            "191:\tlearn: 567.5980410\ttest: 587.6486423\tbest: 587.5780750 (147)\ttotal: 30s\tremaining: 2m 6s\n",
            "192:\tlearn: 567.2799975\ttest: 587.5938049\tbest: 587.5780750 (147)\ttotal: 30.2s\tremaining: 2m 6s\n",
            "193:\tlearn: 567.1482546\ttest: 587.6350489\tbest: 587.5780750 (147)\ttotal: 30.3s\tremaining: 2m 6s\n",
            "194:\tlearn: 567.0633820\ttest: 587.6569610\tbest: 587.5780750 (147)\ttotal: 30.6s\tremaining: 2m 6s\n",
            "195:\tlearn: 566.9842116\ttest: 587.6934125\tbest: 587.5780750 (147)\ttotal: 30.7s\tremaining: 2m 5s\n",
            "196:\tlearn: 566.7949408\ttest: 587.6842002\tbest: 587.5780750 (147)\ttotal: 30.8s\tremaining: 2m 5s\n",
            "197:\tlearn: 566.7855738\ttest: 587.6863460\tbest: 587.5780750 (147)\ttotal: 30.9s\tremaining: 2m 5s\n",
            "198:\tlearn: 566.6704824\ttest: 587.7068038\tbest: 587.5780750 (147)\ttotal: 31s\tremaining: 2m 4s\n",
            "199:\tlearn: 566.5818226\ttest: 587.7144877\tbest: 587.5780750 (147)\ttotal: 31.2s\tremaining: 2m 4s\n",
            "200:\tlearn: 566.4292879\ttest: 587.7069408\tbest: 587.5780750 (147)\ttotal: 31.4s\tremaining: 2m 4s\n",
            "201:\tlearn: 566.2149185\ttest: 587.7278565\tbest: 587.5780750 (147)\ttotal: 31.5s\tremaining: 2m 4s\n",
            "202:\tlearn: 566.1321630\ttest: 587.7398481\tbest: 587.5780750 (147)\ttotal: 31.6s\tremaining: 2m 4s\n",
            "203:\tlearn: 565.9530285\ttest: 587.7690842\tbest: 587.5780750 (147)\ttotal: 31.7s\tremaining: 2m 3s\n",
            "204:\tlearn: 565.9447397\ttest: 587.7706970\tbest: 587.5780750 (147)\ttotal: 31.7s\tremaining: 2m 3s\n",
            "205:\tlearn: 565.6432909\ttest: 587.6408315\tbest: 587.5780750 (147)\ttotal: 31.8s\tremaining: 2m 2s\n",
            "206:\tlearn: 565.5628951\ttest: 587.6525112\tbest: 587.5780750 (147)\ttotal: 31.9s\tremaining: 2m 2s\n",
            "207:\tlearn: 565.3718291\ttest: 587.6738580\tbest: 587.5780750 (147)\ttotal: 31.9s\tremaining: 2m 1s\n",
            "208:\tlearn: 565.1741704\ttest: 587.6646241\tbest: 587.5780750 (147)\ttotal: 32s\tremaining: 2m 1s\n",
            "209:\tlearn: 565.0218379\ttest: 587.6253087\tbest: 587.5780750 (147)\ttotal: 32.1s\tremaining: 2m\n",
            "210:\tlearn: 564.8442293\ttest: 587.6472988\tbest: 587.5780750 (147)\ttotal: 32.1s\tremaining: 2m\n",
            "211:\tlearn: 564.7720097\ttest: 587.6576735\tbest: 587.5780750 (147)\ttotal: 32.2s\tremaining: 1m 59s\n",
            "212:\tlearn: 564.7399717\ttest: 587.6525659\tbest: 587.5780750 (147)\ttotal: 32.2s\tremaining: 1m 59s\n",
            "213:\tlearn: 564.7331528\ttest: 587.6538032\tbest: 587.5780750 (147)\ttotal: 32.3s\tremaining: 1m 58s\n",
            "214:\tlearn: 564.5911393\ttest: 587.6518193\tbest: 587.5780750 (147)\ttotal: 32.4s\tremaining: 1m 58s\n",
            "215:\tlearn: 564.3948336\ttest: 587.7041295\tbest: 587.5780750 (147)\ttotal: 32.5s\tremaining: 1m 57s\n",
            "216:\tlearn: 564.2273433\ttest: 587.6981909\tbest: 587.5780750 (147)\ttotal: 32.5s\tremaining: 1m 57s\n",
            "217:\tlearn: 564.1852114\ttest: 587.7019786\tbest: 587.5780750 (147)\ttotal: 32.6s\tremaining: 1m 56s\n",
            "218:\tlearn: 564.1479282\ttest: 587.7056052\tbest: 587.5780750 (147)\ttotal: 32.6s\tremaining: 1m 56s\n",
            "219:\tlearn: 564.1297423\ttest: 587.7164088\tbest: 587.5780750 (147)\ttotal: 32.7s\tremaining: 1m 55s\n",
            "220:\tlearn: 564.1056950\ttest: 587.7222653\tbest: 587.5780750 (147)\ttotal: 32.8s\tremaining: 1m 55s\n",
            "221:\tlearn: 563.9541505\ttest: 587.6927477\tbest: 587.5780750 (147)\ttotal: 32.8s\tremaining: 1m 55s\n",
            "222:\tlearn: 563.7057716\ttest: 587.6498645\tbest: 587.5780750 (147)\ttotal: 32.9s\tremaining: 1m 54s\n",
            "223:\tlearn: 563.6385695\ttest: 587.6540973\tbest: 587.5780750 (147)\ttotal: 33s\tremaining: 1m 54s\n",
            "224:\tlearn: 563.6068233\ttest: 587.6547534\tbest: 587.5780750 (147)\ttotal: 33s\tremaining: 1m 53s\n",
            "225:\tlearn: 563.5711644\ttest: 587.6450525\tbest: 587.5780750 (147)\ttotal: 33.1s\tremaining: 1m 53s\n",
            "226:\tlearn: 563.5648504\ttest: 587.6461934\tbest: 587.5780750 (147)\ttotal: 33.1s\tremaining: 1m 52s\n",
            "227:\tlearn: 563.5489018\ttest: 587.6572338\tbest: 587.5780750 (147)\ttotal: 33.2s\tremaining: 1m 52s\n",
            "228:\tlearn: 563.3914994\ttest: 587.6088508\tbest: 587.5780750 (147)\ttotal: 33.3s\tremaining: 1m 52s\n",
            "229:\tlearn: 563.2352809\ttest: 587.6027068\tbest: 587.5780750 (147)\ttotal: 33.3s\tremaining: 1m 51s\n",
            "230:\tlearn: 563.0972272\ttest: 587.5682922\tbest: 587.5682922 (230)\ttotal: 33.4s\tremaining: 1m 51s\n",
            "231:\tlearn: 562.9151136\ttest: 587.5763109\tbest: 587.5682922 (230)\ttotal: 33.5s\tremaining: 1m 50s\n",
            "232:\tlearn: 562.9086733\ttest: 587.5779768\tbest: 587.5682922 (230)\ttotal: 33.5s\tremaining: 1m 50s\n",
            "233:\tlearn: 562.9033726\ttest: 587.5797245\tbest: 587.5682922 (230)\ttotal: 33.6s\tremaining: 1m 50s\n",
            "234:\tlearn: 562.8725808\ttest: 587.5737878\tbest: 587.5682922 (230)\ttotal: 33.7s\tremaining: 1m 49s\n",
            "235:\tlearn: 562.8646330\ttest: 587.5760852\tbest: 587.5682922 (230)\ttotal: 33.7s\tremaining: 1m 49s\n",
            "236:\tlearn: 562.8310482\ttest: 587.5799196\tbest: 587.5682922 (230)\ttotal: 33.8s\tremaining: 1m 48s\n",
            "237:\tlearn: 562.5975612\ttest: 587.5474707\tbest: 587.5474707 (237)\ttotal: 33.9s\tremaining: 1m 48s\n",
            "238:\tlearn: 562.5471488\ttest: 587.5812311\tbest: 587.5474707 (237)\ttotal: 33.9s\tremaining: 1m 48s\n",
            "239:\tlearn: 562.3406685\ttest: 587.5207018\tbest: 587.5207018 (239)\ttotal: 34s\tremaining: 1m 47s\n",
            "240:\tlearn: 562.3076421\ttest: 587.5198510\tbest: 587.5198510 (240)\ttotal: 34s\tremaining: 1m 47s\n",
            "241:\tlearn: 562.1544924\ttest: 587.5171614\tbest: 587.5171614 (241)\ttotal: 34.1s\tremaining: 1m 46s\n",
            "242:\tlearn: 562.0992046\ttest: 587.4968555\tbest: 587.4968555 (242)\ttotal: 34.2s\tremaining: 1m 46s\n",
            "243:\tlearn: 561.9927722\ttest: 587.4896901\tbest: 587.4896901 (243)\ttotal: 34.2s\tremaining: 1m 46s\n",
            "244:\tlearn: 561.9761709\ttest: 587.4875320\tbest: 587.4875320 (244)\ttotal: 34.3s\tremaining: 1m 45s\n",
            "245:\tlearn: 561.7890698\ttest: 587.3937134\tbest: 587.3937134 (245)\ttotal: 34.4s\tremaining: 1m 45s\n",
            "246:\tlearn: 561.7698397\ttest: 587.3982838\tbest: 587.3937134 (245)\ttotal: 34.4s\tremaining: 1m 45s\n",
            "247:\tlearn: 561.7066073\ttest: 587.3694065\tbest: 587.3694065 (247)\ttotal: 34.5s\tremaining: 1m 44s\n",
            "248:\tlearn: 561.5135847\ttest: 587.3000030\tbest: 587.3000030 (248)\ttotal: 34.6s\tremaining: 1m 44s\n",
            "249:\tlearn: 561.1946255\ttest: 587.2817013\tbest: 587.2817013 (249)\ttotal: 34.7s\tremaining: 1m 43s\n",
            "250:\tlearn: 561.1830363\ttest: 587.2715986\tbest: 587.2715986 (250)\ttotal: 34.7s\tremaining: 1m 43s\n",
            "251:\tlearn: 561.1518123\ttest: 587.2850902\tbest: 587.2715986 (250)\ttotal: 34.8s\tremaining: 1m 43s\n",
            "252:\tlearn: 561.1397468\ttest: 587.2917477\tbest: 587.2715986 (250)\ttotal: 34.9s\tremaining: 1m 42s\n",
            "253:\tlearn: 560.9784617\ttest: 587.2829192\tbest: 587.2715986 (250)\ttotal: 34.9s\tremaining: 1m 42s\n",
            "254:\tlearn: 560.9370076\ttest: 587.2526341\tbest: 587.2526341 (254)\ttotal: 35s\tremaining: 1m 42s\n",
            "255:\tlearn: 560.7625095\ttest: 587.2412766\tbest: 587.2412766 (255)\ttotal: 35s\tremaining: 1m 41s\n",
            "256:\tlearn: 560.6794987\ttest: 587.2456763\tbest: 587.2412766 (255)\ttotal: 35.1s\tremaining: 1m 41s\n",
            "257:\tlearn: 560.5178499\ttest: 587.1803497\tbest: 587.1803497 (257)\ttotal: 35.2s\tremaining: 1m 41s\n",
            "258:\tlearn: 559.9944860\ttest: 587.2328565\tbest: 587.1803497 (257)\ttotal: 35.2s\tremaining: 1m 40s\n",
            "259:\tlearn: 559.9405550\ttest: 587.2378038\tbest: 587.1803497 (257)\ttotal: 35.3s\tremaining: 1m 40s\n",
            "260:\tlearn: 559.9216840\ttest: 587.2483394\tbest: 587.1803497 (257)\ttotal: 35.4s\tremaining: 1m 40s\n",
            "261:\tlearn: 559.7576436\ttest: 587.2423358\tbest: 587.1803497 (257)\ttotal: 35.5s\tremaining: 1m 39s\n",
            "262:\tlearn: 559.7353794\ttest: 587.2460030\tbest: 587.1803497 (257)\ttotal: 35.5s\tremaining: 1m 39s\n",
            "263:\tlearn: 559.6891755\ttest: 587.2461892\tbest: 587.1803497 (257)\ttotal: 35.6s\tremaining: 1m 39s\n",
            "264:\tlearn: 559.6719022\ttest: 587.2479754\tbest: 587.1803497 (257)\ttotal: 35.7s\tremaining: 1m 38s\n",
            "265:\tlearn: 559.6234932\ttest: 587.2529703\tbest: 587.1803497 (257)\ttotal: 35.7s\tremaining: 1m 38s\n",
            "266:\tlearn: 559.3280161\ttest: 587.2577203\tbest: 587.1803497 (257)\ttotal: 35.8s\tremaining: 1m 38s\n",
            "267:\tlearn: 558.9955315\ttest: 587.2564289\tbest: 587.1803497 (257)\ttotal: 35.9s\tremaining: 1m 38s\n",
            "268:\tlearn: 558.9201445\ttest: 587.2541910\tbest: 587.1803497 (257)\ttotal: 36s\tremaining: 1m 37s\n",
            "269:\tlearn: 558.7941803\ttest: 587.2511461\tbest: 587.1803497 (257)\ttotal: 36.1s\tremaining: 1m 37s\n",
            "270:\tlearn: 558.7378411\ttest: 587.2601045\tbest: 587.1803497 (257)\ttotal: 36.3s\tremaining: 1m 37s\n",
            "271:\tlearn: 558.6159499\ttest: 587.2460938\tbest: 587.1803497 (257)\ttotal: 36.4s\tremaining: 1m 37s\n",
            "272:\tlearn: 558.5392663\ttest: 587.2462835\tbest: 587.1803497 (257)\ttotal: 36.5s\tremaining: 1m 37s\n",
            "273:\tlearn: 558.3954541\ttest: 587.2309490\tbest: 587.1803497 (257)\ttotal: 36.6s\tremaining: 1m 36s\n",
            "274:\tlearn: 558.3795465\ttest: 587.2317835\tbest: 587.1803497 (257)\ttotal: 36.7s\tremaining: 1m 36s\n",
            "275:\tlearn: 557.9465327\ttest: 586.8765931\tbest: 586.8765931 (275)\ttotal: 36.9s\tremaining: 1m 36s\n",
            "276:\tlearn: 557.7009843\ttest: 586.9152139\tbest: 586.8765931 (275)\ttotal: 37s\tremaining: 1m 36s\n",
            "277:\tlearn: 557.2318624\ttest: 586.7594379\tbest: 586.7594379 (277)\ttotal: 37.1s\tremaining: 1m 36s\n",
            "278:\tlearn: 557.0961281\ttest: 586.7551041\tbest: 586.7551041 (278)\ttotal: 37.2s\tremaining: 1m 36s\n",
            "279:\tlearn: 557.0371661\ttest: 586.7502027\tbest: 586.7502027 (279)\ttotal: 37.4s\tremaining: 1m 36s\n",
            "280:\tlearn: 557.0175649\ttest: 586.7385747\tbest: 586.7385747 (280)\ttotal: 37.5s\tremaining: 1m 35s\n",
            "281:\tlearn: 556.8647834\ttest: 586.7450475\tbest: 586.7385747 (280)\ttotal: 37.6s\tremaining: 1m 35s\n",
            "282:\tlearn: 556.8562040\ttest: 586.7429987\tbest: 586.7385747 (280)\ttotal: 37.7s\tremaining: 1m 35s\n",
            "283:\tlearn: 556.8233053\ttest: 586.7156805\tbest: 586.7156805 (283)\ttotal: 37.8s\tremaining: 1m 35s\n",
            "284:\tlearn: 556.7580856\ttest: 586.7051424\tbest: 586.7051424 (284)\ttotal: 38s\tremaining: 1m 35s\n",
            "285:\tlearn: 556.6922925\ttest: 586.7199011\tbest: 586.7051424 (284)\ttotal: 38.1s\tremaining: 1m 35s\n",
            "286:\tlearn: 556.3252996\ttest: 586.7077188\tbest: 586.7051424 (284)\ttotal: 38.2s\tremaining: 1m 34s\n",
            "287:\tlearn: 556.2773710\ttest: 586.7135780\tbest: 586.7051424 (284)\ttotal: 38.3s\tremaining: 1m 34s\n",
            "288:\tlearn: 556.2167749\ttest: 586.7179631\tbest: 586.7051424 (284)\ttotal: 38.4s\tremaining: 1m 34s\n",
            "289:\tlearn: 556.1694520\ttest: 586.7128636\tbest: 586.7051424 (284)\ttotal: 38.5s\tremaining: 1m 34s\n",
            "290:\tlearn: 556.1245645\ttest: 586.7162164\tbest: 586.7051424 (284)\ttotal: 38.6s\tremaining: 1m 34s\n",
            "291:\tlearn: 555.8386601\ttest: 586.7354355\tbest: 586.7051424 (284)\ttotal: 38.8s\tremaining: 1m 34s\n",
            "292:\tlearn: 555.7790034\ttest: 586.7208816\tbest: 586.7051424 (284)\ttotal: 38.9s\tremaining: 1m 33s\n",
            "293:\tlearn: 555.7084606\ttest: 586.7368752\tbest: 586.7051424 (284)\ttotal: 39s\tremaining: 1m 33s\n",
            "294:\tlearn: 555.6212423\ttest: 586.7435411\tbest: 586.7051424 (284)\ttotal: 39.1s\tremaining: 1m 33s\n",
            "295:\tlearn: 555.5628215\ttest: 586.8159691\tbest: 586.7051424 (284)\ttotal: 39.2s\tremaining: 1m 33s\n",
            "296:\tlearn: 555.2838304\ttest: 586.5163180\tbest: 586.5163180 (296)\ttotal: 39.4s\tremaining: 1m 33s\n",
            "297:\tlearn: 555.1645316\ttest: 586.5114843\tbest: 586.5114843 (297)\ttotal: 39.5s\tremaining: 1m 32s\n",
            "298:\tlearn: 554.9635499\ttest: 586.4253919\tbest: 586.4253919 (298)\ttotal: 39.5s\tremaining: 1m 32s\n",
            "299:\tlearn: 554.7530756\ttest: 586.3992847\tbest: 586.3992847 (299)\ttotal: 39.6s\tremaining: 1m 32s\n",
            "300:\tlearn: 554.6882999\ttest: 586.3950763\tbest: 586.3950763 (300)\ttotal: 39.7s\tremaining: 1m 32s\n",
            "301:\tlearn: 554.2921264\ttest: 586.4210418\tbest: 586.3950763 (300)\ttotal: 39.7s\tremaining: 1m 31s\n",
            "302:\tlearn: 554.0639939\ttest: 586.3440358\tbest: 586.3440358 (302)\ttotal: 39.8s\tremaining: 1m 31s\n",
            "303:\tlearn: 554.0415024\ttest: 586.3515554\tbest: 586.3440358 (302)\ttotal: 39.9s\tremaining: 1m 31s\n",
            "304:\tlearn: 554.0133253\ttest: 586.3398531\tbest: 586.3398531 (304)\ttotal: 39.9s\tremaining: 1m 31s\n",
            "305:\tlearn: 553.9998585\ttest: 586.3403020\tbest: 586.3398531 (304)\ttotal: 40s\tremaining: 1m 30s\n",
            "306:\tlearn: 553.8407239\ttest: 586.3410742\tbest: 586.3398531 (304)\ttotal: 40.1s\tremaining: 1m 30s\n",
            "307:\tlearn: 553.7328603\ttest: 586.3379468\tbest: 586.3379468 (307)\ttotal: 40.1s\tremaining: 1m 30s\n",
            "308:\tlearn: 553.4479000\ttest: 586.1860979\tbest: 586.1860979 (308)\ttotal: 40.2s\tremaining: 1m 29s\n",
            "309:\tlearn: 553.4288466\ttest: 586.1905853\tbest: 586.1860979 (308)\ttotal: 40.3s\tremaining: 1m 29s\n",
            "310:\tlearn: 553.4135239\ttest: 586.1923792\tbest: 586.1860979 (308)\ttotal: 40.3s\tremaining: 1m 29s\n",
            "311:\tlearn: 553.2538955\ttest: 586.1468258\tbest: 586.1468258 (311)\ttotal: 40.4s\tremaining: 1m 29s\n",
            "312:\tlearn: 553.1433642\ttest: 586.1497972\tbest: 586.1468258 (311)\ttotal: 40.5s\tremaining: 1m 28s\n",
            "313:\tlearn: 553.0913588\ttest: 586.1403509\tbest: 586.1403509 (313)\ttotal: 40.5s\tremaining: 1m 28s\n",
            "314:\tlearn: 553.0231539\ttest: 586.1421665\tbest: 586.1403509 (313)\ttotal: 40.6s\tremaining: 1m 28s\n",
            "315:\tlearn: 553.0062364\ttest: 586.1474976\tbest: 586.1403509 (313)\ttotal: 40.6s\tremaining: 1m 27s\n",
            "316:\tlearn: 552.9523370\ttest: 586.1503132\tbest: 586.1403509 (313)\ttotal: 40.7s\tremaining: 1m 27s\n",
            "317:\tlearn: 552.9075040\ttest: 586.1859085\tbest: 586.1403509 (313)\ttotal: 40.8s\tremaining: 1m 27s\n",
            "318:\tlearn: 552.8927913\ttest: 586.1874015\tbest: 586.1403509 (313)\ttotal: 40.9s\tremaining: 1m 27s\n",
            "319:\tlearn: 552.8432748\ttest: 586.1917075\tbest: 586.1403509 (313)\ttotal: 40.9s\tremaining: 1m 26s\n",
            "320:\tlearn: 552.6856854\ttest: 586.1650013\tbest: 586.1403509 (313)\ttotal: 41s\tremaining: 1m 26s\n",
            "321:\tlearn: 552.6478493\ttest: 586.1993284\tbest: 586.1403509 (313)\ttotal: 41s\tremaining: 1m 26s\n",
            "322:\tlearn: 552.5715949\ttest: 586.2134746\tbest: 586.1403509 (313)\ttotal: 41.1s\tremaining: 1m 26s\n",
            "323:\tlearn: 552.4831241\ttest: 586.1961520\tbest: 586.1403509 (313)\ttotal: 41.2s\tremaining: 1m 25s\n",
            "324:\tlearn: 552.0796270\ttest: 586.1931698\tbest: 586.1403509 (313)\ttotal: 41.3s\tremaining: 1m 25s\n",
            "325:\tlearn: 552.0489103\ttest: 586.1936235\tbest: 586.1403509 (313)\ttotal: 41.3s\tremaining: 1m 25s\n",
            "326:\tlearn: 552.0387218\ttest: 586.1912971\tbest: 586.1403509 (313)\ttotal: 41.4s\tremaining: 1m 25s\n",
            "327:\tlearn: 551.7037341\ttest: 586.3012211\tbest: 586.1403509 (313)\ttotal: 41.5s\tremaining: 1m 24s\n",
            "328:\tlearn: 551.6266720\ttest: 586.2952777\tbest: 586.1403509 (313)\ttotal: 41.5s\tremaining: 1m 24s\n",
            "329:\tlearn: 551.4308406\ttest: 586.3089481\tbest: 586.1403509 (313)\ttotal: 41.6s\tremaining: 1m 24s\n",
            "330:\tlearn: 551.2362731\ttest: 586.2446939\tbest: 586.1403509 (313)\ttotal: 41.6s\tremaining: 1m 24s\n",
            "331:\tlearn: 551.1902241\ttest: 586.2482957\tbest: 586.1403509 (313)\ttotal: 41.7s\tremaining: 1m 23s\n",
            "332:\tlearn: 550.9195630\ttest: 586.2016951\tbest: 586.1403509 (313)\ttotal: 41.8s\tremaining: 1m 23s\n",
            "333:\tlearn: 550.8802185\ttest: 586.1936027\tbest: 586.1403509 (313)\ttotal: 41.8s\tremaining: 1m 23s\n",
            "334:\tlearn: 550.7428901\ttest: 586.1842157\tbest: 586.1403509 (313)\ttotal: 41.9s\tremaining: 1m 23s\n",
            "335:\tlearn: 550.7202858\ttest: 586.1810110\tbest: 586.1403509 (313)\ttotal: 42s\tremaining: 1m 22s\n",
            "336:\tlearn: 550.4253476\ttest: 586.1572861\tbest: 586.1403509 (313)\ttotal: 42s\tremaining: 1m 22s\n",
            "337:\tlearn: 550.2539784\ttest: 586.1044260\tbest: 586.1044260 (337)\ttotal: 42.1s\tremaining: 1m 22s\n",
            "338:\tlearn: 550.0499234\ttest: 586.1656540\tbest: 586.1044260 (337)\ttotal: 42.2s\tremaining: 1m 22s\n",
            "339:\tlearn: 549.9962977\ttest: 586.1510535\tbest: 586.1044260 (337)\ttotal: 42.2s\tremaining: 1m 22s\n",
            "340:\tlearn: 549.8620867\ttest: 586.1110932\tbest: 586.1044260 (337)\ttotal: 42.3s\tremaining: 1m 21s\n",
            "341:\tlearn: 549.7588116\ttest: 586.0928254\tbest: 586.0928254 (341)\ttotal: 42.4s\tremaining: 1m 21s\n",
            "342:\tlearn: 549.6393069\ttest: 586.0834099\tbest: 586.0834099 (342)\ttotal: 42.5s\tremaining: 1m 21s\n",
            "343:\tlearn: 549.3317552\ttest: 586.0888649\tbest: 586.0834099 (342)\ttotal: 42.5s\tremaining: 1m 21s\n",
            "344:\tlearn: 549.2769285\ttest: 586.1024314\tbest: 586.0834099 (342)\ttotal: 42.6s\tremaining: 1m 20s\n",
            "345:\tlearn: 549.2274116\ttest: 586.0825508\tbest: 586.0825508 (345)\ttotal: 42.6s\tremaining: 1m 20s\n",
            "346:\tlearn: 549.2149801\ttest: 586.0824906\tbest: 586.0824906 (346)\ttotal: 42.7s\tremaining: 1m 20s\n",
            "347:\tlearn: 549.0804875\ttest: 585.9958845\tbest: 585.9958845 (347)\ttotal: 42.8s\tremaining: 1m 20s\n",
            "348:\tlearn: 548.8935065\ttest: 585.9956357\tbest: 585.9956357 (348)\ttotal: 42.8s\tremaining: 1m 19s\n",
            "349:\tlearn: 548.8078838\ttest: 585.9501642\tbest: 585.9501642 (349)\ttotal: 42.9s\tremaining: 1m 19s\n",
            "350:\tlearn: 548.6460263\ttest: 585.8894081\tbest: 585.8894081 (350)\ttotal: 43s\tremaining: 1m 19s\n",
            "351:\tlearn: 548.5655472\ttest: 585.8813770\tbest: 585.8813770 (351)\ttotal: 43.1s\tremaining: 1m 19s\n",
            "352:\tlearn: 548.5393639\ttest: 585.8983893\tbest: 585.8813770 (351)\ttotal: 43.1s\tremaining: 1m 19s\n",
            "353:\tlearn: 548.3680549\ttest: 585.9907130\tbest: 585.8813770 (351)\ttotal: 43.2s\tremaining: 1m 18s\n",
            "354:\tlearn: 548.3381304\ttest: 586.0099200\tbest: 585.8813770 (351)\ttotal: 43.3s\tremaining: 1m 18s\n",
            "355:\tlearn: 548.2666573\ttest: 585.9628728\tbest: 585.8813770 (351)\ttotal: 43.3s\tremaining: 1m 18s\n",
            "356:\tlearn: 548.2465179\ttest: 585.9782905\tbest: 585.8813770 (351)\ttotal: 43.4s\tremaining: 1m 18s\n",
            "357:\tlearn: 548.2144576\ttest: 585.9666175\tbest: 585.8813770 (351)\ttotal: 43.5s\tremaining: 1m 17s\n",
            "358:\tlearn: 548.1744592\ttest: 585.9646878\tbest: 585.8813770 (351)\ttotal: 43.5s\tremaining: 1m 17s\n",
            "359:\tlearn: 548.1413557\ttest: 585.9691193\tbest: 585.8813770 (351)\ttotal: 43.6s\tremaining: 1m 17s\n",
            "360:\tlearn: 548.1211917\ttest: 585.9460168\tbest: 585.8813770 (351)\ttotal: 43.6s\tremaining: 1m 17s\n",
            "361:\tlearn: 547.8102518\ttest: 585.9680614\tbest: 585.8813770 (351)\ttotal: 43.7s\tremaining: 1m 17s\n",
            "362:\tlearn: 547.4525333\ttest: 585.9461217\tbest: 585.8813770 (351)\ttotal: 43.8s\tremaining: 1m 16s\n",
            "363:\tlearn: 547.2997505\ttest: 585.9975193\tbest: 585.8813770 (351)\ttotal: 43.8s\tremaining: 1m 16s\n",
            "364:\tlearn: 547.2087735\ttest: 586.0349170\tbest: 585.8813770 (351)\ttotal: 43.9s\tremaining: 1m 16s\n",
            "365:\tlearn: 547.1732964\ttest: 586.0332486\tbest: 585.8813770 (351)\ttotal: 44s\tremaining: 1m 16s\n",
            "366:\tlearn: 547.1085044\ttest: 586.0526401\tbest: 585.8813770 (351)\ttotal: 44.1s\tremaining: 1m 15s\n",
            "367:\tlearn: 546.7884677\ttest: 586.0587167\tbest: 585.8813770 (351)\ttotal: 44.1s\tremaining: 1m 15s\n",
            "368:\tlearn: 546.6616314\ttest: 586.0343025\tbest: 585.8813770 (351)\ttotal: 44.2s\tremaining: 1m 15s\n",
            "369:\tlearn: 546.3728228\ttest: 586.0640084\tbest: 585.8813770 (351)\ttotal: 44.3s\tremaining: 1m 15s\n",
            "370:\tlearn: 546.1807819\ttest: 585.9654429\tbest: 585.8813770 (351)\ttotal: 44.3s\tremaining: 1m 15s\n",
            "371:\tlearn: 546.1311203\ttest: 586.0059435\tbest: 585.8813770 (351)\ttotal: 44.4s\tremaining: 1m 14s\n",
            "372:\tlearn: 546.0675496\ttest: 586.0490688\tbest: 585.8813770 (351)\ttotal: 44.5s\tremaining: 1m 14s\n",
            "373:\tlearn: 545.9437229\ttest: 586.0578291\tbest: 585.8813770 (351)\ttotal: 44.5s\tremaining: 1m 14s\n",
            "374:\tlearn: 545.8056899\ttest: 586.1309759\tbest: 585.8813770 (351)\ttotal: 44.6s\tremaining: 1m 14s\n",
            "375:\tlearn: 545.6601481\ttest: 586.1439799\tbest: 585.8813770 (351)\ttotal: 44.6s\tremaining: 1m 14s\n",
            "376:\tlearn: 545.5072466\ttest: 586.1274039\tbest: 585.8813770 (351)\ttotal: 44.7s\tremaining: 1m 13s\n",
            "377:\tlearn: 545.4671982\ttest: 586.1284924\tbest: 585.8813770 (351)\ttotal: 44.8s\tremaining: 1m 13s\n",
            "378:\tlearn: 545.1889091\ttest: 586.1219402\tbest: 585.8813770 (351)\ttotal: 44.9s\tremaining: 1m 13s\n",
            "379:\tlearn: 545.1726739\ttest: 586.1351204\tbest: 585.8813770 (351)\ttotal: 44.9s\tremaining: 1m 13s\n",
            "380:\tlearn: 545.0190045\ttest: 586.2006715\tbest: 585.8813770 (351)\ttotal: 45s\tremaining: 1m 13s\n",
            "381:\tlearn: 544.9985543\ttest: 586.2053927\tbest: 585.8813770 (351)\ttotal: 45.1s\tremaining: 1m 12s\n",
            "382:\tlearn: 544.7594183\ttest: 586.2386373\tbest: 585.8813770 (351)\ttotal: 45.2s\tremaining: 1m 12s\n",
            "383:\tlearn: 544.6371848\ttest: 586.2396355\tbest: 585.8813770 (351)\ttotal: 45.2s\tremaining: 1m 12s\n",
            "384:\tlearn: 544.5544039\ttest: 586.2435861\tbest: 585.8813770 (351)\ttotal: 45.3s\tremaining: 1m 12s\n",
            "385:\tlearn: 544.2458474\ttest: 586.2004937\tbest: 585.8813770 (351)\ttotal: 45.3s\tremaining: 1m 12s\n",
            "386:\tlearn: 544.1944879\ttest: 586.2122361\tbest: 585.8813770 (351)\ttotal: 45.4s\tremaining: 1m 11s\n",
            "387:\tlearn: 544.1653740\ttest: 586.2119321\tbest: 585.8813770 (351)\ttotal: 45.5s\tremaining: 1m 11s\n",
            "388:\tlearn: 544.1489874\ttest: 586.2174254\tbest: 585.8813770 (351)\ttotal: 45.5s\tremaining: 1m 11s\n",
            "389:\tlearn: 544.1366095\ttest: 586.2162445\tbest: 585.8813770 (351)\ttotal: 45.6s\tremaining: 1m 11s\n",
            "390:\tlearn: 543.9399790\ttest: 586.2038604\tbest: 585.8813770 (351)\ttotal: 45.7s\tremaining: 1m 11s\n",
            "391:\tlearn: 543.8398703\ttest: 586.1941948\tbest: 585.8813770 (351)\ttotal: 45.7s\tremaining: 1m 10s\n",
            "392:\tlearn: 543.7778254\ttest: 586.2173371\tbest: 585.8813770 (351)\ttotal: 45.8s\tremaining: 1m 10s\n",
            "393:\tlearn: 543.3606362\ttest: 586.2268877\tbest: 585.8813770 (351)\ttotal: 45.9s\tremaining: 1m 10s\n",
            "394:\tlearn: 543.3479722\ttest: 586.2235466\tbest: 585.8813770 (351)\ttotal: 45.9s\tremaining: 1m 10s\n",
            "395:\tlearn: 543.2814005\ttest: 586.2247071\tbest: 585.8813770 (351)\ttotal: 46s\tremaining: 1m 10s\n",
            "396:\tlearn: 543.1653143\ttest: 586.2401547\tbest: 585.8813770 (351)\ttotal: 46.1s\tremaining: 1m 9s\n",
            "397:\tlearn: 543.1366949\ttest: 586.2634209\tbest: 585.8813770 (351)\ttotal: 46.2s\tremaining: 1m 9s\n",
            "398:\tlearn: 543.0025771\ttest: 586.2226926\tbest: 585.8813770 (351)\ttotal: 46.2s\tremaining: 1m 9s\n",
            "399:\tlearn: 542.9408903\ttest: 586.2400584\tbest: 585.8813770 (351)\ttotal: 46.3s\tremaining: 1m 9s\n",
            "400:\tlearn: 542.8398516\ttest: 586.2578393\tbest: 585.8813770 (351)\ttotal: 46.4s\tremaining: 1m 9s\n",
            "401:\tlearn: 542.8114364\ttest: 586.2834223\tbest: 585.8813770 (351)\ttotal: 46.4s\tremaining: 1m 9s\n",
            "402:\tlearn: 542.7227436\ttest: 586.2855445\tbest: 585.8813770 (351)\ttotal: 46.5s\tremaining: 1m 8s\n",
            "403:\tlearn: 542.4773738\ttest: 586.3030239\tbest: 585.8813770 (351)\ttotal: 46.6s\tremaining: 1m 8s\n",
            "404:\tlearn: 542.3521274\ttest: 586.3182057\tbest: 585.8813770 (351)\ttotal: 46.6s\tremaining: 1m 8s\n",
            "405:\tlearn: 542.1647847\ttest: 586.3606959\tbest: 585.8813770 (351)\ttotal: 46.7s\tremaining: 1m 8s\n",
            "406:\tlearn: 542.1440873\ttest: 586.3459863\tbest: 585.8813770 (351)\ttotal: 46.8s\tremaining: 1m 8s\n",
            "407:\tlearn: 542.1117734\ttest: 586.3119522\tbest: 585.8813770 (351)\ttotal: 46.8s\tremaining: 1m 7s\n",
            "408:\tlearn: 542.1008418\ttest: 586.3117580\tbest: 585.8813770 (351)\ttotal: 46.9s\tremaining: 1m 7s\n",
            "409:\tlearn: 542.0720778\ttest: 586.3416175\tbest: 585.8813770 (351)\ttotal: 47s\tremaining: 1m 7s\n",
            "410:\tlearn: 542.0079506\ttest: 586.3304797\tbest: 585.8813770 (351)\ttotal: 47s\tremaining: 1m 7s\n",
            "411:\tlearn: 541.8775508\ttest: 586.3547062\tbest: 585.8813770 (351)\ttotal: 47.1s\tremaining: 1m 7s\n",
            "412:\tlearn: 541.8301414\ttest: 586.3190486\tbest: 585.8813770 (351)\ttotal: 47.2s\tremaining: 1m 7s\n",
            "413:\tlearn: 541.7298446\ttest: 586.2887305\tbest: 585.8813770 (351)\ttotal: 47.2s\tremaining: 1m 6s\n",
            "414:\tlearn: 541.6037914\ttest: 586.2647691\tbest: 585.8813770 (351)\ttotal: 47.3s\tremaining: 1m 6s\n",
            "415:\tlearn: 541.5657781\ttest: 586.2719114\tbest: 585.8813770 (351)\ttotal: 47.4s\tremaining: 1m 6s\n",
            "416:\tlearn: 541.1593674\ttest: 586.3049789\tbest: 585.8813770 (351)\ttotal: 47.4s\tremaining: 1m 6s\n",
            "417:\tlearn: 541.0976367\ttest: 586.3122881\tbest: 585.8813770 (351)\ttotal: 47.5s\tremaining: 1m 6s\n",
            "418:\tlearn: 541.0872858\ttest: 586.3115300\tbest: 585.8813770 (351)\ttotal: 47.6s\tremaining: 1m 5s\n",
            "419:\tlearn: 541.0196201\ttest: 586.3350173\tbest: 585.8813770 (351)\ttotal: 47.6s\tremaining: 1m 5s\n",
            "420:\tlearn: 540.8400973\ttest: 586.2358755\tbest: 585.8813770 (351)\ttotal: 47.7s\tremaining: 1m 5s\n",
            "421:\tlearn: 540.7983739\ttest: 586.2355811\tbest: 585.8813770 (351)\ttotal: 47.8s\tremaining: 1m 5s\n",
            "422:\tlearn: 540.4791991\ttest: 586.2609087\tbest: 585.8813770 (351)\ttotal: 47.8s\tremaining: 1m 5s\n",
            "423:\tlearn: 540.2735732\ttest: 586.3000186\tbest: 585.8813770 (351)\ttotal: 47.9s\tremaining: 1m 5s\n",
            "424:\tlearn: 540.1511464\ttest: 586.2874005\tbest: 585.8813770 (351)\ttotal: 48s\tremaining: 1m 4s\n",
            "425:\tlearn: 540.0096335\ttest: 586.3081284\tbest: 585.8813770 (351)\ttotal: 48.1s\tremaining: 1m 4s\n",
            "426:\tlearn: 539.9267893\ttest: 586.3064293\tbest: 585.8813770 (351)\ttotal: 48.1s\tremaining: 1m 4s\n",
            "427:\tlearn: 539.8680344\ttest: 586.3298079\tbest: 585.8813770 (351)\ttotal: 48.2s\tremaining: 1m 4s\n",
            "428:\tlearn: 539.8012202\ttest: 586.3256203\tbest: 585.8813770 (351)\ttotal: 48.3s\tremaining: 1m 4s\n",
            "429:\tlearn: 539.7739956\ttest: 586.3077437\tbest: 585.8813770 (351)\ttotal: 48.3s\tremaining: 1m 4s\n",
            "430:\tlearn: 539.5563699\ttest: 586.2258860\tbest: 585.8813770 (351)\ttotal: 48.4s\tremaining: 1m 3s\n",
            "431:\tlearn: 539.4032143\ttest: 586.1492964\tbest: 585.8813770 (351)\ttotal: 48.5s\tremaining: 1m 3s\n",
            "432:\tlearn: 539.3961868\ttest: 586.1502576\tbest: 585.8813770 (351)\ttotal: 48.5s\tremaining: 1m 3s\n",
            "433:\tlearn: 539.3681216\ttest: 586.1610831\tbest: 585.8813770 (351)\ttotal: 48.6s\tremaining: 1m 3s\n",
            "434:\tlearn: 539.3585931\ttest: 586.1666572\tbest: 585.8813770 (351)\ttotal: 48.6s\tremaining: 1m 3s\n",
            "435:\tlearn: 539.2555986\ttest: 586.1165106\tbest: 585.8813770 (351)\ttotal: 48.7s\tremaining: 1m 2s\n",
            "436:\tlearn: 538.9928470\ttest: 586.0183561\tbest: 585.8813770 (351)\ttotal: 48.8s\tremaining: 1m 2s\n",
            "437:\tlearn: 538.8700153\ttest: 586.0413790\tbest: 585.8813770 (351)\ttotal: 48.8s\tremaining: 1m 2s\n",
            "438:\tlearn: 538.8160939\ttest: 586.0370171\tbest: 585.8813770 (351)\ttotal: 48.9s\tremaining: 1m 2s\n",
            "439:\tlearn: 538.7448396\ttest: 586.0563976\tbest: 585.8813770 (351)\ttotal: 49s\tremaining: 1m 2s\n",
            "440:\tlearn: 538.4742119\ttest: 586.1172238\tbest: 585.8813770 (351)\ttotal: 49s\tremaining: 1m 2s\n",
            "441:\tlearn: 538.3761288\ttest: 586.1144154\tbest: 585.8813770 (351)\ttotal: 49.1s\tremaining: 1m 1s\n",
            "442:\tlearn: 538.1852479\ttest: 586.1108352\tbest: 585.8813770 (351)\ttotal: 49.2s\tremaining: 1m 1s\n",
            "443:\tlearn: 537.9959884\ttest: 586.1640910\tbest: 585.8813770 (351)\ttotal: 49.2s\tremaining: 1m 1s\n",
            "444:\tlearn: 537.9396478\ttest: 586.1576482\tbest: 585.8813770 (351)\ttotal: 49.3s\tremaining: 1m 1s\n",
            "445:\tlearn: 537.8016859\ttest: 586.1446384\tbest: 585.8813770 (351)\ttotal: 49.4s\tremaining: 1m 1s\n",
            "446:\tlearn: 537.7065194\ttest: 586.1341479\tbest: 585.8813770 (351)\ttotal: 49.4s\tremaining: 1m 1s\n",
            "447:\tlearn: 537.5846504\ttest: 586.1250862\tbest: 585.8813770 (351)\ttotal: 49.6s\tremaining: 1m 1s\n",
            "448:\tlearn: 537.5530518\ttest: 586.0958241\tbest: 585.8813770 (351)\ttotal: 49.7s\tremaining: 1m\n",
            "449:\tlearn: 537.5198891\ttest: 586.0871700\tbest: 585.8813770 (351)\ttotal: 49.8s\tremaining: 1m\n",
            "450:\tlearn: 537.4916872\ttest: 586.0902219\tbest: 585.8813770 (351)\ttotal: 49.9s\tremaining: 1m\n",
            "451:\tlearn: 537.4024269\ttest: 586.0880974\tbest: 585.8813770 (351)\ttotal: 50s\tremaining: 1m\n",
            "452:\tlearn: 537.2729458\ttest: 586.0668147\tbest: 585.8813770 (351)\ttotal: 50.2s\tremaining: 1m\n",
            "453:\tlearn: 537.0808721\ttest: 586.1044054\tbest: 585.8813770 (351)\ttotal: 50.3s\tremaining: 1m\n",
            "454:\tlearn: 537.0212502\ttest: 586.0946498\tbest: 585.8813770 (351)\ttotal: 50.4s\tremaining: 1m\n",
            "455:\tlearn: 536.9361504\ttest: 586.1504120\tbest: 585.8813770 (351)\ttotal: 50.5s\tremaining: 1m\n",
            "456:\tlearn: 536.8372624\ttest: 586.1942606\tbest: 585.8813770 (351)\ttotal: 50.6s\tremaining: 1m\n",
            "457:\tlearn: 536.7999682\ttest: 586.2093654\tbest: 585.8813770 (351)\ttotal: 50.7s\tremaining: 1m\n",
            "458:\tlearn: 536.7451930\ttest: 586.2133980\tbest: 585.8813770 (351)\ttotal: 50.8s\tremaining: 59.9s\n",
            "459:\tlearn: 536.7008510\ttest: 586.1983357\tbest: 585.8813770 (351)\ttotal: 51s\tremaining: 59.8s\n",
            "460:\tlearn: 536.6433468\ttest: 586.2192682\tbest: 585.8813770 (351)\ttotal: 51.1s\tremaining: 59.7s\n",
            "461:\tlearn: 536.5907954\ttest: 586.2107172\tbest: 585.8813770 (351)\ttotal: 51.2s\tremaining: 59.6s\n",
            "462:\tlearn: 536.3921426\ttest: 586.2595300\tbest: 585.8813770 (351)\ttotal: 51.3s\tremaining: 59.5s\n",
            "463:\tlearn: 536.3399497\ttest: 586.2584864\tbest: 585.8813770 (351)\ttotal: 51.4s\tremaining: 59.4s\n",
            "464:\tlearn: 536.3179589\ttest: 586.2769100\tbest: 585.8813770 (351)\ttotal: 51.5s\tremaining: 59.3s\n",
            "465:\tlearn: 536.2167828\ttest: 586.2868455\tbest: 585.8813770 (351)\ttotal: 51.7s\tremaining: 59.2s\n",
            "466:\tlearn: 535.9666711\ttest: 586.1645812\tbest: 585.8813770 (351)\ttotal: 51.8s\tremaining: 59.1s\n",
            "467:\tlearn: 535.9338514\ttest: 586.1735227\tbest: 585.8813770 (351)\ttotal: 51.9s\tremaining: 59s\n",
            "468:\tlearn: 535.9175081\ttest: 586.1748024\tbest: 585.8813770 (351)\ttotal: 52s\tremaining: 58.9s\n",
            "469:\tlearn: 535.8626353\ttest: 586.1791985\tbest: 585.8813770 (351)\ttotal: 52.1s\tremaining: 58.8s\n",
            "470:\tlearn: 535.8094555\ttest: 586.1739917\tbest: 585.8813770 (351)\ttotal: 52.3s\tremaining: 58.7s\n",
            "471:\tlearn: 535.7810138\ttest: 586.1677723\tbest: 585.8813770 (351)\ttotal: 52.4s\tremaining: 58.6s\n",
            "472:\tlearn: 535.7456202\ttest: 586.1647163\tbest: 585.8813770 (351)\ttotal: 52.5s\tremaining: 58.5s\n",
            "473:\tlearn: 535.3279007\ttest: 586.2249073\tbest: 585.8813770 (351)\ttotal: 52.7s\tremaining: 58.4s\n",
            "474:\tlearn: 535.1863934\ttest: 586.2959415\tbest: 585.8813770 (351)\ttotal: 52.8s\tremaining: 58.3s\n",
            "475:\tlearn: 535.0841303\ttest: 586.2959811\tbest: 585.8813770 (351)\ttotal: 52.9s\tremaining: 58.2s\n",
            "476:\tlearn: 534.9381577\ttest: 586.3604594\tbest: 585.8813770 (351)\ttotal: 53s\tremaining: 58.1s\n",
            "477:\tlearn: 534.9109093\ttest: 586.3001583\tbest: 585.8813770 (351)\ttotal: 53.1s\tremaining: 58s\n",
            "478:\tlearn: 534.8945383\ttest: 586.3120683\tbest: 585.8813770 (351)\ttotal: 53.2s\tremaining: 57.8s\n",
            "479:\tlearn: 534.8044892\ttest: 586.3095973\tbest: 585.8813770 (351)\ttotal: 53.2s\tremaining: 57.7s\n",
            "480:\tlearn: 534.6113536\ttest: 586.3691449\tbest: 585.8813770 (351)\ttotal: 53.3s\tremaining: 57.5s\n",
            "481:\tlearn: 534.5700658\ttest: 586.3812969\tbest: 585.8813770 (351)\ttotal: 53.4s\tremaining: 57.3s\n",
            "482:\tlearn: 534.5308030\ttest: 586.3969229\tbest: 585.8813770 (351)\ttotal: 53.4s\tremaining: 57.2s\n",
            "483:\tlearn: 534.2902755\ttest: 586.4290015\tbest: 585.8813770 (351)\ttotal: 53.5s\tremaining: 57s\n",
            "484:\tlearn: 534.2702759\ttest: 586.4398044\tbest: 585.8813770 (351)\ttotal: 53.6s\tremaining: 56.9s\n",
            "485:\tlearn: 533.8811975\ttest: 586.3468238\tbest: 585.8813770 (351)\ttotal: 53.6s\tremaining: 56.7s\n",
            "486:\tlearn: 533.7056634\ttest: 586.3621996\tbest: 585.8813770 (351)\ttotal: 53.7s\tremaining: 56.6s\n",
            "487:\tlearn: 533.5709705\ttest: 586.3788914\tbest: 585.8813770 (351)\ttotal: 53.8s\tremaining: 56.4s\n",
            "488:\tlearn: 533.4979748\ttest: 586.4035976\tbest: 585.8813770 (351)\ttotal: 53.8s\tremaining: 56.3s\n",
            "489:\tlearn: 533.3059048\ttest: 586.3597760\tbest: 585.8813770 (351)\ttotal: 53.9s\tremaining: 56.1s\n",
            "490:\tlearn: 533.2589490\ttest: 586.4153336\tbest: 585.8813770 (351)\ttotal: 54s\tremaining: 56s\n",
            "491:\tlearn: 533.1781846\ttest: 586.4165677\tbest: 585.8813770 (351)\ttotal: 54s\tremaining: 55.8s\n",
            "492:\tlearn: 533.0002556\ttest: 586.4352595\tbest: 585.8813770 (351)\ttotal: 54.1s\tremaining: 55.7s\n",
            "493:\tlearn: 532.8651435\ttest: 586.4297553\tbest: 585.8813770 (351)\ttotal: 54.2s\tremaining: 55.5s\n",
            "494:\tlearn: 532.8182565\ttest: 586.4027779\tbest: 585.8813770 (351)\ttotal: 54.3s\tremaining: 55.3s\n",
            "495:\tlearn: 532.5381229\ttest: 586.2628362\tbest: 585.8813770 (351)\ttotal: 54.3s\tremaining: 55.2s\n",
            "496:\tlearn: 532.0389376\ttest: 586.2309616\tbest: 585.8813770 (351)\ttotal: 54.4s\tremaining: 55.1s\n",
            "497:\tlearn: 531.7718072\ttest: 586.2397853\tbest: 585.8813770 (351)\ttotal: 54.5s\tremaining: 54.9s\n",
            "498:\tlearn: 531.7547641\ttest: 586.2491111\tbest: 585.8813770 (351)\ttotal: 54.5s\tremaining: 54.8s\n",
            "499:\tlearn: 531.6732629\ttest: 586.2150842\tbest: 585.8813770 (351)\ttotal: 54.6s\tremaining: 54.6s\n",
            "500:\tlearn: 531.5939234\ttest: 586.2153293\tbest: 585.8813770 (351)\ttotal: 54.7s\tremaining: 54.5s\n",
            "501:\tlearn: 531.5267852\ttest: 586.2188259\tbest: 585.8813770 (351)\ttotal: 54.7s\tremaining: 54.3s\n",
            "502:\tlearn: 531.2010704\ttest: 586.2363600\tbest: 585.8813770 (351)\ttotal: 54.8s\tremaining: 54.1s\n",
            "503:\tlearn: 531.1458902\ttest: 586.1753194\tbest: 585.8813770 (351)\ttotal: 54.9s\tremaining: 54s\n",
            "504:\tlearn: 531.0651855\ttest: 586.1738379\tbest: 585.8813770 (351)\ttotal: 54.9s\tremaining: 53.8s\n",
            "505:\tlearn: 530.8573634\ttest: 586.1070960\tbest: 585.8813770 (351)\ttotal: 55s\tremaining: 53.7s\n",
            "506:\tlearn: 530.7368163\ttest: 586.0648793\tbest: 585.8813770 (351)\ttotal: 55.1s\tremaining: 53.6s\n",
            "507:\tlearn: 530.6628848\ttest: 586.0639703\tbest: 585.8813770 (351)\ttotal: 55.1s\tremaining: 53.4s\n",
            "508:\tlearn: 530.5631704\ttest: 586.0576704\tbest: 585.8813770 (351)\ttotal: 55.2s\tremaining: 53.3s\n",
            "509:\tlearn: 530.5407488\ttest: 586.0690977\tbest: 585.8813770 (351)\ttotal: 55.3s\tremaining: 53.1s\n",
            "510:\tlearn: 530.3277248\ttest: 586.1224927\tbest: 585.8813770 (351)\ttotal: 55.4s\tremaining: 53s\n",
            "511:\tlearn: 530.2549383\ttest: 586.1165725\tbest: 585.8813770 (351)\ttotal: 55.4s\tremaining: 52.8s\n",
            "512:\tlearn: 530.0393314\ttest: 586.1512103\tbest: 585.8813770 (351)\ttotal: 55.5s\tremaining: 52.7s\n",
            "513:\tlearn: 529.8870116\ttest: 586.1929447\tbest: 585.8813770 (351)\ttotal: 55.6s\tremaining: 52.5s\n",
            "514:\tlearn: 529.8047957\ttest: 586.1884803\tbest: 585.8813770 (351)\ttotal: 55.6s\tremaining: 52.4s\n",
            "515:\tlearn: 529.5835171\ttest: 586.2806636\tbest: 585.8813770 (351)\ttotal: 55.7s\tremaining: 52.2s\n",
            "516:\tlearn: 529.5396347\ttest: 586.2407864\tbest: 585.8813770 (351)\ttotal: 55.8s\tremaining: 52.1s\n",
            "517:\tlearn: 529.4541311\ttest: 586.2495988\tbest: 585.8813770 (351)\ttotal: 55.8s\tremaining: 52s\n",
            "518:\tlearn: 529.3805863\ttest: 586.2428447\tbest: 585.8813770 (351)\ttotal: 55.9s\tremaining: 51.8s\n",
            "519:\tlearn: 529.3390070\ttest: 586.2551992\tbest: 585.8813770 (351)\ttotal: 56s\tremaining: 51.7s\n",
            "520:\tlearn: 529.3002781\ttest: 586.2730268\tbest: 585.8813770 (351)\ttotal: 56s\tremaining: 51.5s\n",
            "521:\tlearn: 529.2635228\ttest: 586.2389429\tbest: 585.8813770 (351)\ttotal: 56.1s\tremaining: 51.4s\n",
            "522:\tlearn: 529.2388284\ttest: 586.2311793\tbest: 585.8813770 (351)\ttotal: 56.2s\tremaining: 51.2s\n",
            "523:\tlearn: 529.1637985\ttest: 586.2420292\tbest: 585.8813770 (351)\ttotal: 56.2s\tremaining: 51.1s\n",
            "524:\tlearn: 529.0747848\ttest: 586.3023653\tbest: 585.8813770 (351)\ttotal: 56.3s\tremaining: 50.9s\n",
            "525:\tlearn: 529.0175832\ttest: 586.3292375\tbest: 585.8813770 (351)\ttotal: 56.4s\tremaining: 50.8s\n",
            "526:\tlearn: 528.9765824\ttest: 586.3087887\tbest: 585.8813770 (351)\ttotal: 56.4s\tremaining: 50.6s\n",
            "527:\tlearn: 528.8454192\ttest: 586.3396668\tbest: 585.8813770 (351)\ttotal: 56.5s\tremaining: 50.5s\n",
            "528:\tlearn: 528.6057037\ttest: 586.4565676\tbest: 585.8813770 (351)\ttotal: 56.6s\tremaining: 50.4s\n",
            "529:\tlearn: 528.5198032\ttest: 586.4107191\tbest: 585.8813770 (351)\ttotal: 56.6s\tremaining: 50.2s\n",
            "530:\tlearn: 528.4840217\ttest: 586.3883551\tbest: 585.8813770 (351)\ttotal: 56.7s\tremaining: 50.1s\n",
            "531:\tlearn: 528.3628560\ttest: 586.4514200\tbest: 585.8813770 (351)\ttotal: 56.8s\tremaining: 50s\n",
            "532:\tlearn: 528.1810554\ttest: 586.4715672\tbest: 585.8813770 (351)\ttotal: 56.8s\tremaining: 49.8s\n",
            "533:\tlearn: 528.1330657\ttest: 586.4179225\tbest: 585.8813770 (351)\ttotal: 56.9s\tremaining: 49.7s\n",
            "534:\tlearn: 527.9862653\ttest: 586.5024562\tbest: 585.8813770 (351)\ttotal: 57s\tremaining: 49.5s\n",
            "535:\tlearn: 527.7108998\ttest: 586.4866177\tbest: 585.8813770 (351)\ttotal: 57.1s\tremaining: 49.4s\n",
            "536:\tlearn: 527.5880235\ttest: 586.4400344\tbest: 585.8813770 (351)\ttotal: 57.1s\tremaining: 49.2s\n",
            "537:\tlearn: 527.5478008\ttest: 586.4069949\tbest: 585.8813770 (351)\ttotal: 57.2s\tremaining: 49.1s\n",
            "538:\tlearn: 527.4622729\ttest: 586.4382454\tbest: 585.8813770 (351)\ttotal: 57.2s\tremaining: 49s\n",
            "539:\tlearn: 527.4440064\ttest: 586.4376759\tbest: 585.8813770 (351)\ttotal: 57.3s\tremaining: 48.8s\n",
            "540:\tlearn: 527.2457924\ttest: 586.5867619\tbest: 585.8813770 (351)\ttotal: 57.4s\tremaining: 48.7s\n",
            "541:\tlearn: 527.1023890\ttest: 586.6406866\tbest: 585.8813770 (351)\ttotal: 57.5s\tremaining: 48.6s\n",
            "542:\tlearn: 527.0359261\ttest: 586.6523312\tbest: 585.8813770 (351)\ttotal: 57.5s\tremaining: 48.4s\n",
            "543:\tlearn: 526.7729775\ttest: 586.6455508\tbest: 585.8813770 (351)\ttotal: 57.6s\tremaining: 48.3s\n",
            "544:\tlearn: 526.6086564\ttest: 586.6794027\tbest: 585.8813770 (351)\ttotal: 57.7s\tremaining: 48.1s\n",
            "545:\tlearn: 526.5834471\ttest: 586.6885084\tbest: 585.8813770 (351)\ttotal: 57.7s\tremaining: 48s\n",
            "546:\tlearn: 526.4345222\ttest: 586.6841161\tbest: 585.8813770 (351)\ttotal: 57.8s\tremaining: 47.9s\n",
            "547:\tlearn: 526.4261837\ttest: 586.6800689\tbest: 585.8813770 (351)\ttotal: 57.9s\tremaining: 47.7s\n",
            "548:\tlearn: 526.3716879\ttest: 586.6644527\tbest: 585.8813770 (351)\ttotal: 57.9s\tremaining: 47.6s\n",
            "549:\tlearn: 526.3603764\ttest: 586.6628468\tbest: 585.8813770 (351)\ttotal: 58s\tremaining: 47.5s\n",
            "550:\tlearn: 526.1831485\ttest: 586.7236297\tbest: 585.8813770 (351)\ttotal: 58.1s\tremaining: 47.3s\n",
            "551:\tlearn: 525.9811684\ttest: 586.6608774\tbest: 585.8813770 (351)\ttotal: 58.1s\tremaining: 47.2s\n",
            "552:\tlearn: 525.9177222\ttest: 586.5961513\tbest: 585.8813770 (351)\ttotal: 58.2s\tremaining: 47s\n",
            "553:\tlearn: 525.8172666\ttest: 586.5715262\tbest: 585.8813770 (351)\ttotal: 58.3s\tremaining: 46.9s\n",
            "554:\tlearn: 525.5505751\ttest: 586.6693960\tbest: 585.8813770 (351)\ttotal: 58.3s\tremaining: 46.8s\n",
            "555:\tlearn: 525.3936512\ttest: 586.7891047\tbest: 585.8813770 (351)\ttotal: 58.4s\tremaining: 46.6s\n",
            "556:\tlearn: 525.3179062\ttest: 586.8190593\tbest: 585.8813770 (351)\ttotal: 58.5s\tremaining: 46.5s\n",
            "557:\tlearn: 525.2464204\ttest: 586.8298040\tbest: 585.8813770 (351)\ttotal: 58.5s\tremaining: 46.4s\n",
            "558:\tlearn: 525.0533468\ttest: 586.8861168\tbest: 585.8813770 (351)\ttotal: 58.6s\tremaining: 46.2s\n",
            "559:\tlearn: 524.9870994\ttest: 586.8971045\tbest: 585.8813770 (351)\ttotal: 58.7s\tremaining: 46.1s\n",
            "560:\tlearn: 524.9732082\ttest: 586.9014558\tbest: 585.8813770 (351)\ttotal: 58.7s\tremaining: 46s\n",
            "561:\tlearn: 524.9287441\ttest: 586.9109315\tbest: 585.8813770 (351)\ttotal: 58.8s\tremaining: 45.8s\n",
            "562:\tlearn: 524.8894541\ttest: 586.8745898\tbest: 585.8813770 (351)\ttotal: 58.8s\tremaining: 45.7s\n",
            "563:\tlearn: 524.7326659\ttest: 586.8461619\tbest: 585.8813770 (351)\ttotal: 58.9s\tremaining: 45.5s\n",
            "564:\tlearn: 524.7278419\ttest: 586.8501062\tbest: 585.8813770 (351)\ttotal: 59s\tremaining: 45.4s\n",
            "565:\tlearn: 524.7031306\ttest: 586.8631610\tbest: 585.8813770 (351)\ttotal: 59s\tremaining: 45.3s\n",
            "566:\tlearn: 524.6260971\ttest: 586.8956068\tbest: 585.8813770 (351)\ttotal: 59.1s\tremaining: 45.1s\n",
            "567:\tlearn: 524.5507276\ttest: 586.8600095\tbest: 585.8813770 (351)\ttotal: 59.2s\tremaining: 45s\n",
            "568:\tlearn: 524.5197783\ttest: 586.8258441\tbest: 585.8813770 (351)\ttotal: 59.2s\tremaining: 44.9s\n",
            "569:\tlearn: 524.3926160\ttest: 586.9057545\tbest: 585.8813770 (351)\ttotal: 59.3s\tremaining: 44.7s\n",
            "570:\tlearn: 524.2548643\ttest: 586.9159753\tbest: 585.8813770 (351)\ttotal: 59.4s\tremaining: 44.6s\n",
            "571:\tlearn: 524.1264599\ttest: 586.8578338\tbest: 585.8813770 (351)\ttotal: 59.4s\tremaining: 44.5s\n",
            "572:\tlearn: 524.0873450\ttest: 586.8205561\tbest: 585.8813770 (351)\ttotal: 59.5s\tremaining: 44.3s\n",
            "573:\tlearn: 524.0848244\ttest: 586.8247789\tbest: 585.8813770 (351)\ttotal: 59.6s\tremaining: 44.2s\n",
            "574:\tlearn: 524.0104927\ttest: 586.8726805\tbest: 585.8813770 (351)\ttotal: 59.6s\tremaining: 44.1s\n",
            "575:\tlearn: 523.9107351\ttest: 586.8472038\tbest: 585.8813770 (351)\ttotal: 59.7s\tremaining: 43.9s\n",
            "576:\tlearn: 523.8764435\ttest: 586.8487468\tbest: 585.8813770 (351)\ttotal: 59.8s\tremaining: 43.8s\n",
            "577:\tlearn: 523.7362848\ttest: 586.8236501\tbest: 585.8813770 (351)\ttotal: 59.8s\tremaining: 43.7s\n",
            "578:\tlearn: 523.5766249\ttest: 586.8845325\tbest: 585.8813770 (351)\ttotal: 59.9s\tremaining: 43.5s\n",
            "579:\tlearn: 523.5689041\ttest: 586.8906358\tbest: 585.8813770 (351)\ttotal: 59.9s\tremaining: 43.4s\n",
            "580:\tlearn: 523.5435391\ttest: 586.8924747\tbest: 585.8813770 (351)\ttotal: 1m\tremaining: 43.3s\n",
            "581:\tlearn: 523.5219376\ttest: 586.8947389\tbest: 585.8813770 (351)\ttotal: 1m\tremaining: 43.1s\n",
            "582:\tlearn: 523.4859749\ttest: 586.8750023\tbest: 585.8813770 (351)\ttotal: 1m\tremaining: 43s\n",
            "583:\tlearn: 523.3916668\ttest: 586.8762156\tbest: 585.8813770 (351)\ttotal: 1m\tremaining: 42.9s\n",
            "584:\tlearn: 523.3632688\ttest: 586.8751126\tbest: 585.8813770 (351)\ttotal: 1m\tremaining: 42.8s\n",
            "585:\tlearn: 523.2951854\ttest: 586.8749440\tbest: 585.8813770 (351)\ttotal: 1m\tremaining: 42.6s\n",
            "586:\tlearn: 523.2756675\ttest: 586.8559294\tbest: 585.8813770 (351)\ttotal: 1m\tremaining: 42.5s\n",
            "587:\tlearn: 523.1492798\ttest: 586.9097553\tbest: 585.8813770 (351)\ttotal: 1m\tremaining: 42.4s\n",
            "588:\tlearn: 523.1303586\ttest: 586.9061772\tbest: 585.8813770 (351)\ttotal: 1m\tremaining: 42.3s\n",
            "589:\tlearn: 523.0124879\ttest: 586.9322309\tbest: 585.8813770 (351)\ttotal: 1m\tremaining: 42.1s\n",
            "590:\tlearn: 522.9809774\ttest: 586.9024050\tbest: 585.8813770 (351)\ttotal: 1m\tremaining: 42s\n",
            "591:\tlearn: 522.9764816\ttest: 586.9058629\tbest: 585.8813770 (351)\ttotal: 1m\tremaining: 41.9s\n",
            "592:\tlearn: 522.9231759\ttest: 587.0019862\tbest: 585.8813770 (351)\ttotal: 1m\tremaining: 41.7s\n",
            "593:\tlearn: 522.8380395\ttest: 587.0267710\tbest: 585.8813770 (351)\ttotal: 1m\tremaining: 41.6s\n",
            "594:\tlearn: 522.7233713\ttest: 587.0274907\tbest: 585.8813770 (351)\ttotal: 1m\tremaining: 41.5s\n",
            "595:\tlearn: 522.6851593\ttest: 587.0424384\tbest: 585.8813770 (351)\ttotal: 1m 1s\tremaining: 41.4s\n",
            "596:\tlearn: 522.6831787\ttest: 587.0470085\tbest: 585.8813770 (351)\ttotal: 1m 1s\tremaining: 41.2s\n",
            "597:\tlearn: 522.5932102\ttest: 587.0311553\tbest: 585.8813770 (351)\ttotal: 1m 1s\tremaining: 41.1s\n",
            "598:\tlearn: 522.5039604\ttest: 587.0136089\tbest: 585.8813770 (351)\ttotal: 1m 1s\tremaining: 41s\n",
            "599:\tlearn: 522.4804100\ttest: 587.0189231\tbest: 585.8813770 (351)\ttotal: 1m 1s\tremaining: 40.9s\n",
            "600:\tlearn: 522.4773711\ttest: 587.0194118\tbest: 585.8813770 (351)\ttotal: 1m 1s\tremaining: 40.7s\n",
            "601:\tlearn: 522.3506740\ttest: 587.0063105\tbest: 585.8813770 (351)\ttotal: 1m 1s\tremaining: 40.6s\n",
            "602:\tlearn: 522.2741168\ttest: 587.0363009\tbest: 585.8813770 (351)\ttotal: 1m 1s\tremaining: 40.5s\n",
            "603:\tlearn: 522.1479060\ttest: 587.0481090\tbest: 585.8813770 (351)\ttotal: 1m 1s\tremaining: 40.4s\n",
            "604:\tlearn: 522.1077179\ttest: 587.0414221\tbest: 585.8813770 (351)\ttotal: 1m 1s\tremaining: 40.2s\n",
            "605:\tlearn: 522.0978535\ttest: 587.0604811\tbest: 585.8813770 (351)\ttotal: 1m 1s\tremaining: 40.1s\n",
            "606:\tlearn: 521.8493613\ttest: 587.2730841\tbest: 585.8813770 (351)\ttotal: 1m 1s\tremaining: 40s\n",
            "607:\tlearn: 521.7788110\ttest: 587.2733119\tbest: 585.8813770 (351)\ttotal: 1m 1s\tremaining: 39.9s\n",
            "608:\tlearn: 521.7750852\ttest: 587.2735665\tbest: 585.8813770 (351)\ttotal: 1m 1s\tremaining: 39.7s\n",
            "609:\tlearn: 521.6889556\ttest: 587.2518429\tbest: 585.8813770 (351)\ttotal: 1m 1s\tremaining: 39.6s\n",
            "610:\tlearn: 521.6337903\ttest: 587.2642504\tbest: 585.8813770 (351)\ttotal: 1m 2s\tremaining: 39.5s\n",
            "611:\tlearn: 521.5693236\ttest: 587.2668495\tbest: 585.8813770 (351)\ttotal: 1m 2s\tremaining: 39.4s\n",
            "612:\tlearn: 521.4103193\ttest: 587.3250596\tbest: 585.8813770 (351)\ttotal: 1m 2s\tremaining: 39.3s\n",
            "613:\tlearn: 521.3780471\ttest: 587.3216350\tbest: 585.8813770 (351)\ttotal: 1m 2s\tremaining: 39.1s\n",
            "614:\tlearn: 521.3059575\ttest: 587.2840013\tbest: 585.8813770 (351)\ttotal: 1m 2s\tremaining: 39s\n",
            "615:\tlearn: 521.2008323\ttest: 587.2798819\tbest: 585.8813770 (351)\ttotal: 1m 2s\tremaining: 38.9s\n",
            "616:\tlearn: 521.1777624\ttest: 587.2785819\tbest: 585.8813770 (351)\ttotal: 1m 2s\tremaining: 38.8s\n",
            "617:\tlearn: 521.1492420\ttest: 587.2635770\tbest: 585.8813770 (351)\ttotal: 1m 2s\tremaining: 38.6s\n",
            "618:\tlearn: 521.0306220\ttest: 587.2959438\tbest: 585.8813770 (351)\ttotal: 1m 2s\tremaining: 38.5s\n",
            "619:\tlearn: 520.9618995\ttest: 587.3039106\tbest: 585.8813770 (351)\ttotal: 1m 2s\tremaining: 38.4s\n",
            "620:\tlearn: 520.9021736\ttest: 587.3025440\tbest: 585.8813770 (351)\ttotal: 1m 2s\tremaining: 38.3s\n",
            "621:\tlearn: 520.7971874\ttest: 587.3114660\tbest: 585.8813770 (351)\ttotal: 1m 2s\tremaining: 38.2s\n",
            "622:\tlearn: 520.7453062\ttest: 587.3059611\tbest: 585.8813770 (351)\ttotal: 1m 2s\tremaining: 38s\n",
            "623:\tlearn: 520.5566455\ttest: 587.3906533\tbest: 585.8813770 (351)\ttotal: 1m 2s\tremaining: 37.9s\n",
            "624:\tlearn: 520.4579793\ttest: 587.4264857\tbest: 585.8813770 (351)\ttotal: 1m 2s\tremaining: 37.8s\n",
            "625:\tlearn: 520.3137411\ttest: 587.4692391\tbest: 585.8813770 (351)\ttotal: 1m 3s\tremaining: 37.7s\n",
            "626:\tlearn: 520.2951524\ttest: 587.4619752\tbest: 585.8813770 (351)\ttotal: 1m 3s\tremaining: 37.6s\n",
            "627:\tlearn: 520.2862866\ttest: 587.4808196\tbest: 585.8813770 (351)\ttotal: 1m 3s\tremaining: 37.5s\n",
            "628:\tlearn: 520.2473788\ttest: 587.4510619\tbest: 585.8813770 (351)\ttotal: 1m 3s\tremaining: 37.4s\n",
            "629:\tlearn: 520.0714541\ttest: 587.4858973\tbest: 585.8813770 (351)\ttotal: 1m 3s\tremaining: 37.3s\n",
            "630:\tlearn: 520.0670707\ttest: 587.4819675\tbest: 585.8813770 (351)\ttotal: 1m 3s\tremaining: 37.2s\n",
            "631:\tlearn: 519.9757692\ttest: 587.4885441\tbest: 585.8813770 (351)\ttotal: 1m 3s\tremaining: 37.1s\n",
            "632:\tlearn: 519.9347952\ttest: 587.4828562\tbest: 585.8813770 (351)\ttotal: 1m 3s\tremaining: 37s\n",
            "633:\tlearn: 519.9269900\ttest: 587.5016354\tbest: 585.8813770 (351)\ttotal: 1m 4s\tremaining: 37s\n",
            "634:\tlearn: 519.8233755\ttest: 587.5188665\tbest: 585.8813770 (351)\ttotal: 1m 4s\tremaining: 36.9s\n",
            "635:\tlearn: 519.8186807\ttest: 587.5337372\tbest: 585.8813770 (351)\ttotal: 1m 4s\tremaining: 36.8s\n",
            "636:\tlearn: 519.7397349\ttest: 587.5663080\tbest: 585.8813770 (351)\ttotal: 1m 4s\tremaining: 36.7s\n",
            "637:\tlearn: 519.7353788\ttest: 587.5820243\tbest: 585.8813770 (351)\ttotal: 1m 4s\tremaining: 36.6s\n",
            "638:\tlearn: 519.6359347\ttest: 587.5710982\tbest: 585.8813770 (351)\ttotal: 1m 4s\tremaining: 36.5s\n",
            "639:\tlearn: 519.6196464\ttest: 587.5663449\tbest: 585.8813770 (351)\ttotal: 1m 4s\tremaining: 36.4s\n",
            "640:\tlearn: 519.5404761\ttest: 587.5560869\tbest: 585.8813770 (351)\ttotal: 1m 4s\tremaining: 36.3s\n",
            "641:\tlearn: 519.4098347\ttest: 587.5209524\tbest: 585.8813770 (351)\ttotal: 1m 5s\tremaining: 36.3s\n",
            "642:\tlearn: 519.3079758\ttest: 587.5421799\tbest: 585.8813770 (351)\ttotal: 1m 5s\tremaining: 36.2s\n",
            "643:\tlearn: 519.2694918\ttest: 587.5355871\tbest: 585.8813770 (351)\ttotal: 1m 5s\tremaining: 36.1s\n",
            "644:\tlearn: 519.2685681\ttest: 587.5394928\tbest: 585.8813770 (351)\ttotal: 1m 5s\tremaining: 36s\n",
            "645:\tlearn: 519.1942570\ttest: 587.4741133\tbest: 585.8813770 (351)\ttotal: 1m 5s\tremaining: 35.9s\n",
            "646:\tlearn: 519.1577336\ttest: 587.4758210\tbest: 585.8813770 (351)\ttotal: 1m 5s\tremaining: 35.8s\n",
            "647:\tlearn: 519.0250326\ttest: 587.4750528\tbest: 585.8813770 (351)\ttotal: 1m 5s\tremaining: 35.7s\n",
            "648:\tlearn: 518.9860357\ttest: 587.4731604\tbest: 585.8813770 (351)\ttotal: 1m 5s\tremaining: 35.6s\n",
            "649:\tlearn: 518.8476285\ttest: 587.4819949\tbest: 585.8813770 (351)\ttotal: 1m 6s\tremaining: 35.6s\n",
            "650:\tlearn: 518.7683044\ttest: 587.4621776\tbest: 585.8813770 (351)\ttotal: 1m 6s\tremaining: 35.5s\n",
            "651:\tlearn: 518.6778157\ttest: 587.4822176\tbest: 585.8813770 (351)\ttotal: 1m 6s\tremaining: 35.4s\n",
            "652:\tlearn: 518.6388491\ttest: 587.4919762\tbest: 585.8813770 (351)\ttotal: 1m 6s\tremaining: 35.3s\n",
            "653:\tlearn: 518.5117501\ttest: 587.5047619\tbest: 585.8813770 (351)\ttotal: 1m 6s\tremaining: 35.2s\n",
            "654:\tlearn: 518.4769749\ttest: 587.5018165\tbest: 585.8813770 (351)\ttotal: 1m 6s\tremaining: 35.1s\n",
            "655:\tlearn: 518.3902275\ttest: 587.4985684\tbest: 585.8813770 (351)\ttotal: 1m 6s\tremaining: 35s\n",
            "656:\tlearn: 518.3666605\ttest: 587.4774069\tbest: 585.8813770 (351)\ttotal: 1m 6s\tremaining: 34.9s\n",
            "657:\tlearn: 518.1440220\ttest: 587.4708541\tbest: 585.8813770 (351)\ttotal: 1m 6s\tremaining: 34.8s\n",
            "658:\tlearn: 518.0760212\ttest: 587.4561886\tbest: 585.8813770 (351)\ttotal: 1m 6s\tremaining: 34.7s\n",
            "659:\tlearn: 518.0571934\ttest: 587.4554602\tbest: 585.8813770 (351)\ttotal: 1m 7s\tremaining: 34.5s\n",
            "660:\tlearn: 517.9356388\ttest: 587.4784609\tbest: 585.8813770 (351)\ttotal: 1m 7s\tremaining: 34.4s\n",
            "661:\tlearn: 517.7666877\ttest: 587.5349706\tbest: 585.8813770 (351)\ttotal: 1m 7s\tremaining: 34.3s\n",
            "662:\tlearn: 517.5736183\ttest: 587.5521017\tbest: 585.8813770 (351)\ttotal: 1m 7s\tremaining: 34.2s\n",
            "663:\tlearn: 517.4814363\ttest: 587.5597558\tbest: 585.8813770 (351)\ttotal: 1m 7s\tremaining: 34.1s\n",
            "664:\tlearn: 517.4629788\ttest: 587.5416481\tbest: 585.8813770 (351)\ttotal: 1m 7s\tremaining: 33.9s\n",
            "665:\tlearn: 517.4493862\ttest: 587.5342478\tbest: 585.8813770 (351)\ttotal: 1m 7s\tremaining: 33.8s\n",
            "666:\tlearn: 517.3424328\ttest: 587.5957389\tbest: 585.8813770 (351)\ttotal: 1m 7s\tremaining: 33.7s\n",
            "667:\tlearn: 517.3385664\ttest: 587.5919444\tbest: 585.8813770 (351)\ttotal: 1m 7s\tremaining: 33.6s\n",
            "668:\tlearn: 517.2977512\ttest: 587.5914876\tbest: 585.8813770 (351)\ttotal: 1m 7s\tremaining: 33.5s\n",
            "669:\tlearn: 517.2927035\ttest: 587.5926864\tbest: 585.8813770 (351)\ttotal: 1m 7s\tremaining: 33.3s\n",
            "670:\tlearn: 517.2098466\ttest: 587.6378992\tbest: 585.8813770 (351)\ttotal: 1m 7s\tremaining: 33.2s\n",
            "671:\tlearn: 516.9118303\ttest: 587.7315508\tbest: 585.8813770 (351)\ttotal: 1m 7s\tremaining: 33.1s\n",
            "672:\tlearn: 516.8790813\ttest: 587.7306790\tbest: 585.8813770 (351)\ttotal: 1m 7s\tremaining: 33s\n",
            "673:\tlearn: 516.8055219\ttest: 587.7280219\tbest: 585.8813770 (351)\ttotal: 1m 7s\tremaining: 32.9s\n",
            "674:\tlearn: 516.5248340\ttest: 587.7870727\tbest: 585.8813770 (351)\ttotal: 1m 8s\tremaining: 32.8s\n",
            "675:\tlearn: 516.2824173\ttest: 587.8508133\tbest: 585.8813770 (351)\ttotal: 1m 8s\tremaining: 32.6s\n",
            "676:\tlearn: 516.1648202\ttest: 587.7987837\tbest: 585.8813770 (351)\ttotal: 1m 8s\tremaining: 32.5s\n",
            "677:\tlearn: 516.0534922\ttest: 587.7987950\tbest: 585.8813770 (351)\ttotal: 1m 8s\tremaining: 32.4s\n",
            "678:\tlearn: 516.0031797\ttest: 587.8470520\tbest: 585.8813770 (351)\ttotal: 1m 8s\tremaining: 32.3s\n",
            "679:\tlearn: 515.8375742\ttest: 587.8715504\tbest: 585.8813770 (351)\ttotal: 1m 8s\tremaining: 32.2s\n",
            "680:\tlearn: 515.7472493\ttest: 587.8933310\tbest: 585.8813770 (351)\ttotal: 1m 8s\tremaining: 32.1s\n",
            "681:\tlearn: 515.7028116\ttest: 587.8994353\tbest: 585.8813770 (351)\ttotal: 1m 8s\tremaining: 31.9s\n",
            "682:\tlearn: 515.4697776\ttest: 587.9289621\tbest: 585.8813770 (351)\ttotal: 1m 8s\tremaining: 31.8s\n",
            "683:\tlearn: 515.3996534\ttest: 587.9205773\tbest: 585.8813770 (351)\ttotal: 1m 8s\tremaining: 31.7s\n",
            "684:\tlearn: 515.2437775\ttest: 587.8647568\tbest: 585.8813770 (351)\ttotal: 1m 8s\tremaining: 31.6s\n",
            "685:\tlearn: 515.1986604\ttest: 587.8643267\tbest: 585.8813770 (351)\ttotal: 1m 8s\tremaining: 31.5s\n",
            "686:\tlearn: 515.1610882\ttest: 587.8748925\tbest: 585.8813770 (351)\ttotal: 1m 8s\tremaining: 31.4s\n",
            "687:\tlearn: 515.1344222\ttest: 587.8686259\tbest: 585.8813770 (351)\ttotal: 1m 8s\tremaining: 31.2s\n",
            "688:\tlearn: 515.0161036\ttest: 587.8955312\tbest: 585.8813770 (351)\ttotal: 1m 8s\tremaining: 31.1s\n",
            "689:\tlearn: 514.8502790\ttest: 587.8596417\tbest: 585.8813770 (351)\ttotal: 1m 9s\tremaining: 31s\n",
            "690:\tlearn: 514.7766239\ttest: 587.8542021\tbest: 585.8813770 (351)\ttotal: 1m 9s\tremaining: 30.9s\n",
            "691:\tlearn: 514.6235209\ttest: 587.8681348\tbest: 585.8813770 (351)\ttotal: 1m 9s\tremaining: 30.8s\n",
            "692:\tlearn: 514.4752501\ttest: 587.7966676\tbest: 585.8813770 (351)\ttotal: 1m 9s\tremaining: 30.7s\n",
            "693:\tlearn: 514.4031290\ttest: 587.7875119\tbest: 585.8813770 (351)\ttotal: 1m 9s\tremaining: 30.6s\n",
            "694:\tlearn: 514.3822122\ttest: 587.7873456\tbest: 585.8813770 (351)\ttotal: 1m 9s\tremaining: 30.4s\n",
            "695:\tlearn: 514.2867859\ttest: 587.7905646\tbest: 585.8813770 (351)\ttotal: 1m 9s\tremaining: 30.3s\n",
            "696:\tlearn: 514.2726886\ttest: 587.8129974\tbest: 585.8813770 (351)\ttotal: 1m 9s\tremaining: 30.2s\n",
            "697:\tlearn: 514.1787421\ttest: 587.8653636\tbest: 585.8813770 (351)\ttotal: 1m 9s\tremaining: 30.1s\n",
            "698:\tlearn: 514.0997458\ttest: 587.8915886\tbest: 585.8813770 (351)\ttotal: 1m 9s\tremaining: 30s\n",
            "699:\tlearn: 514.0659832\ttest: 587.9075435\tbest: 585.8813770 (351)\ttotal: 1m 9s\tremaining: 29.9s\n",
            "700:\tlearn: 513.9303138\ttest: 587.8772496\tbest: 585.8813770 (351)\ttotal: 1m 9s\tremaining: 29.8s\n",
            "701:\tlearn: 513.8428868\ttest: 587.9059822\tbest: 585.8813770 (351)\ttotal: 1m 9s\tremaining: 29.7s\n",
            "702:\tlearn: 513.8312980\ttest: 587.9270202\tbest: 585.8813770 (351)\ttotal: 1m 9s\tremaining: 29.5s\n",
            "703:\tlearn: 513.7754020\ttest: 587.9280999\tbest: 585.8813770 (351)\ttotal: 1m 9s\tremaining: 29.4s\n",
            "704:\tlearn: 513.7382057\ttest: 587.9097855\tbest: 585.8813770 (351)\ttotal: 1m 10s\tremaining: 29.3s\n",
            "705:\tlearn: 513.7108839\ttest: 587.9009551\tbest: 585.8813770 (351)\ttotal: 1m 10s\tremaining: 29.2s\n",
            "706:\tlearn: 513.7023765\ttest: 587.8969922\tbest: 585.8813770 (351)\ttotal: 1m 10s\tremaining: 29.1s\n",
            "707:\tlearn: 513.6351921\ttest: 587.9040795\tbest: 585.8813770 (351)\ttotal: 1m 10s\tremaining: 29s\n",
            "708:\tlearn: 513.6232329\ttest: 587.8974748\tbest: 585.8813770 (351)\ttotal: 1m 10s\tremaining: 28.9s\n",
            "709:\tlearn: 513.5970581\ttest: 587.9030128\tbest: 585.8813770 (351)\ttotal: 1m 10s\tremaining: 28.7s\n",
            "710:\tlearn: 513.5355585\ttest: 587.8959263\tbest: 585.8813770 (351)\ttotal: 1m 10s\tremaining: 28.6s\n",
            "711:\tlearn: 513.5176128\ttest: 587.8898981\tbest: 585.8813770 (351)\ttotal: 1m 10s\tremaining: 28.5s\n",
            "712:\tlearn: 513.4340787\ttest: 587.9064504\tbest: 585.8813770 (351)\ttotal: 1m 10s\tremaining: 28.4s\n",
            "713:\tlearn: 513.4107736\ttest: 587.8747542\tbest: 585.8813770 (351)\ttotal: 1m 10s\tremaining: 28.3s\n",
            "714:\tlearn: 513.3259598\ttest: 587.8234189\tbest: 585.8813770 (351)\ttotal: 1m 10s\tremaining: 28.2s\n",
            "715:\tlearn: 513.2448183\ttest: 587.8141628\tbest: 585.8813770 (351)\ttotal: 1m 10s\tremaining: 28.1s\n",
            "716:\tlearn: 513.1043339\ttest: 587.8680716\tbest: 585.8813770 (351)\ttotal: 1m 10s\tremaining: 28s\n",
            "717:\tlearn: 513.0968384\ttest: 587.8647123\tbest: 585.8813770 (351)\ttotal: 1m 10s\tremaining: 27.9s\n",
            "718:\tlearn: 512.7567274\ttest: 587.8741452\tbest: 585.8813770 (351)\ttotal: 1m 11s\tremaining: 27.8s\n",
            "719:\tlearn: 512.7035991\ttest: 587.9315402\tbest: 585.8813770 (351)\ttotal: 1m 11s\tremaining: 27.6s\n",
            "720:\tlearn: 512.4051904\ttest: 588.0268506\tbest: 585.8813770 (351)\ttotal: 1m 11s\tremaining: 27.5s\n",
            "721:\tlearn: 512.2311390\ttest: 588.0211738\tbest: 585.8813770 (351)\ttotal: 1m 11s\tremaining: 27.4s\n",
            "722:\tlearn: 512.0371636\ttest: 588.0734427\tbest: 585.8813770 (351)\ttotal: 1m 11s\tremaining: 27.3s\n",
            "723:\tlearn: 512.0147548\ttest: 588.0719888\tbest: 585.8813770 (351)\ttotal: 1m 11s\tremaining: 27.2s\n",
            "724:\tlearn: 511.9347729\ttest: 588.0908587\tbest: 585.8813770 (351)\ttotal: 1m 11s\tremaining: 27.1s\n",
            "725:\tlearn: 511.8841641\ttest: 588.0863515\tbest: 585.8813770 (351)\ttotal: 1m 11s\tremaining: 27s\n",
            "726:\tlearn: 511.7258767\ttest: 588.1199299\tbest: 585.8813770 (351)\ttotal: 1m 11s\tremaining: 26.9s\n",
            "727:\tlearn: 511.7138481\ttest: 588.1196968\tbest: 585.8813770 (351)\ttotal: 1m 11s\tremaining: 26.8s\n",
            "728:\tlearn: 511.4937902\ttest: 588.1558103\tbest: 585.8813770 (351)\ttotal: 1m 11s\tremaining: 26.6s\n",
            "729:\tlearn: 511.4632367\ttest: 588.1822074\tbest: 585.8813770 (351)\ttotal: 1m 11s\tremaining: 26.5s\n",
            "730:\tlearn: 511.4436859\ttest: 588.1924016\tbest: 585.8813770 (351)\ttotal: 1m 11s\tremaining: 26.4s\n",
            "731:\tlearn: 511.3280579\ttest: 588.1928691\tbest: 585.8813770 (351)\ttotal: 1m 11s\tremaining: 26.3s\n",
            "732:\tlearn: 511.3027206\ttest: 588.1863062\tbest: 585.8813770 (351)\ttotal: 1m 11s\tremaining: 26.2s\n",
            "733:\tlearn: 511.1325444\ttest: 588.1617586\tbest: 585.8813770 (351)\ttotal: 1m 12s\tremaining: 26.1s\n",
            "734:\tlearn: 511.1053087\ttest: 588.1546603\tbest: 585.8813770 (351)\ttotal: 1m 12s\tremaining: 26s\n",
            "735:\tlearn: 510.9026399\ttest: 588.2193865\tbest: 585.8813770 (351)\ttotal: 1m 12s\tremaining: 25.9s\n",
            "736:\tlearn: 510.8719310\ttest: 588.2414569\tbest: 585.8813770 (351)\ttotal: 1m 12s\tremaining: 25.8s\n",
            "737:\tlearn: 510.7524483\ttest: 588.1794954\tbest: 585.8813770 (351)\ttotal: 1m 12s\tremaining: 25.7s\n",
            "738:\tlearn: 510.5432997\ttest: 588.1822374\tbest: 585.8813770 (351)\ttotal: 1m 12s\tremaining: 25.6s\n",
            "739:\tlearn: 510.5407900\ttest: 588.1823879\tbest: 585.8813770 (351)\ttotal: 1m 12s\tremaining: 25.4s\n",
            "740:\tlearn: 510.5349913\ttest: 588.1798501\tbest: 585.8813770 (351)\ttotal: 1m 12s\tremaining: 25.3s\n",
            "741:\tlearn: 510.5027662\ttest: 588.1804961\tbest: 585.8813770 (351)\ttotal: 1m 12s\tremaining: 25.2s\n",
            "742:\tlearn: 510.4705298\ttest: 588.1740213\tbest: 585.8813770 (351)\ttotal: 1m 12s\tremaining: 25.1s\n",
            "743:\tlearn: 510.4558110\ttest: 588.1482496\tbest: 585.8813770 (351)\ttotal: 1m 12s\tremaining: 25s\n",
            "744:\tlearn: 510.3853576\ttest: 588.1289856\tbest: 585.8813770 (351)\ttotal: 1m 12s\tremaining: 24.9s\n",
            "745:\tlearn: 510.3535199\ttest: 588.1101195\tbest: 585.8813770 (351)\ttotal: 1m 12s\tremaining: 24.8s\n",
            "746:\tlearn: 510.3083594\ttest: 588.1690728\tbest: 585.8813770 (351)\ttotal: 1m 12s\tremaining: 24.7s\n",
            "747:\tlearn: 510.1624320\ttest: 588.1788307\tbest: 585.8813770 (351)\ttotal: 1m 12s\tremaining: 24.6s\n",
            "748:\tlearn: 510.0556551\ttest: 588.2265061\tbest: 585.8813770 (351)\ttotal: 1m 13s\tremaining: 24.5s\n",
            "749:\tlearn: 510.0135628\ttest: 588.2246915\tbest: 585.8813770 (351)\ttotal: 1m 13s\tremaining: 24.4s\n",
            "750:\tlearn: 509.6399345\ttest: 588.2387368\tbest: 585.8813770 (351)\ttotal: 1m 13s\tremaining: 24.3s\n",
            "751:\tlearn: 509.6139122\ttest: 588.2630693\tbest: 585.8813770 (351)\ttotal: 1m 13s\tremaining: 24.1s\n",
            "752:\tlearn: 509.5636763\ttest: 588.2495253\tbest: 585.8813770 (351)\ttotal: 1m 13s\tremaining: 24s\n",
            "753:\tlearn: 509.5191598\ttest: 588.2856825\tbest: 585.8813770 (351)\ttotal: 1m 13s\tremaining: 23.9s\n",
            "754:\tlearn: 509.4111785\ttest: 588.3287513\tbest: 585.8813770 (351)\ttotal: 1m 13s\tremaining: 23.8s\n",
            "755:\tlearn: 509.3740765\ttest: 588.3285287\tbest: 585.8813770 (351)\ttotal: 1m 13s\tremaining: 23.7s\n",
            "756:\tlearn: 509.3471663\ttest: 588.3362751\tbest: 585.8813770 (351)\ttotal: 1m 13s\tremaining: 23.6s\n",
            "757:\tlearn: 509.1647326\ttest: 588.3496363\tbest: 585.8813770 (351)\ttotal: 1m 13s\tremaining: 23.5s\n",
            "758:\tlearn: 509.0150628\ttest: 588.3945425\tbest: 585.8813770 (351)\ttotal: 1m 13s\tremaining: 23.4s\n",
            "759:\tlearn: 508.9642231\ttest: 588.4080000\tbest: 585.8813770 (351)\ttotal: 1m 13s\tremaining: 23.3s\n",
            "760:\tlearn: 508.9430867\ttest: 588.4139385\tbest: 585.8813770 (351)\ttotal: 1m 13s\tremaining: 23.2s\n",
            "761:\tlearn: 508.8804278\ttest: 588.4622557\tbest: 585.8813770 (351)\ttotal: 1m 13s\tremaining: 23.1s\n",
            "762:\tlearn: 508.7157973\ttest: 588.4808259\tbest: 585.8813770 (351)\ttotal: 1m 13s\tremaining: 23s\n",
            "763:\tlearn: 508.5708729\ttest: 588.5335515\tbest: 585.8813770 (351)\ttotal: 1m 14s\tremaining: 22.9s\n",
            "764:\tlearn: 508.5585283\ttest: 588.5109827\tbest: 585.8813770 (351)\ttotal: 1m 14s\tremaining: 22.8s\n",
            "765:\tlearn: 508.5282847\ttest: 588.5201447\tbest: 585.8813770 (351)\ttotal: 1m 14s\tremaining: 22.7s\n",
            "766:\tlearn: 508.4657982\ttest: 588.4513609\tbest: 585.8813770 (351)\ttotal: 1m 14s\tremaining: 22.5s\n",
            "767:\tlearn: 508.3782132\ttest: 588.4643722\tbest: 585.8813770 (351)\ttotal: 1m 14s\tremaining: 22.4s\n",
            "768:\tlearn: 508.3298579\ttest: 588.4733817\tbest: 585.8813770 (351)\ttotal: 1m 14s\tremaining: 22.3s\n",
            "769:\tlearn: 508.0556900\ttest: 588.3993741\tbest: 585.8813770 (351)\ttotal: 1m 14s\tremaining: 22.2s\n",
            "770:\tlearn: 507.9548339\ttest: 588.4144558\tbest: 585.8813770 (351)\ttotal: 1m 14s\tremaining: 22.1s\n",
            "771:\tlearn: 507.7611659\ttest: 588.4834395\tbest: 585.8813770 (351)\ttotal: 1m 14s\tremaining: 22s\n",
            "772:\tlearn: 507.6466554\ttest: 588.5536492\tbest: 585.8813770 (351)\ttotal: 1m 14s\tremaining: 21.9s\n",
            "773:\tlearn: 507.6077475\ttest: 588.5504375\tbest: 585.8813770 (351)\ttotal: 1m 14s\tremaining: 21.8s\n",
            "774:\tlearn: 507.5624501\ttest: 588.5644433\tbest: 585.8813770 (351)\ttotal: 1m 14s\tremaining: 21.7s\n",
            "775:\tlearn: 507.5220174\ttest: 588.5918307\tbest: 585.8813770 (351)\ttotal: 1m 14s\tremaining: 21.6s\n",
            "776:\tlearn: 507.5107413\ttest: 588.5833968\tbest: 585.8813770 (351)\ttotal: 1m 14s\tremaining: 21.5s\n",
            "777:\tlearn: 507.4906800\ttest: 588.5972699\tbest: 585.8813770 (351)\ttotal: 1m 15s\tremaining: 21.4s\n",
            "778:\tlearn: 507.4158214\ttest: 588.5494706\tbest: 585.8813770 (351)\ttotal: 1m 15s\tremaining: 21.3s\n",
            "779:\tlearn: 507.3921540\ttest: 588.5434461\tbest: 585.8813770 (351)\ttotal: 1m 15s\tremaining: 21.3s\n",
            "780:\tlearn: 507.3110575\ttest: 588.5671575\tbest: 585.8813770 (351)\ttotal: 1m 15s\tremaining: 21.2s\n",
            "781:\tlearn: 507.1687354\ttest: 588.6017775\tbest: 585.8813770 (351)\ttotal: 1m 15s\tremaining: 21.1s\n",
            "782:\tlearn: 506.9384728\ttest: 588.6345734\tbest: 585.8813770 (351)\ttotal: 1m 15s\tremaining: 21s\n",
            "783:\tlearn: 506.8387730\ttest: 588.6228694\tbest: 585.8813770 (351)\ttotal: 1m 15s\tremaining: 20.9s\n",
            "784:\tlearn: 506.7340338\ttest: 588.6090289\tbest: 585.8813770 (351)\ttotal: 1m 16s\tremaining: 20.8s\n",
            "785:\tlearn: 506.6385318\ttest: 588.6334500\tbest: 585.8813770 (351)\ttotal: 1m 16s\tremaining: 20.7s\n",
            "786:\tlearn: 506.5064120\ttest: 588.6852031\tbest: 585.8813770 (351)\ttotal: 1m 16s\tremaining: 20.6s\n",
            "787:\tlearn: 506.4186394\ttest: 588.6779502\tbest: 585.8813770 (351)\ttotal: 1m 16s\tremaining: 20.6s\n",
            "788:\tlearn: 506.3708915\ttest: 588.6772871\tbest: 585.8813770 (351)\ttotal: 1m 16s\tremaining: 20.5s\n",
            "789:\tlearn: 506.1572523\ttest: 588.6354036\tbest: 585.8813770 (351)\ttotal: 1m 16s\tremaining: 20.4s\n",
            "790:\tlearn: 506.0660892\ttest: 588.6669322\tbest: 585.8813770 (351)\ttotal: 1m 16s\tremaining: 20.3s\n",
            "791:\tlearn: 505.9767573\ttest: 588.6210056\tbest: 585.8813770 (351)\ttotal: 1m 16s\tremaining: 20.2s\n",
            "792:\tlearn: 505.9259930\ttest: 588.6611637\tbest: 585.8813770 (351)\ttotal: 1m 17s\tremaining: 20.1s\n",
            "793:\tlearn: 505.8650438\ttest: 588.6445541\tbest: 585.8813770 (351)\ttotal: 1m 17s\tremaining: 20s\n",
            "794:\tlearn: 505.8252731\ttest: 588.6391938\tbest: 585.8813770 (351)\ttotal: 1m 17s\tremaining: 19.9s\n",
            "795:\tlearn: 505.7574554\ttest: 588.6372849\tbest: 585.8813770 (351)\ttotal: 1m 17s\tremaining: 19.9s\n",
            "796:\tlearn: 505.7080640\ttest: 588.6456502\tbest: 585.8813770 (351)\ttotal: 1m 17s\tremaining: 19.8s\n",
            "797:\tlearn: 505.6120269\ttest: 588.6477549\tbest: 585.8813770 (351)\ttotal: 1m 17s\tremaining: 19.7s\n",
            "798:\tlearn: 505.5526978\ttest: 588.6449806\tbest: 585.8813770 (351)\ttotal: 1m 17s\tremaining: 19.6s\n",
            "799:\tlearn: 505.5011377\ttest: 588.6416354\tbest: 585.8813770 (351)\ttotal: 1m 18s\tremaining: 19.5s\n",
            "800:\tlearn: 505.3565635\ttest: 588.7056443\tbest: 585.8813770 (351)\ttotal: 1m 18s\tremaining: 19.4s\n",
            "801:\tlearn: 505.3070327\ttest: 588.6785732\tbest: 585.8813770 (351)\ttotal: 1m 18s\tremaining: 19.3s\n",
            "802:\tlearn: 505.2452448\ttest: 588.6934068\tbest: 585.8813770 (351)\ttotal: 1m 18s\tremaining: 19.3s\n",
            "803:\tlearn: 505.2168357\ttest: 588.7039634\tbest: 585.8813770 (351)\ttotal: 1m 18s\tremaining: 19.2s\n",
            "804:\tlearn: 505.0932130\ttest: 588.7249276\tbest: 585.8813770 (351)\ttotal: 1m 18s\tremaining: 19.1s\n",
            "805:\tlearn: 504.9259503\ttest: 588.7569379\tbest: 585.8813770 (351)\ttotal: 1m 18s\tremaining: 19s\n",
            "806:\tlearn: 504.8939193\ttest: 588.7679419\tbest: 585.8813770 (351)\ttotal: 1m 19s\tremaining: 18.9s\n",
            "807:\tlearn: 504.8034289\ttest: 588.7796175\tbest: 585.8813770 (351)\ttotal: 1m 19s\tremaining: 18.8s\n",
            "808:\tlearn: 504.6691067\ttest: 588.8152000\tbest: 585.8813770 (351)\ttotal: 1m 19s\tremaining: 18.7s\n",
            "809:\tlearn: 504.6546144\ttest: 588.8035126\tbest: 585.8813770 (351)\ttotal: 1m 19s\tremaining: 18.7s\n",
            "810:\tlearn: 504.6061196\ttest: 588.8115723\tbest: 585.8813770 (351)\ttotal: 1m 19s\tremaining: 18.6s\n",
            "811:\tlearn: 504.6012929\ttest: 588.8084818\tbest: 585.8813770 (351)\ttotal: 1m 19s\tremaining: 18.5s\n",
            "812:\tlearn: 504.4560034\ttest: 588.8442762\tbest: 585.8813770 (351)\ttotal: 1m 19s\tremaining: 18.4s\n",
            "813:\tlearn: 504.3821111\ttest: 588.8594087\tbest: 585.8813770 (351)\ttotal: 1m 20s\tremaining: 18.3s\n",
            "814:\tlearn: 504.1188666\ttest: 588.8137815\tbest: 585.8813770 (351)\ttotal: 1m 20s\tremaining: 18.2s\n",
            "815:\tlearn: 504.0011093\ttest: 588.8323255\tbest: 585.8813770 (351)\ttotal: 1m 20s\tremaining: 18.1s\n",
            "816:\tlearn: 503.9808192\ttest: 588.8340263\tbest: 585.8813770 (351)\ttotal: 1m 20s\tremaining: 18s\n",
            "817:\tlearn: 503.8367241\ttest: 588.8900074\tbest: 585.8813770 (351)\ttotal: 1m 20s\tremaining: 17.9s\n",
            "818:\tlearn: 503.8271524\ttest: 588.8894957\tbest: 585.8813770 (351)\ttotal: 1m 20s\tremaining: 17.8s\n",
            "819:\tlearn: 503.7836997\ttest: 588.9096169\tbest: 585.8813770 (351)\ttotal: 1m 20s\tremaining: 17.7s\n",
            "820:\tlearn: 503.7424409\ttest: 588.9035443\tbest: 585.8813770 (351)\ttotal: 1m 20s\tremaining: 17.6s\n",
            "821:\tlearn: 503.6904686\ttest: 588.9017702\tbest: 585.8813770 (351)\ttotal: 1m 21s\tremaining: 17.6s\n",
            "822:\tlearn: 503.5942749\ttest: 588.9128332\tbest: 585.8813770 (351)\ttotal: 1m 21s\tremaining: 17.5s\n",
            "823:\tlearn: 503.4828082\ttest: 588.9860576\tbest: 585.8813770 (351)\ttotal: 1m 21s\tremaining: 17.4s\n",
            "824:\tlearn: 503.2274361\ttest: 589.0466176\tbest: 585.8813770 (351)\ttotal: 1m 21s\tremaining: 17.3s\n",
            "825:\tlearn: 503.1450984\ttest: 589.0688792\tbest: 585.8813770 (351)\ttotal: 1m 21s\tremaining: 17.2s\n",
            "826:\tlearn: 503.0091132\ttest: 589.0928134\tbest: 585.8813770 (351)\ttotal: 1m 21s\tremaining: 17.1s\n",
            "827:\tlearn: 502.7889304\ttest: 589.1042297\tbest: 585.8813770 (351)\ttotal: 1m 21s\tremaining: 17s\n",
            "828:\tlearn: 502.7821738\ttest: 589.0972744\tbest: 585.8813770 (351)\ttotal: 1m 21s\tremaining: 16.9s\n",
            "829:\tlearn: 502.6807053\ttest: 589.0796247\tbest: 585.8813770 (351)\ttotal: 1m 21s\tremaining: 16.8s\n",
            "830:\tlearn: 502.5812483\ttest: 589.1489854\tbest: 585.8813770 (351)\ttotal: 1m 21s\tremaining: 16.7s\n",
            "831:\tlearn: 502.5302306\ttest: 589.1475085\tbest: 585.8813770 (351)\ttotal: 1m 22s\tremaining: 16.6s\n",
            "832:\tlearn: 502.4207982\ttest: 589.2349359\tbest: 585.8813770 (351)\ttotal: 1m 22s\tremaining: 16.5s\n",
            "833:\tlearn: 502.3564833\ttest: 589.3348583\tbest: 585.8813770 (351)\ttotal: 1m 22s\tremaining: 16.4s\n",
            "834:\tlearn: 502.2765055\ttest: 589.4093751\tbest: 585.8813770 (351)\ttotal: 1m 22s\tremaining: 16.3s\n",
            "835:\tlearn: 502.2098130\ttest: 589.3779437\tbest: 585.8813770 (351)\ttotal: 1m 22s\tremaining: 16.2s\n",
            "836:\tlearn: 502.1722882\ttest: 589.3892843\tbest: 585.8813770 (351)\ttotal: 1m 22s\tremaining: 16.1s\n",
            "837:\tlearn: 502.1329557\ttest: 589.3863259\tbest: 585.8813770 (351)\ttotal: 1m 22s\tremaining: 15.9s\n",
            "838:\tlearn: 502.0392712\ttest: 589.3641190\tbest: 585.8813770 (351)\ttotal: 1m 22s\tremaining: 15.8s\n",
            "839:\tlearn: 501.8622194\ttest: 589.2855182\tbest: 585.8813770 (351)\ttotal: 1m 22s\tremaining: 15.7s\n",
            "840:\tlearn: 501.8216713\ttest: 589.2648322\tbest: 585.8813770 (351)\ttotal: 1m 22s\tremaining: 15.6s\n",
            "841:\tlearn: 501.7559548\ttest: 589.2617397\tbest: 585.8813770 (351)\ttotal: 1m 22s\tremaining: 15.5s\n",
            "842:\tlearn: 501.7218307\ttest: 589.2550528\tbest: 585.8813770 (351)\ttotal: 1m 22s\tremaining: 15.4s\n",
            "843:\tlearn: 501.4902155\ttest: 589.2637369\tbest: 585.8813770 (351)\ttotal: 1m 22s\tremaining: 15.3s\n",
            "844:\tlearn: 501.3916939\ttest: 589.2821824\tbest: 585.8813770 (351)\ttotal: 1m 22s\tremaining: 15.2s\n",
            "845:\tlearn: 501.3695335\ttest: 589.2861373\tbest: 585.8813770 (351)\ttotal: 1m 23s\tremaining: 15.1s\n",
            "846:\tlearn: 501.3251956\ttest: 589.3179316\tbest: 585.8813770 (351)\ttotal: 1m 23s\tremaining: 15s\n",
            "847:\tlearn: 501.0730250\ttest: 589.2811480\tbest: 585.8813770 (351)\ttotal: 1m 23s\tremaining: 14.9s\n",
            "848:\tlearn: 501.0123606\ttest: 589.2530339\tbest: 585.8813770 (351)\ttotal: 1m 23s\tremaining: 14.8s\n",
            "849:\tlearn: 500.9841870\ttest: 589.2634498\tbest: 585.8813770 (351)\ttotal: 1m 23s\tremaining: 14.7s\n",
            "850:\tlearn: 500.8656919\ttest: 589.3287116\tbest: 585.8813770 (351)\ttotal: 1m 23s\tremaining: 14.6s\n",
            "851:\tlearn: 500.7316259\ttest: 589.4498957\tbest: 585.8813770 (351)\ttotal: 1m 23s\tremaining: 14.5s\n",
            "852:\tlearn: 500.7036822\ttest: 589.4501784\tbest: 585.8813770 (351)\ttotal: 1m 23s\tremaining: 14.4s\n",
            "853:\tlearn: 500.6751505\ttest: 589.4273049\tbest: 585.8813770 (351)\ttotal: 1m 23s\tremaining: 14.3s\n",
            "854:\tlearn: 500.5019989\ttest: 589.3545162\tbest: 585.8813770 (351)\ttotal: 1m 23s\tremaining: 14.2s\n",
            "855:\tlearn: 500.4016372\ttest: 589.3368594\tbest: 585.8813770 (351)\ttotal: 1m 23s\tremaining: 14.1s\n",
            "856:\tlearn: 500.3131970\ttest: 589.3373817\tbest: 585.8813770 (351)\ttotal: 1m 23s\tremaining: 14s\n",
            "857:\tlearn: 500.2736523\ttest: 589.3251866\tbest: 585.8813770 (351)\ttotal: 1m 23s\tremaining: 13.9s\n",
            "858:\tlearn: 500.1389785\ttest: 589.3664369\tbest: 585.8813770 (351)\ttotal: 1m 23s\tremaining: 13.8s\n",
            "859:\tlearn: 500.1107763\ttest: 589.3753766\tbest: 585.8813770 (351)\ttotal: 1m 23s\tremaining: 13.7s\n",
            "860:\tlearn: 500.0067521\ttest: 589.3632057\tbest: 585.8813770 (351)\ttotal: 1m 24s\tremaining: 13.6s\n",
            "861:\tlearn: 499.8793072\ttest: 589.3799027\tbest: 585.8813770 (351)\ttotal: 1m 24s\tremaining: 13.5s\n",
            "862:\tlearn: 499.6583017\ttest: 589.4148297\tbest: 585.8813770 (351)\ttotal: 1m 24s\tremaining: 13.4s\n",
            "863:\tlearn: 499.5028025\ttest: 589.4067154\tbest: 585.8813770 (351)\ttotal: 1m 24s\tremaining: 13.3s\n",
            "864:\tlearn: 499.4168662\ttest: 589.4208934\tbest: 585.8813770 (351)\ttotal: 1m 24s\tremaining: 13.2s\n",
            "865:\tlearn: 499.3139961\ttest: 589.4237428\tbest: 585.8813770 (351)\ttotal: 1m 24s\tremaining: 13.1s\n",
            "866:\tlearn: 499.2731881\ttest: 589.4113649\tbest: 585.8813770 (351)\ttotal: 1m 24s\tremaining: 13s\n",
            "867:\tlearn: 499.2355202\ttest: 589.4186688\tbest: 585.8813770 (351)\ttotal: 1m 24s\tremaining: 12.9s\n",
            "868:\tlearn: 499.1856428\ttest: 589.4161738\tbest: 585.8813770 (351)\ttotal: 1m 24s\tremaining: 12.8s\n",
            "869:\tlearn: 499.1123902\ttest: 589.3882223\tbest: 585.8813770 (351)\ttotal: 1m 24s\tremaining: 12.7s\n",
            "870:\tlearn: 499.0599448\ttest: 589.3804776\tbest: 585.8813770 (351)\ttotal: 1m 24s\tremaining: 12.5s\n",
            "871:\tlearn: 498.9681150\ttest: 589.3443186\tbest: 585.8813770 (351)\ttotal: 1m 24s\tremaining: 12.4s\n",
            "872:\tlearn: 498.9346540\ttest: 589.3400224\tbest: 585.8813770 (351)\ttotal: 1m 24s\tremaining: 12.3s\n",
            "873:\tlearn: 498.9059808\ttest: 589.3375948\tbest: 585.8813770 (351)\ttotal: 1m 24s\tremaining: 12.2s\n",
            "874:\tlearn: 498.7460067\ttest: 589.3525976\tbest: 585.8813770 (351)\ttotal: 1m 25s\tremaining: 12.1s\n",
            "875:\tlearn: 498.6436693\ttest: 589.4087667\tbest: 585.8813770 (351)\ttotal: 1m 25s\tremaining: 12s\n",
            "876:\tlearn: 498.4852358\ttest: 589.3963579\tbest: 585.8813770 (351)\ttotal: 1m 25s\tremaining: 11.9s\n",
            "877:\tlearn: 498.4255032\ttest: 589.4439490\tbest: 585.8813770 (351)\ttotal: 1m 25s\tremaining: 11.8s\n",
            "878:\tlearn: 498.2920293\ttest: 589.4681169\tbest: 585.8813770 (351)\ttotal: 1m 25s\tremaining: 11.7s\n",
            "879:\tlearn: 498.2107076\ttest: 589.5018141\tbest: 585.8813770 (351)\ttotal: 1m 25s\tremaining: 11.6s\n",
            "880:\tlearn: 498.0264579\ttest: 589.5577638\tbest: 585.8813770 (351)\ttotal: 1m 25s\tremaining: 11.5s\n",
            "881:\tlearn: 497.9188558\ttest: 589.6272718\tbest: 585.8813770 (351)\ttotal: 1m 25s\tremaining: 11.4s\n",
            "882:\tlearn: 497.8646084\ttest: 589.6238546\tbest: 585.8813770 (351)\ttotal: 1m 25s\tremaining: 11.3s\n",
            "883:\tlearn: 497.8271150\ttest: 589.6162427\tbest: 585.8813770 (351)\ttotal: 1m 25s\tremaining: 11.2s\n",
            "884:\tlearn: 497.6661061\ttest: 589.6516094\tbest: 585.8813770 (351)\ttotal: 1m 25s\tremaining: 11.1s\n",
            "885:\tlearn: 497.6145338\ttest: 589.6190504\tbest: 585.8813770 (351)\ttotal: 1m 25s\tremaining: 11s\n",
            "886:\tlearn: 497.5636046\ttest: 589.6156547\tbest: 585.8813770 (351)\ttotal: 1m 25s\tremaining: 10.9s\n",
            "887:\tlearn: 497.3638515\ttest: 589.6224771\tbest: 585.8813770 (351)\ttotal: 1m 25s\tremaining: 10.8s\n",
            "888:\tlearn: 497.3239821\ttest: 589.6208768\tbest: 585.8813770 (351)\ttotal: 1m 25s\tremaining: 10.7s\n",
            "889:\tlearn: 497.3098401\ttest: 589.6237211\tbest: 585.8813770 (351)\ttotal: 1m 26s\tremaining: 10.6s\n",
            "890:\tlearn: 497.1661554\ttest: 589.5868006\tbest: 585.8813770 (351)\ttotal: 1m 26s\tremaining: 10.5s\n",
            "891:\tlearn: 497.0320671\ttest: 589.5886233\tbest: 585.8813770 (351)\ttotal: 1m 26s\tremaining: 10.4s\n",
            "892:\tlearn: 496.9373606\ttest: 589.5753155\tbest: 585.8813770 (351)\ttotal: 1m 26s\tremaining: 10.3s\n",
            "893:\tlearn: 496.8834267\ttest: 589.5958050\tbest: 585.8813770 (351)\ttotal: 1m 26s\tremaining: 10.2s\n",
            "894:\tlearn: 496.6736890\ttest: 589.7257876\tbest: 585.8813770 (351)\ttotal: 1m 26s\tremaining: 10.1s\n",
            "895:\tlearn: 496.6171476\ttest: 589.7288552\tbest: 585.8813770 (351)\ttotal: 1m 26s\tremaining: 10s\n",
            "896:\tlearn: 496.5480560\ttest: 589.7163842\tbest: 585.8813770 (351)\ttotal: 1m 26s\tremaining: 9.94s\n",
            "897:\tlearn: 496.4608712\ttest: 589.7239545\tbest: 585.8813770 (351)\ttotal: 1m 26s\tremaining: 9.84s\n",
            "898:\tlearn: 496.4093655\ttest: 589.7190179\tbest: 585.8813770 (351)\ttotal: 1m 26s\tremaining: 9.74s\n",
            "899:\tlearn: 496.3940693\ttest: 589.7198338\tbest: 585.8813770 (351)\ttotal: 1m 26s\tremaining: 9.64s\n",
            "900:\tlearn: 496.3424764\ttest: 589.7136266\tbest: 585.8813770 (351)\ttotal: 1m 26s\tremaining: 9.54s\n",
            "901:\tlearn: 496.3362945\ttest: 589.7153600\tbest: 585.8813770 (351)\ttotal: 1m 26s\tremaining: 9.44s\n",
            "902:\tlearn: 496.2806074\ttest: 589.7125999\tbest: 585.8813770 (351)\ttotal: 1m 26s\tremaining: 9.34s\n",
            "903:\tlearn: 496.1989931\ttest: 589.7147344\tbest: 585.8813770 (351)\ttotal: 1m 27s\tremaining: 9.24s\n",
            "904:\tlearn: 496.1325618\ttest: 589.7157903\tbest: 585.8813770 (351)\ttotal: 1m 27s\tremaining: 9.14s\n",
            "905:\tlearn: 496.0575070\ttest: 589.7371915\tbest: 585.8813770 (351)\ttotal: 1m 27s\tremaining: 9.04s\n",
            "906:\tlearn: 495.8212330\ttest: 589.7498381\tbest: 585.8813770 (351)\ttotal: 1m 27s\tremaining: 8.94s\n",
            "907:\tlearn: 495.7065859\ttest: 589.7329172\tbest: 585.8813770 (351)\ttotal: 1m 27s\tremaining: 8.84s\n",
            "908:\tlearn: 495.5277086\ttest: 589.6589424\tbest: 585.8813770 (351)\ttotal: 1m 27s\tremaining: 8.74s\n",
            "909:\tlearn: 495.3647408\ttest: 589.7070988\tbest: 585.8813770 (351)\ttotal: 1m 27s\tremaining: 8.64s\n",
            "910:\tlearn: 495.2966898\ttest: 589.5108138\tbest: 585.8813770 (351)\ttotal: 1m 27s\tremaining: 8.54s\n",
            "911:\tlearn: 495.2368001\ttest: 589.4965328\tbest: 585.8813770 (351)\ttotal: 1m 27s\tremaining: 8.45s\n",
            "912:\tlearn: 495.1992718\ttest: 589.5002574\tbest: 585.8813770 (351)\ttotal: 1m 27s\tremaining: 8.35s\n",
            "913:\tlearn: 495.1890506\ttest: 589.4972418\tbest: 585.8813770 (351)\ttotal: 1m 27s\tremaining: 8.25s\n",
            "914:\tlearn: 495.0901646\ttest: 589.5649443\tbest: 585.8813770 (351)\ttotal: 1m 27s\tremaining: 8.15s\n",
            "915:\tlearn: 494.9568006\ttest: 589.5947393\tbest: 585.8813770 (351)\ttotal: 1m 27s\tremaining: 8.05s\n",
            "916:\tlearn: 494.9464409\ttest: 589.5908439\tbest: 585.8813770 (351)\ttotal: 1m 27s\tremaining: 7.95s\n",
            "917:\tlearn: 494.9198742\ttest: 589.5812622\tbest: 585.8813770 (351)\ttotal: 1m 27s\tremaining: 7.85s\n",
            "918:\tlearn: 494.8900134\ttest: 589.5671492\tbest: 585.8813770 (351)\ttotal: 1m 27s\tremaining: 7.76s\n",
            "919:\tlearn: 494.8643445\ttest: 589.5640736\tbest: 585.8813770 (351)\ttotal: 1m 28s\tremaining: 7.66s\n",
            "920:\tlearn: 494.7694847\ttest: 589.5539208\tbest: 585.8813770 (351)\ttotal: 1m 28s\tremaining: 7.56s\n",
            "921:\tlearn: 494.4850109\ttest: 589.5982845\tbest: 585.8813770 (351)\ttotal: 1m 28s\tremaining: 7.46s\n",
            "922:\tlearn: 494.4828254\ttest: 589.6036715\tbest: 585.8813770 (351)\ttotal: 1m 28s\tremaining: 7.36s\n",
            "923:\tlearn: 494.4016699\ttest: 589.6146133\tbest: 585.8813770 (351)\ttotal: 1m 28s\tremaining: 7.27s\n",
            "924:\tlearn: 494.3346141\ttest: 589.6268129\tbest: 585.8813770 (351)\ttotal: 1m 28s\tremaining: 7.17s\n",
            "925:\tlearn: 494.3167483\ttest: 589.6279863\tbest: 585.8813770 (351)\ttotal: 1m 28s\tremaining: 7.07s\n",
            "926:\tlearn: 494.2183661\ttest: 589.6487823\tbest: 585.8813770 (351)\ttotal: 1m 28s\tremaining: 6.97s\n",
            "927:\tlearn: 494.1322611\ttest: 589.6644642\tbest: 585.8813770 (351)\ttotal: 1m 28s\tremaining: 6.88s\n",
            "928:\tlearn: 494.1090971\ttest: 589.6704652\tbest: 585.8813770 (351)\ttotal: 1m 28s\tremaining: 6.78s\n",
            "929:\tlearn: 494.0782557\ttest: 589.7036170\tbest: 585.8813770 (351)\ttotal: 1m 28s\tremaining: 6.68s\n",
            "930:\tlearn: 494.0615395\ttest: 589.6932518\tbest: 585.8813770 (351)\ttotal: 1m 28s\tremaining: 6.58s\n",
            "931:\tlearn: 493.9831963\ttest: 589.7340024\tbest: 585.8813770 (351)\ttotal: 1m 28s\tremaining: 6.49s\n",
            "932:\tlearn: 493.9014445\ttest: 589.7549215\tbest: 585.8813770 (351)\ttotal: 1m 28s\tremaining: 6.39s\n",
            "933:\tlearn: 493.8780592\ttest: 589.7635301\tbest: 585.8813770 (351)\ttotal: 1m 29s\tremaining: 6.29s\n",
            "934:\tlearn: 493.7643249\ttest: 589.7750780\tbest: 585.8813770 (351)\ttotal: 1m 29s\tremaining: 6.19s\n",
            "935:\tlearn: 493.6357011\ttest: 589.8057426\tbest: 585.8813770 (351)\ttotal: 1m 29s\tremaining: 6.1s\n",
            "936:\tlearn: 493.6219548\ttest: 589.8046884\tbest: 585.8813770 (351)\ttotal: 1m 29s\tremaining: 6s\n",
            "937:\tlearn: 493.5273104\ttest: 589.8010663\tbest: 585.8813770 (351)\ttotal: 1m 29s\tremaining: 5.9s\n",
            "938:\tlearn: 493.5201013\ttest: 589.8069263\tbest: 585.8813770 (351)\ttotal: 1m 29s\tremaining: 5.8s\n",
            "939:\tlearn: 493.4996923\ttest: 589.8035159\tbest: 585.8813770 (351)\ttotal: 1m 29s\tremaining: 5.71s\n",
            "940:\tlearn: 493.4808899\ttest: 589.8200843\tbest: 585.8813770 (351)\ttotal: 1m 29s\tremaining: 5.61s\n",
            "941:\tlearn: 493.3546870\ttest: 589.8138598\tbest: 585.8813770 (351)\ttotal: 1m 29s\tremaining: 5.51s\n",
            "942:\tlearn: 493.2353514\ttest: 589.9169284\tbest: 585.8813770 (351)\ttotal: 1m 29s\tremaining: 5.42s\n",
            "943:\tlearn: 493.1556803\ttest: 589.9456822\tbest: 585.8813770 (351)\ttotal: 1m 29s\tremaining: 5.32s\n",
            "944:\tlearn: 493.1431053\ttest: 589.9435513\tbest: 585.8813770 (351)\ttotal: 1m 29s\tremaining: 5.22s\n",
            "945:\tlearn: 493.0236594\ttest: 589.9670271\tbest: 585.8813770 (351)\ttotal: 1m 29s\tremaining: 5.13s\n",
            "946:\tlearn: 492.9856782\ttest: 589.9700451\tbest: 585.8813770 (351)\ttotal: 1m 29s\tremaining: 5.03s\n",
            "947:\tlearn: 492.8948641\ttest: 589.9279175\tbest: 585.8813770 (351)\ttotal: 1m 29s\tremaining: 4.94s\n",
            "948:\tlearn: 492.7131416\ttest: 589.9168664\tbest: 585.8813770 (351)\ttotal: 1m 30s\tremaining: 4.84s\n",
            "949:\tlearn: 492.7068430\ttest: 589.9197802\tbest: 585.8813770 (351)\ttotal: 1m 30s\tremaining: 4.74s\n",
            "950:\tlearn: 492.6554416\ttest: 589.9433206\tbest: 585.8813770 (351)\ttotal: 1m 30s\tremaining: 4.65s\n",
            "951:\tlearn: 492.6397296\ttest: 589.9413734\tbest: 585.8813770 (351)\ttotal: 1m 30s\tremaining: 4.55s\n",
            "952:\tlearn: 492.6169013\ttest: 589.9497488\tbest: 585.8813770 (351)\ttotal: 1m 30s\tremaining: 4.45s\n",
            "953:\tlearn: 492.5461231\ttest: 589.9525052\tbest: 585.8813770 (351)\ttotal: 1m 30s\tremaining: 4.36s\n",
            "954:\tlearn: 492.2689850\ttest: 589.9962767\tbest: 585.8813770 (351)\ttotal: 1m 30s\tremaining: 4.26s\n",
            "955:\tlearn: 492.1709424\ttest: 589.9781672\tbest: 585.8813770 (351)\ttotal: 1m 30s\tremaining: 4.17s\n",
            "956:\tlearn: 492.1365251\ttest: 589.9859285\tbest: 585.8813770 (351)\ttotal: 1m 30s\tremaining: 4.07s\n",
            "957:\tlearn: 492.0585637\ttest: 590.0005784\tbest: 585.8813770 (351)\ttotal: 1m 30s\tremaining: 3.98s\n",
            "958:\tlearn: 492.0003586\ttest: 589.9850546\tbest: 585.8813770 (351)\ttotal: 1m 30s\tremaining: 3.88s\n",
            "959:\tlearn: 491.9690936\ttest: 590.0215154\tbest: 585.8813770 (351)\ttotal: 1m 30s\tremaining: 3.78s\n",
            "960:\tlearn: 491.8788959\ttest: 590.0116277\tbest: 585.8813770 (351)\ttotal: 1m 30s\tremaining: 3.69s\n",
            "961:\tlearn: 491.8294350\ttest: 590.0312751\tbest: 585.8813770 (351)\ttotal: 1m 30s\tremaining: 3.59s\n",
            "962:\tlearn: 491.8081265\ttest: 590.0488777\tbest: 585.8813770 (351)\ttotal: 1m 31s\tremaining: 3.5s\n",
            "963:\tlearn: 491.6534410\ttest: 590.0346914\tbest: 585.8813770 (351)\ttotal: 1m 31s\tremaining: 3.4s\n",
            "964:\tlearn: 491.4070464\ttest: 590.0902583\tbest: 585.8813770 (351)\ttotal: 1m 31s\tremaining: 3.31s\n",
            "965:\tlearn: 491.4015294\ttest: 590.0932896\tbest: 585.8813770 (351)\ttotal: 1m 31s\tremaining: 3.21s\n",
            "966:\tlearn: 491.2402066\ttest: 590.0933258\tbest: 585.8813770 (351)\ttotal: 1m 31s\tremaining: 3.12s\n",
            "967:\tlearn: 491.1957587\ttest: 590.0721697\tbest: 585.8813770 (351)\ttotal: 1m 31s\tremaining: 3.02s\n",
            "968:\tlearn: 491.1769220\ttest: 590.0926606\tbest: 585.8813770 (351)\ttotal: 1m 31s\tremaining: 2.92s\n",
            "969:\tlearn: 491.1236399\ttest: 590.0914052\tbest: 585.8813770 (351)\ttotal: 1m 31s\tremaining: 2.83s\n",
            "970:\tlearn: 491.0783026\ttest: 590.1204465\tbest: 585.8813770 (351)\ttotal: 1m 31s\tremaining: 2.73s\n",
            "971:\tlearn: 490.9694406\ttest: 590.1400624\tbest: 585.8813770 (351)\ttotal: 1m 31s\tremaining: 2.64s\n",
            "972:\tlearn: 490.9239894\ttest: 590.1449317\tbest: 585.8813770 (351)\ttotal: 1m 31s\tremaining: 2.54s\n",
            "973:\tlearn: 490.8690779\ttest: 590.1614308\tbest: 585.8813770 (351)\ttotal: 1m 31s\tremaining: 2.45s\n",
            "974:\tlearn: 490.7345116\ttest: 590.1384286\tbest: 585.8813770 (351)\ttotal: 1m 31s\tremaining: 2.36s\n",
            "975:\tlearn: 490.6728660\ttest: 590.1865140\tbest: 585.8813770 (351)\ttotal: 1m 32s\tremaining: 2.26s\n",
            "976:\tlearn: 490.6497768\ttest: 590.1895174\tbest: 585.8813770 (351)\ttotal: 1m 32s\tremaining: 2.17s\n",
            "977:\tlearn: 490.6307835\ttest: 590.2085228\tbest: 585.8813770 (351)\ttotal: 1m 32s\tremaining: 2.08s\n",
            "978:\tlearn: 490.5781046\ttest: 590.2085517\tbest: 585.8813770 (351)\ttotal: 1m 32s\tremaining: 1.98s\n",
            "979:\tlearn: 490.5221866\ttest: 590.1792443\tbest: 585.8813770 (351)\ttotal: 1m 32s\tremaining: 1.89s\n",
            "980:\tlearn: 490.4322273\ttest: 590.1057827\tbest: 585.8813770 (351)\ttotal: 1m 32s\tremaining: 1.79s\n",
            "981:\tlearn: 490.3781308\ttest: 590.1008445\tbest: 585.8813770 (351)\ttotal: 1m 32s\tremaining: 1.7s\n",
            "982:\tlearn: 490.1593957\ttest: 590.1755473\tbest: 585.8813770 (351)\ttotal: 1m 32s\tremaining: 1.61s\n",
            "983:\tlearn: 490.1417236\ttest: 590.1844495\tbest: 585.8813770 (351)\ttotal: 1m 33s\tremaining: 1.51s\n",
            "984:\tlearn: 489.9771479\ttest: 590.1180941\tbest: 585.8813770 (351)\ttotal: 1m 33s\tremaining: 1.42s\n",
            "985:\tlearn: 489.9666388\ttest: 590.1195410\tbest: 585.8813770 (351)\ttotal: 1m 33s\tremaining: 1.32s\n",
            "986:\tlearn: 489.9456716\ttest: 590.1116289\tbest: 585.8813770 (351)\ttotal: 1m 33s\tremaining: 1.23s\n",
            "987:\tlearn: 489.8991499\ttest: 590.1040645\tbest: 585.8813770 (351)\ttotal: 1m 33s\tremaining: 1.14s\n",
            "988:\tlearn: 489.8796974\ttest: 590.1065911\tbest: 585.8813770 (351)\ttotal: 1m 33s\tremaining: 1.04s\n",
            "989:\tlearn: 489.8404088\ttest: 590.0904481\tbest: 585.8813770 (351)\ttotal: 1m 33s\tremaining: 948ms\n",
            "990:\tlearn: 489.7245484\ttest: 590.1626514\tbest: 585.8813770 (351)\ttotal: 1m 34s\tremaining: 854ms\n",
            "991:\tlearn: 489.6218518\ttest: 590.1405691\tbest: 585.8813770 (351)\ttotal: 1m 34s\tremaining: 759ms\n",
            "992:\tlearn: 489.5750317\ttest: 590.1806244\tbest: 585.8813770 (351)\ttotal: 1m 34s\tremaining: 664ms\n",
            "993:\tlearn: 489.4625486\ttest: 590.1439975\tbest: 585.8813770 (351)\ttotal: 1m 34s\tremaining: 570ms\n",
            "994:\tlearn: 489.4185998\ttest: 590.1275647\tbest: 585.8813770 (351)\ttotal: 1m 34s\tremaining: 475ms\n",
            "995:\tlearn: 489.3542227\ttest: 590.1169995\tbest: 585.8813770 (351)\ttotal: 1m 34s\tremaining: 380ms\n",
            "996:\tlearn: 489.2824469\ttest: 590.1245455\tbest: 585.8813770 (351)\ttotal: 1m 34s\tremaining: 285ms\n",
            "997:\tlearn: 489.2602452\ttest: 590.1268353\tbest: 585.8813770 (351)\ttotal: 1m 34s\tremaining: 190ms\n",
            "998:\tlearn: 489.1684585\ttest: 590.1277060\tbest: 585.8813770 (351)\ttotal: 1m 34s\tremaining: 95.1ms\n",
            "999:\tlearn: 489.1649576\ttest: 590.1353474\tbest: 585.8813770 (351)\ttotal: 1m 35s\tremaining: 0us\n",
            "\n",
            "bestTest = 585.881377\n",
            "bestIteration = 351\n",
            "\n",
            "Shrink model to first 352 iterations.\n"
          ]
        },
        {
          "output_type": "execute_result",
          "data": {
            "text/plain": [
              "<catboost.core.CatBoostRegressor at 0x788bc748a560>"
            ]
          },
          "metadata": {},
          "execution_count": 15
        }
      ]
    },
    {
      "cell_type": "code",
      "source": [
        "test.drop('ID',axis=1,inplace=True)"
      ],
      "metadata": {
        "id": "ri4jeMjvJ0FY"
      },
      "execution_count": null,
      "outputs": []
    },
    {
      "cell_type": "code",
      "source": [
        "test_pool = Pool(data = test, cat_features = categorical_features)\n",
        "test_pred = cat.predict(test_pool)"
      ],
      "metadata": {
        "id": "X5RXux01Jkjo"
      },
      "execution_count": null,
      "outputs": []
    },
    {
      "cell_type": "code",
      "source": [
        "import matplotlib.pyplot as plt\n",
        "import seaborn as sns\n",
        "\n",
        "%matplotlib inline"
      ],
      "metadata": {
        "id": "dpEczLuUMl1K"
      },
      "execution_count": null,
      "outputs": []
    },
    {
      "cell_type": "code",
      "source": [
        "cat_importances_values = cat.feature_importances_\n",
        "cat_importances = pd.Series(cat_importances_values,index=x_train.columns)\n",
        "cat_top20 = sorted(cat_importances,reverse=True)[:20]"
      ],
      "metadata": {
        "id": "p2fzJk3VMdYG"
      },
      "execution_count": null,
      "outputs": []
    },
    {
      "cell_type": "code",
      "source": [
        "sns.barplot(x=cat_importances, y= cat_importances.index)\n",
        "plt.show()"
      ],
      "metadata": {
        "colab": {
          "base_uri": "https://localhost:8080/",
          "height": 449
        },
        "id": "A9G5Y0MgMfkl",
        "outputId": "0c60cbca-89ba-411e-9774-7265138aca15"
      },
      "execution_count": null,
      "outputs": [
        {
          "output_type": "display_data",
          "data": {
            "text/plain": [
              "<Figure size 640x480 with 1 Axes>"
            ],
            "image/png": "[encoded data removed]"
          },
          "metadata": {}
        }
      ]
    },
    {
      "cell_type": "markdown",
      "source": [
        "#### 2-1-b. importance가 낮은 라벨을 버려보자 (상위 5개만) -> 폐기"
      ],
      "metadata": {
        "id": "-gwCbBRrW1Fv"
      }
    },
    {
      "cell_type": "code",
      "source": [
        "# cat_importances[cat_importances>5]\n",
        "# train = pd.read_csv(\"/content/drive/MyDrive/data_0325/train.csv\")\n",
        "# train.drop('ID',axis=1,inplace=True)\n",
        "# tmp_train = train[['Age','Education_Status',\"Industry_Status\",\"Occupation_Status\",\"Income_Status\",\"Income\"]]\n",
        "# tmp_test = test[['Age','Education_Status',\"Industry_Status\",\"Occupation_Status\",\"Income_Status\"]]\n",
        "# tmp_test\n",
        "# tmp_categorical_features = [\n",
        "#     'Education_Status',\n",
        "#     \"Industry_Status\",\n",
        "#     \"Occupation_Status\",\n",
        "#     \"Income_Status\"\n",
        "# ]\n",
        "# target = tmp_train['Income']\n",
        "# tmp_train = tmp_train.drop('Income',axis=1)\n",
        "# x_train, x_valid, y_train,y_valid = train_test_split(tmp_train,target,test_size=0.2,random_state=42)\n",
        "# train_pool = Pool(data=x_train,label=y_train, cat_features = tmp_categorical_features)\n",
        "# valid_pool = Pool(data=x_valid,label=y_valid,cat_features = tmp_categorical_features)\n",
        "# cat = CatBoostRegressor(iterations=1000, learning_rate = 0.1, random_strength = 0.5, depth = 7, random_state = 42)\n",
        "# cat.fit(train_pool,eval_set=(valid_pool),verbose = 1)\n",
        "# tmp_test = test[['Age','Education_Status',\"Industry_Status\",\"Occupation_Status\",\"Income_Status\"]]\n",
        "# tmp_test\n",
        "# test_pool = Pool(data = tmp_test, cat_features = tmp_categorical_features)\n",
        "# test_pred = cat.predict(test_pool)"
      ],
      "metadata": {
        "id": "af2IMeAFNGWK",
        "colab": {
          "base_uri": "https://localhost:8080/"
        },
        "outputId": "9ff6947b-fc15-4741-ca24-336afe0c8f4b"
      },
      "execution_count": null,
      "outputs": [
        {
          "output_type": "execute_result",
          "data": {
            "text/plain": [
              "Age                   6.173754\n",
              "Education_Status      5.393446\n",
              "Industry_Status      18.199361\n",
              "Occupation_Status    26.341090\n",
              "Income_Status         6.014164\n",
              "dtype: float64"
            ]
          },
          "metadata": {},
          "execution_count": 76
        }
      ]
    },
    {
      "cell_type": "markdown",
      "source": [
        "### 2-2. LightGBM"
      ],
      "metadata": {
        "id": "mIa_NgMezLI-"
      }
    },
    {
      "cell_type": "code",
      "source": [
        "import lightgbm as lgb"
      ],
      "metadata": {
        "id": "UIsOAZ5rzmBt"
      },
      "execution_count": null,
      "outputs": []
    },
    {
      "cell_type": "code",
      "source": [
        "train,test = encodedData()"
      ],
      "metadata": {
        "id": "GeJVl4t-29Mj"
      },
      "execution_count": null,
      "outputs": []
    },
    {
      "cell_type": "code",
      "source": [
        "x_train, x_valid, y_train, y_valid = split(train, test)"
      ],
      "metadata": {
        "id": "qaGZwabL3PQG"
      },
      "execution_count": null,
      "outputs": []
    },
    {
      "cell_type": "code",
      "source": [
        "train_data = lgb.Dataset(x_train, label=y_train)\n",
        "test_data = lgb.Dataset(x_valid, label=y_valid)\n",
        "\n",
        "params = {\n",
        "    'objective': 'regression',\n",
        "    'metric': 'mse',\n",
        "    'num_leaves': 31,\n",
        "    'learning_rate': 0.1,\n",
        "    'feature_fraction': 0.9\n",
        "}\n",
        "\n",
        "model = lgb.train(params, train_data, num_boost_round=100)\n"
      ],
      "metadata": {
        "colab": {
          "base_uri": "https://localhost:8080/"
        },
        "id": "XFt1Wj7gzh0e",
        "outputId": "b33a5660-3746-4564-a379-fcfa05577725"
      },
      "execution_count": null,
      "outputs": [
        {
          "output_type": "stream",
          "name": "stdout",
          "text": [
            "[LightGBM] [Warning] Found whitespace in feature_names, replace with underlines\n",
            "[LightGBM] [Info] Auto-choosing row-wise multi-threading, the overhead of testing was 0.001955 seconds.\n",
            "You can set `force_row_wise=true` to remove the overhead.\n",
            "And if memory is not enough, you can set `force_col_wise=true`.\n",
            "[LightGBM] [Info] Total Bins 770\n",
            "[LightGBM] [Info] Number of data points in the train set: 16000, number of used features: 21\n",
            "[LightGBM] [Info] Start training from score 556.153500\n"
          ]
        }
      ]
    },
    {
      "cell_type": "code",
      "source": [
        "test_pred = model.predict(test)"
      ],
      "metadata": {
        "id": "p182Lo8Mzu9e"
      },
      "execution_count": null,
      "outputs": []
    },
    {
      "cell_type": "markdown",
      "source": [
        "## 3. 제출"
      ],
      "metadata": {
        "id": "zOzPvtNteLuC"
      }
    },
    {
      "cell_type": "code",
      "source": [
        "submit = pd.read_csv(\"/content/drive/MyDrive/data_0325/sample_submission.csv\")\n",
        "submit['Income'] = test_pred\n",
        "submit.to_csv(\"/content/drive/MyDrive/data_0325/trial5.csv\",index=False)"
      ],
      "metadata": {
        "id": "VB2xaYgjJPJg"
      },
      "execution_count": null,
      "outputs": []
    }
  ]
}